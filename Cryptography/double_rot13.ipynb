{
 "cells": [
  {
   "cell_type": "markdown",
   "id": "simplified-junction",
   "metadata": {},
   "source": [
    "# Cryptography excercise in Double-ROT13 encoding\n",
    "based on [2004 article](http://www.pruefziffernberechnung.de/Originaldokumente/2rot13.pdf) by #mum cryptolabs"
   ]
  },
  {
   "cell_type": "code",
   "execution_count": 1,
   "id": "martial-robertson",
   "metadata": {},
   "outputs": [],
   "source": [
    "class ROT(object):\n",
    "    def __init__(self, key=13, turns=1):\n",
    "        \"\"\" class for ROT encoding and decoding\n",
    "        Keyword arguments:\n",
    "        key -- number fo positions for shifting alphabet\n",
    "        turns -- number of turns for repeated encoding \n",
    "        initializes list of alphabets used. EN and RU supported \n",
    "        \"\"\"\n",
    "        self.key = key\n",
    "        self.turns = turns\n",
    "        self.alphabets = ['abcdefghijklmnopqrstuvwxyz',\n",
    "                          'ABCDEFGHIJKLMNOPQRSTUVWXYZ',\n",
    "                          'абвгдеёжзийклмнопрстуфхцчшщъыьэюя',\n",
    "                          'АБВГДЕЁЖЗИЙКЛМНОПРСТУФХЦЧШЩЪЫЬЭЮЯ']\n",
    "\n",
    "    def encode(self, text, decode=False):\n",
    "        \"\"\" encodes text with initialized parameters\n",
    "        arguments:\n",
    "        text -- input text\n",
    "        decode -- operation choice. True for decode, False for encode\n",
    "        \"\"\"\n",
    "        key = -self.key if decode else self.key\n",
    "        for turn in range(self.turns):\n",
    "            text = ''.join([self.shift_char(c, key) for c in text])\n",
    "        return text\n",
    "\n",
    "    def decode(self, text):\n",
    "        \"\"\"opposite of encode\"\"\"\n",
    "        return self.encode(text, decode=True)\n",
    "\n",
    "    def shift_char(self, c, key):\n",
    "        \"\"\"encodes single char if present in alpahbets\"\"\"\n",
    "        for abc in self.alphabets:\n",
    "            if c in abc:\n",
    "                old_index = abc.index(c)\n",
    "                new_index = (old_index + key) % len(abc)\n",
    "                return abc[new_index]\n",
    "        return c"
   ]
  },
  {
   "cell_type": "code",
   "execution_count": 2,
   "id": "historic-standing",
   "metadata": {},
   "outputs": [
    {
     "name": "stdout",
     "output_type": "stream",
     "text": [
      "Original text: Some test string. Тестовая строка.\n",
      "Encoded text:  Fbzr grfg fgevat. Ясюяыомл юяэычм.\n",
      "Decoded text:  Some test string. Тестовая строка.\n"
     ]
    }
   ],
   "source": [
    "\"\"\" single string test \"\"\"\n",
    "\n",
    "test_string = 'Some test string. Тестовая строка.'\n",
    "\n",
    "print(\"Original text:\", test_string)\n",
    "print(\"Encoded text: \", ROT().encode(test_string))\n",
    "print(\"Decoded text: \", ROT().decode(ROT().encode(test_string)))"
   ]
  },
  {
   "cell_type": "code",
   "execution_count": 3,
   "id": "living-antarctica",
   "metadata": {},
   "outputs": [
    {
     "name": "stdout",
     "output_type": "stream",
     "text": [
      "ENCODED TEXT:\n",
      "\n",
      "Ornhgvshy vf orggre guna htyl.\n",
      "Rkcyvpvg vf orggre guna vzcyvpvg.\n",
      "Fvzcyr vf orggre guna pbzcyrk.\n",
      "\n",
      "DECODED TEXT:\n",
      "\n",
      "Beautiful is better than ugly.\n",
      "Explicit is better than implicit.\n",
      "Simple is better than complex.\n"
     ]
    }
   ],
   "source": [
    "\"\"\" larger text test \"\"\"\n",
    "\n",
    "from this import s as encoded_text\n",
    "print('ENCODED TEXT:\\n')\n",
    "print(encoded_text[34:129])\n",
    "\n",
    "decoded_text = (ROT(13, 1).decode(encoded_text))\n",
    "print('\\nDECODED TEXT:\\n')\n",
    "print(decoded_text[34:129])"
   ]
  },
  {
   "cell_type": "code",
   "execution_count": 4,
   "id": "handed-breakdown",
   "metadata": {},
   "outputs": [
    {
     "name": "stdout",
     "output_type": "stream",
     "text": [
      "Test passed OK!\n"
     ]
    }
   ],
   "source": [
    "\"\"\" Double ROT testing \"\"\"\n",
    "double_rot13 = ROT(13, 2)\n",
    "\n",
    "for line in decoded_text.split('\\n'):\n",
    "    assert double_rot13.decode(double_rot13.encode(line)) == line\n",
    "\n",
    "print(\"Test passed OK!\")"
   ]
  }
 ],
 "metadata": {
  "kernelspec": {
   "display_name": "Python 3",
   "language": "python",
   "name": "python3"
  },
  "language_info": {
   "codemirror_mode": {
    "name": "ipython",
    "version": 3
   },
   "file_extension": ".py",
   "mimetype": "text/x-python",
   "name": "python",
   "nbconvert_exporter": "python",
   "pygments_lexer": "ipython3",
   "version": "3.8.5"
  }
 },
 "nbformat": 4,
 "nbformat_minor": 5
}
