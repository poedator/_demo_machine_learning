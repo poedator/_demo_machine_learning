{
 "cells": [
  {
   "cell_type": "markdown",
   "metadata": {},
   "source": [
    "<b><font size=\"+3\">Финальный проект для курса \"Otus Data Science\"</font></b>\n",
    "\n",
    "<font size=\"+2\">Этап A: Тестирование методов глубокого обучения с подкреплением\n",
    "на примере задачи обратного маятника (openai gym cartpole)</font>"
   ]
  },
  {
   "cell_type": "markdown",
   "metadata": {},
   "source": [
    "# План исследования:\n",
    "    Этап A. исследование методов обучения с подкреплением на простой модели (OpenAI Gym Cartpole)\n",
    "        1. Построение работающей модели\n",
    "        2. Tестирование оптимизационных изменений модели \n",
    "            - структуры нейросети\n",
    "            - выбор оптимизатора\n",
    "            - выбор активации\n",
    "            - выбор функции ошибки\n",
    "            - выбор параметра/функции Epsilon \n",
    "            - выбор параметра дисконтирования (gamma)\n",
    "            - Алгоритмы выбора подвыборки для обучения\n",
    "            - размер подвыборки (bath size)\n",
    "            - частота обновления target network\n",
    "            - error clipping (ограничение значений ошибки)\n",
    "            - Double DQN\n",
    "            - Dueling DQN           \n",
    "    \n",
    "    Этап  B. Построение и оптимизация модели работающей с видео выходом (OpenAI Gym Racer)\n",
    "    \n",
    "    Этап  C. Обучение модели для игры в простую настольную игру (\"Connect Four\")\n",
    "    \n",
    "\n",
    "**Источники:**\n",
    "\n",
    "“Human-level control through deep reinforcement learning” https://storage.googleapis.com/deepmind-media/dqn/DQNNaturePaper.pdf\n",
    "\n",
    "“Playing Atari with Deep Reinforcement Learning”\n",
    "https://arxiv.org/pdf/1312.5602v1.pdf\n",
    "\n",
    "“Deep Reinforcement Learning with Double Q-learning”\n",
    "https://arxiv.org/pdf/1509.06461.pdf\n",
    "\n",
    "“Dueling Network Architectures for Deep Reinforcement Learning”\n",
    "https://arxiv.org/pdf/1511.06581.pdf\n",
    "\n",
    "Udemy Course \"Reinforcement Learning with Pytorch\" (with some code borrowed) https://www.udemy.com/reinforcement-learning-with-pytorch/"
   ]
  },
  {
   "cell_type": "markdown",
   "metadata": {},
   "source": [
    "# Experiments Setup"
   ]
  },
  {
   "cell_type": "markdown",
   "metadata": {},
   "source": [
    "### imports"
   ]
  },
  {
   "cell_type": "code",
   "execution_count": 2,
   "metadata": {},
   "outputs": [],
   "source": [
    "import numpy as np\n",
    "import random\n",
    "import math\n",
    "import time\n",
    "import copy\n",
    "from PIL import Image\n",
    "from itertools import zip_longest\n",
    "from tqdm import tqdm_notebook\n",
    "\n",
    "import matplotlib.pyplot as plt\n",
    "%matplotlib inline"
   ]
  },
  {
   "cell_type": "code",
   "execution_count": 3,
   "metadata": {},
   "outputs": [
    {
     "name": "stdout",
     "output_type": "stream",
     "text": [
      "Torch: 1.2.0, device: cpu\n"
     ]
    }
   ],
   "source": [
    "import torch\n",
    "import torch.nn as nn\n",
    "import torch.optim as optim\n",
    "import torch.nn.functional as F\n",
    "import torchvision.transforms as T\n",
    "Tensor = torch.Tensor\n",
    "LongTensor = torch.LongTensor\n",
    "\n",
    "# device = torch.device(\"cuda\" if torch.cuda.is_available() else \"cpu\")\n",
    "device = torch.device(\"cpu\")\n",
    "print(f\"Torch: {torch.__version__}, device: {device}\")"
   ]
  },
  {
   "cell_type": "markdown",
   "metadata": {},
   "source": [
    "### aux functions"
   ]
  },
  {
   "cell_type": "code",
   "execution_count": 4,
   "metadata": {},
   "outputs": [],
   "source": [
    "\"\"\"GYM setup\"\"\"\n",
    "# gym source code: https://github.com/openai/gym/blob/master/gym/envs/classic_control/cartpole.py\n",
    "        \n",
    "import gym\n",
    "env = gym.make('CartPole-v0')\n",
    "number_of_inputs = env.observation_space.shape[0]\n",
    "number_of_outputs = env.action_space.n\n",
    "\n",
    "seed_value = 42\n",
    "env.seed(seed_value)\n",
    "torch.manual_seed(seed_value)\n",
    "random.seed(seed_value)\n",
    "\n",
    "max_steps = 200 # get_from Gym\n",
    "score_to_solve = max_steps - 5"
   ]
  },
  {
   "cell_type": "markdown",
   "metadata": {},
   "source": [
    "### epsilon function"
   ]
  },
  {
   "cell_type": "code",
   "execution_count": 5,
   "metadata": {},
   "outputs": [
    {
     "name": "stdout",
     "output_type": "stream",
     "text": [
      "0.3742006467597279 0.010044945930464861\n"
     ]
    },
    {
     "data": {
      "image/png": "[encoded data removed]",
      "text/plain": [
       "<Figure size 432x288 with 1 Axes>"
      ]
     },
     "metadata": {
      "needs_background": "light"
     },
     "output_type": "display_data"
    }
   ],
   "source": [
    "def get_epsilon(step, params=None):\n",
    "    \"\"\"Epsilon adjustment function (exponential)\"\"\"\n",
    "    if params is None:\n",
    "        params = {'start': 1, 'end': 0.01, 'decay': 100}  # <= defaults\n",
    "    return params['end'] + (params['start']-params['end']) * \\\n",
    "        math.exp(-1. * step / params['decay'])\n",
    "\n",
    "def get_epsilon_linear(step, params=None):\n",
    "    \"\"\" Epsilon adjustment function (linear)\"\"\"\n",
    "    if params is None:\n",
    "        params = {'start': 1, 'end': 0.01, 'period': 500}  # <= defaults\n",
    "    return params['start'] - min(params['period'], step) * \\\n",
    "        (params['start']-params['end']) / params['period'] \n",
    "    \n",
    "plt.plot([get_epsilon_linear(s, None) for s in range (1000)])\n",
    "plt.plot([get_epsilon(s, None) for s in range (1000)])\n",
    "\n",
    "print(get_epsilon(100), get_epsilon(1000))"
   ]
  },
  {
   "cell_type": "markdown",
   "metadata": {},
   "source": [
    "### memory"
   ]
  },
  {
   "cell_type": "code",
   "execution_count": 6,
   "metadata": {},
   "outputs": [],
   "source": [
    "replay_mem_size = 10000\n",
    "\n",
    "class ReplayMemory(object):\n",
    "    \"\"\" basic memry class from Torch example \"\"\"\n",
    "    def __init__(self, capacity=replay_mem_size):\n",
    "        self.capacity = capacity\n",
    "        self.memory = []\n",
    "        self.position = 0\n",
    "\n",
    "    def push(self, state, action, new_state, reward, done):\n",
    "        transition = (state, action, new_state, reward, done)\n",
    "\n",
    "        if self.position >= len(self.memory):\n",
    "            self.memory.append(transition)\n",
    "        else:\n",
    "            self.memory[self.position] = transition\n",
    "\n",
    "        self.position = (self.position + 1) % self.capacity\n",
    "\n",
    "    def push_batch (self, batch):\n",
    "        for state, action, new_state, reward, done in batch:\n",
    "            self.push (state, action, new_state, reward, done)\n",
    "            \n",
    "    def sample(self, batch_size):\n",
    "        return zip(*random.sample(self.memory, batch_size))\n",
    "    \n",
    "    def reset (self):\n",
    "        self.memory = []\n",
    "        self.position = 0\n",
    "\n",
    "    def __len__(self):\n",
    "        return len(self.memory)\n",
    "\n",
    "class ReplayMemory3(ReplayMemory):\n",
    "    \"\"\" variant with separate list of keys for deduplication\"\"\"\n",
    "    def __init__(self, capacity=10000):\n",
    "        self.capacity = capacity\n",
    "        self.memory = []\n",
    "        self.keys=[]\n",
    "        self.position = 0\n",
    "\n",
    "    def push(self, state, action, new_state, reward, done):\n",
    "        transition = (state, action, new_state, reward, done)\n",
    "\n",
    "        if self.position >= len(self.memory):\n",
    "            self.memory.append(transition)\n",
    "        else:\n",
    "            self.memory[self.position] = transition\n",
    "        self.position = (self.position + 1) % self.capacity\n",
    "\n",
    "    def reset (self):\n",
    "        self.memory = []\n",
    "        self.position = 0\n",
    "\n",
    "\n",
    "class ReplayMemory4():\n",
    "    \"\"\" Uses separate memories for positive and negative experiences \"\"\"\n",
    "    def __init__(self, capacity=10000):\n",
    "        self.capacity = capacity\n",
    "        self.positives = ReplayMemory3(capacity=capacity//2)\n",
    "        self.negatives = ReplayMemory3(capacity=capacity//2)\n",
    "\n",
    "    def push_batch (self, batch):\n",
    "        posi_batch = [b for b in batch if b[3]>0.9]\n",
    "        nega_batch = [b for b in batch if b[3]<=0.9]\n",
    "        self.positives.push_batch(posi_batch)\n",
    "        self.negatives.push_batch(nega_batch)\n",
    "    \n",
    "    def push(self, state, action, new_state, reward, done):\n",
    "        raise NotimplementedError\n",
    "        \n",
    "    def sample(self, batch_size):\n",
    "        posi_size = min (len(self.positives), batch_size//2)\n",
    "        nega_size = min (len(self.negatives), batch_size - posi_size)\n",
    "        if nega_size < batch_size //2:\n",
    "            posi_size = batch_size - nega_size\n",
    "        posi_sample = list(self.positives.sample(posi_size))\n",
    "        nega_sample = list(self.negatives.sample(nega_size))\n",
    "        return [p+n for p, n in zip_longest (posi_sample, nega_sample)]\n",
    "    \n",
    "    def reset (self):\n",
    "        self.positives.reset()\n",
    "        self.negatives.reset()\n",
    "                \n",
    "    def __len__(self):\n",
    "        return min(self.positives.__len__(), self.negatives.__len__())*2"
   ]
  },
  {
   "cell_type": "markdown",
   "metadata": {},
   "source": [
    "### Neural Networks"
   ]
  },
  {
   "cell_type": "code",
   "execution_count": 7,
   "metadata": {},
   "outputs": [],
   "source": [
    "\"\"\" NEURAL NETWORKS \"\"\"\n",
    "activations = {'relu': nn.ReLU, 'tanh': nn.Tanh}\n",
    "\n",
    "class NeuralNetwork(nn.Module):\n",
    "    \"\"\"\n",
    "    NN class with FC layers only\n",
    "    :param hidden: iterable of FC layer sizes\n",
    "    \"\"\"\n",
    "    def __init__(self, hidden, inputs=number_of_inputs, outputs=number_of_outputs, \n",
    "                 activation='relu'):\n",
    "        super(NeuralNetwork, self).__init__()\n",
    "        layers = [inputs] + hidden + [outputs]\n",
    "        layers_number = len(layers) - 1\n",
    "        self.fc_list= nn.ModuleList()\n",
    "        for i in range (layers_number):\n",
    "            self.fc_list.append(nn.Linear(layers[i],layers[i+1]))\n",
    "\n",
    "        self.activation = activations[activation]()\n",
    "\n",
    "    def forward(self, x):\n",
    "        out = self.fc_list[0](x)\n",
    "        for i in range (1, self.fc_list.__len__()):\n",
    "            out = self.activation(out)\n",
    "            out = self.fc_list[i](out)\n",
    "        return out\n",
    "\n",
    "class NeuralNetwork_Dueling(nn.Module):\n",
    "    \"\"\" Dualing NN based on Udemy example \"\"\"\n",
    "    def __init__(self, hidden=32, inputs=number_of_inputs, outputs=number_of_outputs, \n",
    "                 activation='relu'):\n",
    "        super(NeuralNetwork_Dueling, self).__init__()\n",
    "        self.linear1 = nn.Linear(inputs,hidden)\n",
    "        self.advantage = nn.Linear(hidden, outputs)\n",
    "        self.value = nn.Linear(hidden, 1)\n",
    "        self.activation = activations[activation]()\n",
    "\n",
    "    def forward(self, x):\n",
    "        out1 = self.linear1(x)\n",
    "        out1 = self.activation(out1)       \n",
    "        out_adv = self.advantage(out1)\n",
    "        out_val = self.value(out1)\n",
    "        out = out_val + out_adv - out_adv.mean()\n",
    "        return out  "
   ]
  },
  {
   "cell_type": "markdown",
   "metadata": {},
   "source": [
    "### Learning agent"
   ]
  },
  {
   "cell_type": "code",
   "execution_count": 8,
   "metadata": {},
   "outputs": [],
   "source": [
    "\"\"\" LEARNING AGENT \"\"\"\n",
    "# optimizers = {\"adam\": optim.Adam, \"rmsprop\": optim.RMSprop, \"sgd\": optim.SGD}\n",
    "\n",
    "\n",
    "\n",
    "class Agent_DQN(object):\n",
    "    def __init__(self, name, net, optimizer=\"adam\", lr=0.01, batch_size=32,\n",
    "                 double_dqn=False, clip_error=True, update_target_frequency=10,\n",
    "                 gamma=0.9999, loss_func='smooth_l1'):\n",
    "        self.name = name\n",
    "        self.double_dqn = double_dqn\n",
    "        self.clip_error = clip_error\n",
    "        self.batch_size = batch_size\n",
    "        self.update_target_frequency = update_target_frequency\n",
    "        self.gamma = gamma\n",
    "\n",
    "        self.memory = ReplayMemory4()\n",
    "        self.history = {'name': self.name, 'score': []}\n",
    "\n",
    "        self.nn = net.to(device)\n",
    "        self.target_nn = copy.deepcopy(self.nn).to(device)\n",
    "\n",
    "        loss_functions = {'mse': nn.MSELoss, 'smooth_l1': nn.SmoothL1Loss}\n",
    "        self.loss_func = loss_functions[loss_func]()\n",
    "\n",
    "        if optimizer == 'sgd':\n",
    "            self.optimizer = optim.SGD(\n",
    "                params=self.nn.parameters(), lr=lr, momentum=0.9)\n",
    "        elif optimizer == 'rmsprop':\n",
    "            self.optimizer = optim.RMSprop(params=self.nn.parameters(), lr=lr)\n",
    "        else:\n",
    "            self.optimizer = optim.Adam(params=self.nn.parameters(), lr=lr)\n",
    "\n",
    "        self.update_target_counter = 0\n",
    "        self.reset()\n",
    "    \n",
    "    @staticmethod\n",
    "    def weight_reset(m):\n",
    "        \"\"\"resets NN weights for FC and Conv layers \"\"\"\n",
    "        if isinstance(m, nn.Conv2d) or isinstance(m, nn.Linear):\n",
    "            m.reset_parameters()\n",
    "            \n",
    "    def reset(self):\n",
    "        self.nn.apply(self.weight_reset)\n",
    "        self.update_target_net()\n",
    "        self.memory.reset()\n",
    "        self.history = {'name': self.name, 'score': []}\n",
    "        self.update_target_counter = 0\n",
    "\n",
    "    def transform_state(self, state):\n",
    "        return torch.Tensor(state).unsqueeze(0).to(device)\n",
    "\n",
    "    def select_action(self, state, epsilon):\n",
    "        if torch.rand(1)[0] > epsilon:\n",
    "            with torch.no_grad():\n",
    "                state = Tensor(state).to(device)\n",
    "                action_from_nn = self.nn(state)\n",
    "                action = torch.max(action_from_nn, -1).indices.item()\n",
    "        else:\n",
    "            action = env.action_space.sample()\n",
    "        return action\n",
    "\n",
    "    def optimize(self, verbose=False, batch_size=None):\n",
    "        if batch_size is None:\n",
    "            batch_size = self.batch_size\n",
    "        if len(self.memory) < batch_size:\n",
    "            return\n",
    "        sample = self.memory.sample(batch_size)\n",
    "        self.optimize_engine(sample, verbose)\n",
    "\n",
    "    def optimize_engine(self, sample, verbose=False):\n",
    "        \"\"\" optimization routine\n",
    "        optimizes self.nn weights based on 1 run of sample batch\n",
    "        sample: tuple (state, action, new_state, reward, done)\n",
    "        sample dimensions = (batch_size, state dimension(s))\n",
    "        \"\"\"\n",
    "        global state\n",
    "\n",
    "        state, action, new_state, reward, done = sample\n",
    "        state_batch = torch.cat(state).to(device)\n",
    "        new_state = torch.cat(new_state).to(device)\n",
    "        reward_batch = torch.cat(reward).to(device)\n",
    "\n",
    "        action = LongTensor(action).to(device)\n",
    "        done = Tensor(done).to(device)\n",
    "\n",
    "        if self.double_dqn:  # idea from Udemy course\n",
    "            new_state_indexes = self.nn(new_state).detach()\n",
    "            max_new_state_indexes = torch.max(new_state_indexes, 1)[1]\n",
    "\n",
    "            new_state_values = self.target_nn(new_state).detach()\n",
    "            max_new_state_values = new_state_values.gather(\n",
    "                1, max_new_state_indexes.unsqueeze(1)).squeeze(1)\n",
    "        else:\n",
    "            new_state_values = self.target_nn(new_state).detach()\n",
    "            max_new_state_values = torch.max(new_state_values, 1)[0]\n",
    "\n",
    "        target_value = reward_batch + \\\n",
    "            (1 - done) * self.gamma * max_new_state_values  # Bellman Equation\n",
    "        predicted_value = self.nn(state_batch).gather(\n",
    "            1, action.unsqueeze(1)).squeeze(1)\n",
    "\n",
    "        loss = self.loss_func(predicted_value, target_value)\n",
    "        self.optimizer.zero_grad()\n",
    "        loss.backward()\n",
    "\n",
    "        if self.clip_error:  # limit error - idea from Deepmind’s paper:\n",
    "            for param in self.nn.parameters():\n",
    "                param.grad.data.clamp_(-1, 1)\n",
    "\n",
    "        self.optimizer.step()\n",
    "\n",
    "        if self.update_target_counter % self.update_target_frequency == 0:\n",
    "            self.update_target_net()\n",
    "\n",
    "        self.update_target_counter += 1\n",
    "\n",
    "    def update_target_net(self):\n",
    "        self.target_nn.load_state_dict(self.nn.state_dict())"
   ]
  },
  {
   "cell_type": "markdown",
   "metadata": {},
   "source": [
    "### LAB for experiments"
   ]
  },
  {
   "cell_type": "code",
   "execution_count": 9,
   "metadata": {},
   "outputs": [],
   "source": [
    "def transform_run_history(run_history):\n",
    "    \"\"\" исправляет историю перед отправкой в память\n",
    "    добавляет отрицательные награды в последние шаги перед падением\n",
    "    если история короче максимума\"\"\"\n",
    "    loss_score = -1.0\n",
    "    if len (run_history) < max_steps:\n",
    "        run_history[-1][3] *= loss_score\n",
    "        run_history[-2][3] *= loss_score / 2.0\n",
    "        run_history[-3][3] *= 0\n",
    "    return run_history"
   ]
  },
  {
   "cell_type": "code",
   "execution_count": 10,
   "metadata": {},
   "outputs": [],
   "source": [
    "class Lab(object):\n",
    "    \"\"\" \n",
    "    запускает тесты в Open.ai gym environment \n",
    "    в режимах обучения и тестирования\n",
    "    \"\"\"\n",
    "    \n",
    "    def __init__(self, env=gym.make('CartPole-v0')):\n",
    "        self.env = env\n",
    "        self.max_steps = 200\n",
    "\n",
    "    def test(self, agent, episodes=5, min_score=195, max_steps=200, verbose=0):\n",
    "        \"\"\"\n",
    "        Runs multiple episodes to chech whether agent can reach target score\n",
    "        \"\"\"\n",
    "        start_time = time.time()\n",
    "        for i_episode in range(episodes):\n",
    "            result, _ = self.run_episode(agent, training=False)\n",
    "            if verbose > 0:\n",
    "                print(f\" test:{i_episode}, score:{result}\")\n",
    "            elapsed_time = time.time() - start_time  # to be used\n",
    "\n",
    "            if result < min_score:\n",
    "                if verbose > 0:\n",
    "                    print(\"TEST FAILED...\")\n",
    "                return False\n",
    "        if verbose > 0:\n",
    "            print(\"TEST PASSED !\")\n",
    "        return True\n",
    "\n",
    "    def train(self, agent, max_episodes=1000,  verbose=0,  epsilon_params=None,\n",
    "              report_interval=10, ):\n",
    "        \"\"\"\n",
    "        Runs multiple episodes to checл whether agent can reach target score\n",
    "        :param agent: Agent to be trained\n",
    "        :param max_episodes:\n",
    "        :param verbose: 0=none, 1, 2\n",
    "        :param epsilon_params: tuple of 3 numbers for epsilon function \n",
    "        :param report_interval: episodes between brief reports (if verbose > 0)\n",
    "        \"\"\"\n",
    "        start_time = time.time()\n",
    "        solved = False\n",
    "\n",
    "        for i_episode in range(1, max_episodes+1):\n",
    "            epsilon = get_epsilon(i_episode, epsilon_params)\n",
    "            \n",
    "            result, run_history = self.run_episode(\n",
    "                agent, training=True, epsilon=epsilon)\n",
    "            \n",
    "            elapsed_time = time.time() - start_time\n",
    "\n",
    "            run_history = transform_run_history(run_history)\n",
    "            agent.memory.push_batch(run_history)\n",
    "#             agent.optimize()  # optimize after each step in the run_episode loop instead\n",
    "\n",
    "            agent.history['score'].append(result)\n",
    "            if i_episode % report_interval == 0 and verbose >= 2:\n",
    "                print(f\"Episode {i_episode}: \"\n",
    "                      f\"Last {report_interval} average: {sum(agent.history['score'][-report_interval:])/report_interval:.1f}; \"\n",
    "                      f\"Eps: {epsilon:.3f}, \"\n",
    "                      \"Elapsed:\", time.strftime(\"%M:%S\", time.gmtime(elapsed_time)))\n",
    "\n",
    "            if not solved and result >= score_to_solve:\n",
    "                if self.test(agent):\n",
    "                    if verbose >= 1:\n",
    "                        print(\"SOLVED! After %i episodes \" % i_episode)\n",
    "                    solved_after = i_episode\n",
    "                    solved = True\n",
    "                    break\n",
    "        agent.history['elapsed_time'] = elapsed_time\n",
    "        agent.history['episodes'] = i_episode\n",
    "\n",
    "        if verbose >= 1:\n",
    "            print(\n",
    "                f\"Elapsed {elapsed_time:.2f}s, per episode:{elapsed_time/i_episode:.2f}s, \")\n",
    "\n",
    "    def run_episode(self, agent, training=False, epsilon=0, verbose=1):\n",
    "        \"\"\"\n",
    "        runs single episode of gym with Agent\n",
    "        calls NN optimization function in training mode\n",
    "        \"\"\"\n",
    "        state = self.env.reset()\n",
    "        state = agent.transform_state(state)\n",
    "        run_history = []\n",
    "        counter = 0\n",
    "        done = False\n",
    "\n",
    "        for step in range(1, self.max_steps+1):  # and counter < max_steps:\n",
    "            action = agent.select_action(state, epsilon)\n",
    "\n",
    "            new_state, reward, done, info = self.env.step(action)\n",
    "            new_state = agent.transform_state(new_state)\n",
    "\n",
    "            if training:\n",
    "                if done and step < 190:\n",
    "                    reward = -1.0  # tweak to add negative reward\n",
    "                reward = torch.tensor([reward], device=device)\n",
    "                agent.optimize()\n",
    "                run_history.append([state, action, new_state, reward, done])\n",
    "            state = new_state\n",
    "\n",
    "            if done:\n",
    "                break\n",
    "\n",
    "        return step, run_history"
   ]
  },
  {
   "cell_type": "markdown",
   "metadata": {
    "heading_collapsed": true
   },
   "source": [
    "### Функции для визуализации"
   ]
  },
  {
   "cell_type": "code",
   "execution_count": 11,
   "metadata": {
    "hidden": true
   },
   "outputs": [],
   "source": [
    "def moving_average(x, w):\n",
    "    \"\"\" moving average with accurate tail\"\"\"\n",
    "    s = np.cumsum([0] + x)\n",
    "    r = []\n",
    "    for i in range(len(x)):\n",
    "        j = min(len(x), i+w)\n",
    "        r.append((s[j]-s[i])/(j-i))\n",
    "    return r\n",
    "\n",
    "\n",
    "def plot_history(history):\n",
    "    \"\"\" plots scores progress from single learning history\"\"\"\n",
    "    plt.figure(figsize=(12, 4))\n",
    "    plt.plot(history['score'])\n",
    "    plt.title(f\"Learning performance by '{agent.history['name']} (score per episode)'\",\n",
    "              fontsize=18)\n",
    "#     plt.xlabel('episodes')\n",
    "    plt.ylabel('score')\n",
    "\n",
    "def plot_running_avg(series, window=20, show_range=None):\n",
    "    if not isinstance(series, np.ndarray):\n",
    "        series = np.array(series)\n",
    "    N = len(series)\n",
    "    if show_range is None: \n",
    "        show_range = (0,N)\n",
    "    running_avg = np.empty(N)\n",
    "    for t in range(show_range[0], show_range[1]):\n",
    "        running_avg[t] = series[max(0, t-window):(t+1)].mean()\n",
    "    \n",
    "    plt.figure(figsize=(16, 4))\n",
    "    plt.plot(running_avg)\n",
    "    plt.yticks([0, 50, 100, 150, 200])\n",
    "    plt.grid()\n",
    "    plt.title(\"Running Average\")\n",
    "    \n",
    "    plt.show()\n",
    "\n",
    "def plot_compare(histories, title, smoothing=10):\n",
    "    \"\"\" plots with data from multiple learning histories\"\"\"\n",
    "\n",
    "    fig = plt.figure(constrained_layout=True, figsize=(18, 4))\n",
    "    fig.suptitle(title, fontsize=20, y=1.04)\n",
    "\n",
    "    gs = fig.add_gridspec(1, 5)\n",
    "    axs = [fig.add_subplot(gs[:3]),\n",
    "           fig.add_subplot(gs[3]),\n",
    "           fig.add_subplot(gs[4]), ]\n",
    "\n",
    "    colors = ['r', 'g', 'b', 'c', 'm', 'orange', 'purple', 'black', 'teal',\n",
    "              'r', 'g', 'b', 'c', 'm', 'orange', 'purple', 'black', 'teal', ]\n",
    "\n",
    "    names = [h['name'] for h in histories]\n",
    "    scores = np.array([h['score'] for h in histories])\n",
    "\n",
    "    for ax in axs:\n",
    "        ax.grid()\n",
    "\n",
    "    axs[0].set_title(f'Score progress', fontsize=16)\n",
    "    for i in range(len(histories)):\n",
    "        score_to_plot = moving_average(scores[i], smoothing)\n",
    "        axs[0].plot(score_to_plot, '-', lw=2, label=names[i], color=colors[i])\n",
    "    axs[0].set(xlabel='episodes')\n",
    "    axs[0].legend(fontsize=14)\n",
    "\n",
    "    axs[1].set_title(f'Episodes', fontsize=16)\n",
    "    axs[1].bar(names, [h['episodes'] for h in histories], color=colors)\n",
    "\n",
    "    axs[2].set_title(f'Time elapsed', fontsize=16)\n",
    "    axs[2].bar(names, [h['elapsed_time'] for h in histories], color=colors)"
   ]
  },
  {
   "cell_type": "markdown",
   "metadata": {},
   "source": [
    "### Тестирование модели"
   ]
  },
  {
   "cell_type": "code",
   "execution_count": 12,
   "metadata": {
    "scrolled": true
   },
   "outputs": [
    {
     "name": "stdout",
     "output_type": "stream",
     "text": [
      "Episode 10: Last 10 average: 29.0; Eps: 0.610, Elapsed: 00:00\n",
      "Episode 20: Last 10 average: 39.6; Eps: 0.374, Elapsed: 00:00\n",
      "Episode 30: Last 10 average: 68.0; Eps: 0.231, Elapsed: 00:01\n",
      "SOLVED! After 39 episodes \n",
      "Elapsed 3.52s, per episode:0.09s, \n"
     ]
    }
   ],
   "source": [
    "lab = Lab()\n",
    "\n",
    "agent = Agent_DQN(name=\"test_agent\", net=NeuralNetwork([32],), \n",
    "                  optimizer=\"adam\", lr=0.01, double_dqn=False, update_target_frequency = 500)\n",
    "# agent.memory = ReplayMemory4()\n",
    "e_params = {'start': 1, 'end': 0.01, 'decay': 20}\n",
    "\n",
    "lab.train(agent, max_episodes=300, verbose=2, epsilon_params = e_params)"
   ]
  },
  {
   "cell_type": "code",
   "execution_count": 15,
   "metadata": {},
   "outputs": [
    {
     "data": {
      "text/plain": [
       "NeuralNetwork(\n",
       "  (fc_list): ModuleList(\n",
       "    (0): Linear(in_features=4, out_features=32, bias=True)\n",
       "    (1): Linear(in_features=32, out_features=2, bias=True)\n",
       "  )\n",
       "  (activation): ReLU()\n",
       ")"
      ]
     },
     "execution_count": 15,
     "metadata": {},
     "output_type": "execute_result"
    }
   ],
   "source": [
    "NeuralNetwork([32],)"
   ]
  },
  {
   "cell_type": "code",
   "execution_count": 13,
   "metadata": {},
   "outputs": [
    {
     "data": {
      "image/png": "[encoded data removed]",
      "text/plain": [
       "<Figure size 1152x288 with 1 Axes>"
      ]
     },
     "metadata": {
      "needs_background": "light"
     },
     "output_type": "display_data"
    }
   ],
   "source": [
    "# график роста длительности удержания маятника помере обучения\n",
    "plot_running_avg(agent.history['score'], window = 1)"
   ]
  },
  {
   "cell_type": "code",
   "execution_count": 14,
   "metadata": {},
   "outputs": [
    {
     "name": "stdout",
     "output_type": "stream",
     "text": [
      " test:0, score:200\n",
      " test:1, score:200\n",
      " test:2, score:200\n",
      " test:3, score:200\n",
      " test:4, score:200\n",
      "TEST PASSED !\n"
     ]
    },
    {
     "data": {
      "text/plain": [
       "True"
      ]
     },
     "execution_count": 14,
     "metadata": {},
     "output_type": "execute_result"
    }
   ],
   "source": [
    "lab.test(agent, episodes=5, min_score=195, max_steps=200, verbose=1)"
   ]
  },
  {
   "cell_type": "code",
   "execution_count": null,
   "metadata": {},
   "outputs": [],
   "source": [
    "0/0  #interrrupt not to rerun ready parts"
   ]
  },
  {
   "cell_type": "markdown",
   "metadata": {},
   "source": [
    "# Эксперименты по оптимизации модели и агента.\n",
    "Сравниваем результаты экспериментов c сетями различных конфигураций и подбираем лучшие гиперпараметры"
   ]
  },
  {
   "cell_type": "code",
   "execution_count": 710,
   "metadata": {},
   "outputs": [],
   "source": [
    "\"\"\" Charting / reporting functions \"\"\"\n",
    "\n",
    "def print_agent_performance(history_dump, agent_name):\n",
    "    agent_histories = [h for h in history_dump if h['name'] == agent_name]\n",
    "    episode_counts = [h['episodes'] for h in agent_histories]\n",
    "    episode_times = [h['elapsed_time'] for h in agent_histories]\n",
    "    successes = [x for x in episode_counts if x < 999]\n",
    "    cnt = len(successes)\n",
    "    avg_ep_time = sum(episode_times) / sum(episode_counts)\n",
    "    avg_solving_time = sum(episode_times) / len(agent_histories)\n",
    "    success_rate = cnt/len(agent_histories)*100\n",
    "    mean_episodes = sum(successes) / len(successes)\n",
    "    max_episodes = max(successes)\n",
    "    sd = np.std(successes)\n",
    "\n",
    "    print(f\"Agent:{agent_name}, \"\n",
    "          f\"N={len(agent_histories)}, \"\n",
    "          f\"success:{success_rate:.1f}%, \"\n",
    "          f\"mean_ep:{mean_episodes:.0f}, \"\n",
    "          f\"max_ep: {max_episodes:.0f}, \"\n",
    "          f\"std_dev:{sd:.1f}, \"\n",
    "          f\"avg_time:{avg_solving_time:.1f}s \"\n",
    "          )\n",
    "\n",
    "\n",
    "def display_many_histories(hist_list, score_cap=None):\n",
    "    agent_names = set([h['name'] for h in hist_list])\n",
    "    \n",
    "    for a in agent_names:\n",
    "        print_agent_performance(hist_list, a)\n",
    "\n",
    "    if score_cap is None:\n",
    "        score_cap = max([h['episodes'] for h in hist_list])\n",
    "    bins = np.arange(0, score_cap, score_cap/20)  # fixed bin size\n",
    "    \n",
    "    plt.figure(figsize=(16, 2))\n",
    "    for i, a in enumerate(agent_names):\n",
    "        agent_scores = [h['episodes'] for h in hist_list if h['name'] == a]\n",
    "        plt.xlim(0, score_cap)\n",
    "        plt.subplot(1, len(agent_names), i+1)\n",
    "        plt.title(a)\n",
    "        plt.hist(agent_scores, bins=bins, alpha=0.5)"
   ]
  },
  {
   "cell_type": "markdown",
   "metadata": {},
   "source": [
    "## Baseline"
   ]
  },
  {
   "cell_type": "code",
   "execution_count": 639,
   "metadata": {},
   "outputs": [],
   "source": [
    "# тестируем агентов с различными конфигурациями нейросетей\n",
    "\n",
    "agent32 = Agent_DQN(name=\"A32\", net=NeuralNetwork([32],), optimizer=\"adam\", lr=0.01, \n",
    "                    double_dqn=True, update_target_frequency = 500)\n",
    "\n",
    "agent32s = Agent_DQN(name=\"A32s\", net=NeuralNetwork([32],), optimizer=\"adam\", lr=0.01, \n",
    "                     double_dqn=False, update_target_frequency = 500)  #dueling DQN\n",
    "\n",
    "agent32du = Agent_DQN(name=\"A32du\", net=NeuralNetwork_Dueling(32), optimizer=\"adam\", \n",
    "                      lr=0.01, double_dqn=True, update_target_frequency = 500)\n",
    "\n",
    "agent32_32 = Agent_DQN(name=\"A32-32\", net=NeuralNetwork([32,32]), optimizer=\"adam\",\n",
    "                       lr=0.01, double_dqn=True, update_target_frequency = 500)\n",
    "\n",
    "agent64 = Agent_DQN(name=\"A64\", net=NeuralNetwork([64]), optimizer=\"adam\", \n",
    "                    lr=0.01, double_dqn=True, update_target_frequency = 500)\n",
    "\n",
    "agent64s = Agent_DQN(name=\"A64s\", net=NeuralNetwork([64]), optimizer=\"adam\", \n",
    "                    lr=0.01, double_dqn=False, update_target_frequency = 500)\n",
    "\n",
    "agent64o1 = Agent_DQN(name=\"A64o1\", net=NeuralNetwork([64]), optimizer=\"adam\", batch_size=16,\n",
    "                  lr=0.005, double_dqn=False, update_target_frequency = 200)\n",
    "\n",
    "agent16 = Agent_DQN(name=\"A16\", net=NeuralNetwork([16]), optimizer=\"adam\", \n",
    "                    lr=0.01, double_dqn=True, update_target_frequency = 500)\n",
    "\n",
    "agents = [agent64o1, agent64s, agent32, agent16, agent64, agent32_32, agent32s, agent32du]"
   ]
  },
  {
   "cell_type": "code",
   "execution_count": null,
   "metadata": {},
   "outputs": [],
   "source": [
    "%%time\n",
    "\"\"\" TESTING DIFFERENT AGENT and NN CONFIGURATIONS \"\"\"\n",
    "n_runs = 100\n",
    "\n",
    "set_history = []\n",
    "\n",
    "for agent in agents:\n",
    "    print (f\"\\nTesting agent {agent.name}:\")\n",
    "    for run in range (n_runs):\n",
    "        \n",
    "        print (f\"run {run}: \", end=\"\")\n",
    "        agent.reset()\n",
    "        lab.train(agent, verbose=0)\n",
    "        set_history.append(agent.history)\n",
    "        print (agent.history['episodes'])\n",
    "\n",
    "    set_1_history = set_history[:]"
   ]
  },
  {
   "cell_type": "code",
   "execution_count": 706,
   "metadata": {},
   "outputs": [
    {
     "name": "stdout",
     "output_type": "stream",
     "text": [
      "Agent:A16, N=100, success:97.0%, mean_ep:197, max_ep: 625, std_dev:136.6, avg_time:14.8s \n",
      "Agent:A32du, N=100, success:100.0%, mean_ep:195, max_ep: 675, std_dev:109.7, avg_time:18.5s \n",
      "Agent:A64, N=100, success:99.0%, mean_ep:229, max_ep: 728, std_dev:127.3, avg_time:17.4s \n",
      "Agent:A32s, N=100, success:99.0%, mean_ep:232, max_ep: 924, std_dev:147.7, avg_time:15.6s \n",
      "Agent:A32, N=100, success:98.0%, mean_ep:223, max_ep: 807, std_dev:148.5, avg_time:17.0s \n",
      "Agent:A32-32, N=100, success:72.0%, mean_ep:281, max_ep: 972, std_dev:212.6, avg_time:35.9s \n",
      "999\n"
     ]
    },
    {
     "data": {
      "image/png": "[encoded data removed]",
      "text/plain": [
       "<Figure size 1152x144 with 6 Axes>"
      ]
     },
     "metadata": {
      "needs_background": "light"
     },
     "output_type": "display_data"
    }
   ],
   "source": [
    "display_many_histories(set_1_history)"
   ]
  },
  {
   "cell_type": "markdown",
   "metadata": {},
   "source": [
    "относительно хорошие результаты показали: 32 dueling (макс точность) 32 single (быстрая, хорошие точность и дисперсия) 64 double (лучше, чем 32 и 16 double, ниже дисперсия)\n",
    "\n",
    "Плохо выступила двуслойная сеть (только 72 эксперимента удались и долго работала...)"
   ]
  },
  {
   "cell_type": "markdown",
   "metadata": {},
   "source": [
    "### NEGATIVE REWARD; split memory for positive/negatie experiences\n",
    "Включаем разделение в памяти положительных и отрицательных воспоминаний. Добавляем в Lab функцию `transform_run_history` для присвоения отрицательного вознаграждения для последних несколька шагов перед падением"
   ]
  },
  {
   "cell_type": "code",
   "execution_count": null,
   "metadata": {},
   "outputs": [],
   "source": [
    "%%time\n",
    "\"\"\" EXPERIEMENTS TO TEST NEG REWARD \"\"\"\n",
    "n_runs = 50\n",
    "set_history = []\n",
    "\n",
    "agents = []\n",
    "\n",
    "name = \"N64s\"\n",
    "agent = Agent_DQN(name=name, net=NeuralNetwork([64]), optimizer=\"adam\", batch_size=32,\n",
    "              lr=0.05, double_dqn=False, update_target_frequency = 500)\n",
    "agents.append(agent)\n",
    "    \n",
    "for agent in agents:\n",
    "    print (f\"\\nTesting agent {agent.name}:\")\n",
    "    for run in range (n_runs):\n",
    "        \n",
    "        print (f\"run {run}: \", end=\"\")\n",
    "        agent.reset()\n",
    "        lab.train(agent, verbose=0)\n",
    "        set_history.append(agent.history)\n",
    "        print (agent.history['episodes'])\n",
    "\n",
    "    set_5_history = set_history[:]"
   ]
  },
  {
   "cell_type": "raw",
   "metadata": {},
   "source": [
    "RESULTS WITH NEGATIVE REWARD\n",
    "\n",
    "Agent:A64o1, N=50, success:100.0%, mean_ep:189, max_ep: 757, std_dev:130.6, avg_time:13.3s \n",
    "Agent:A64s, N=50, success:98.0%, mean_ep:222, max_ep: 927, std_dev:161.0, avg_time:16.1s \n",
    "Agent:A32, N=50, success:98.0%, mean_ep:208, max_ep: 566, std_dev:116.0, avg_time:16.3s \n",
    "Agent:A16, N=50, success:100.0%, mean_ep:211, max_ep: 690, std_dev:154.1, avg_time:15.2s \n",
    "Agent:A64, N=50, success:100.0%, mean_ep:220, max_ep: 580, std_dev:107.3, avg_time:16.0s \n",
    "Agent:A32-32, N=50, success:82.0%, mean_ep:313, max_ep: 702, std_dev:172.9, avg_time:36.0s \n",
    "Agent:A32s, N=50, success:100.0%, mean_ep:210, max_ep: 598, std_dev:135.5, avg_time:13.6s \n",
    "Agent:A32du, N=50, success:100.0%, mean_ep:215, max_ep: 668, std_dev:121.8, avg_time:22.8s \n",
    "\n",
    "\n",
    "Простое введение отрицательных стимулов не помогает значимо улучшить результаты ни для одной архитектуры"
   ]
  },
  {
   "cell_type": "code",
   "execution_count": null,
   "metadata": {},
   "outputs": [],
   "source": [
    "agent16 = Agent_DQN(name=\"A16\", net=NeuralNetwork([16]), optimizer=\"adam\", \n",
    "                    lr=0.01, double_dqn=True, update_target_frequency = 500)"
   ]
  },
  {
   "cell_type": "code",
   "execution_count": null,
   "metadata": {},
   "outputs": [],
   "source": [
    "%%time\n",
    "\"\"\" same but with SPLIT MEMORY and faster decay\"\"\"\n",
    "\"\"\" EXPERIEMENTS TO TEST DIFFERENT AGENT and NN CONFIGURATIONS \"\"\"\n",
    "n_runs = 50\n",
    "\n",
    "# set_history = []\n",
    "\n",
    "for agent in agents:\n",
    "    agent.memory = ReplayMemory4()\n",
    "    print (f\"\\nTesting agent {agent.name}:\")\n",
    "    for run in range (n_runs):\n",
    "        \n",
    "        print (f\"run {run}: \", end=\"\")\n",
    "        agent.reset()\n",
    "        e_params = {'start': 1, 'end': 0.01, 'decay': 50}\n",
    "        lab.train(agent, verbose=0, epsilon_params = e_params)\n",
    "#         lab.train(agent, verbose=0)\n",
    "        set_history.append(agent.history)\n",
    "        print (agent.history['episodes'])\n",
    "    print_agent_performance (set_history, agent.name)\n",
    "\n",
    "    set_5_history = set_history[:]"
   ]
  },
  {
   "cell_type": "code",
   "execution_count": 696,
   "metadata": {},
   "outputs": [
    {
     "name": "stdout",
     "output_type": "stream",
     "text": [
      "Agent:A16, N=50, success:100.0%, mean_ep:52, max_ep: 84, std_dev:12.5, avg_time:3.2s \n",
      "Agent:A64s, N=50, success:100.0%, mean_ep:70, max_ep: 657, std_dev:84.4, avg_time:5.7s \n",
      "Agent:A32du, N=50, success:100.0%, mean_ep:54, max_ep: 91, std_dev:13.2, avg_time:4.3s \n",
      "Agent:A64, N=50, success:100.0%, mean_ep:57, max_ep: 95, std_dev:13.4, avg_time:4.1s \n",
      "Agent:A32s, N=50, success:100.0%, mean_ep:57, max_ep: 82, std_dev:9.6, avg_time:3.3s \n",
      "Agent:A64o1, N=50, success:100.0%, mean_ep:43, max_ep: 192, std_dev:22.8, avg_time:3.1s \n",
      "Agent:A32, N=50, success:100.0%, mean_ep:57, max_ep: 186, std_dev:21.2, avg_time:4.2s \n",
      "Agent:A32-32, N=50, success:100.0%, mean_ep:91, max_ep: 220, std_dev:49.1, avg_time:11.4s \n",
      "250\n"
     ]
    },
    {
     "data": {
      "image/png": "[encoded data removed]",
      "text/plain": [
       "<Figure size 1152x144 with 8 Axes>"
      ]
     },
     "metadata": {
      "needs_background": "light"
     },
     "output_type": "display_data"
    }
   ],
   "source": [
    "display_many_histories(set_5_history, score_cap = 250)"
   ]
  },
  {
   "cell_type": "markdown",
   "metadata": {},
   "source": [
    "В результате использования раздельной памяти вдвое сократилось время обучения и снизился разброс результатов. Модель сходится менее, чем за 100 итераций.\n",
    "\n",
    "относительно хорошие результаты показали:\n",
    "16 double - использую её для дяльнейших тестов\n",
    "32 single\n",
    "другие не сильно отстали\n",
    "\n",
    "dueling не даёт улучшения дочности \n",
    "опять плохо выступила двуслойная сеть..."
   ]
  },
  {
   "cell_type": "markdown",
   "metadata": {},
   "source": [
    "### test learning rates"
   ]
  },
  {
   "cell_type": "code",
   "execution_count": null,
   "metadata": {},
   "outputs": [],
   "source": [
    "%%time\n",
    "\"\"\" EXPERIEMENTS TO TEST LEARNING RATE \"\"\"\n",
    "n_runs = 50\n",
    "\n",
    "set_history = []\n",
    "\n",
    "agents = []\n",
    "for lr in [0.005, 0.01, 0.02, 0.04]:\n",
    "    name = \"A16_lr_\"+str(lr)\n",
    "    agent = Agent_DQN(name=name, net=NeuralNetwork([16]), optimizer=\"adam\", batch_size=32,\n",
    "                  lr=lr, double_dqn=True, update_target_frequency = 500)\n",
    "    agents.append(agent)\n",
    "    \n",
    "for agent in agents:\n",
    "    print (f\"\\nTesting agent {agent.name}:\")\n",
    "    for run in range (n_runs):\n",
    "        \n",
    "        print (f\"run {run}: \", end=\"\")\n",
    "        agent.reset()\n",
    "        e_params = {'start': 1, 'end': 0.01, 'decay': 50}\n",
    "        lab.train(agent, verbose=0, epsilon_params = e_params)\n",
    "        set_history.append(agent.history)\n",
    "        print (agent.history['episodes'])\n",
    "\n",
    "    set_2_history_b = set_history[:]"
   ]
  },
  {
   "cell_type": "code",
   "execution_count": 754,
   "metadata": {},
   "outputs": [
    {
     "name": "stdout",
     "output_type": "stream",
     "text": [
      "Agent:A16_lr_0.005, N=50, success:100.0%, mean_ep:73, max_ep: 429, std_dev:52.0, avg_time:5.2s \n",
      "Agent:A16_lr_0.04, N=50, success:100.0%, mean_ep:78, max_ep: 133, std_dev:14.2, avg_time:4.8s \n",
      "Agent:A16_lr_0.02, N=50, success:100.0%, mean_ep:76, max_ep: 198, std_dev:22.3, avg_time:4.8s \n",
      "Agent:A16_lr_0.01, N=50, success:100.0%, mean_ep:71, max_ep: 151, std_dev:15.7, avg_time:4.3s \n"
     ]
    },
    {
     "data": {
      "image/png": "[encoded data removed]",
      "text/plain": [
       "<Figure size 1152x144 with 4 Axes>"
      ]
     },
     "metadata": {
      "needs_background": "light"
     },
     "output_type": "display_data"
    }
   ],
   "source": [
    "display_many_histories(set_2_history_b, score_cap = 200)"
   ]
  },
  {
   "cell_type": "markdown",
   "metadata": {},
   "source": [
    "Используем LR=0.01 за лучшие показатели скорости решения и дисперсии (хотя и с малым преимуществом)"
   ]
  },
  {
   "cell_type": "markdown",
   "metadata": {},
   "source": [
    "### TEST UPDATE FREQUENCY"
   ]
  },
  {
   "cell_type": "code",
   "execution_count": null,
   "metadata": {},
   "outputs": [],
   "source": [
    "%%time\n",
    "\"\"\" EXPERIEMENTS TO TEST UPDATE FREQUENCY \"\"\"\n",
    "n_runs = 50\n",
    "set_history = []\n",
    "\n",
    "agents = []\n",
    "for uf in [50, 100, 200, 500, 1000]:\n",
    "    name = \"A16_uf_\"+str(uf)\n",
    "    agent = Agent_DQN(name=name, net=NeuralNetwork([16]), optimizer=\"adam\", batch_size=32,\n",
    "                  lr=0.01, double_dqn=True, update_target_frequency = uf)\n",
    "    agents.append(agent)\n",
    "    \n",
    "for agent in agents:\n",
    "    print (f\"\\nTesting agent {agent.name}:\")\n",
    "    for run in range (n_runs):\n",
    "        \n",
    "        print (f\"run {run}: \", end=\"\")\n",
    "        agent.reset()\n",
    "        e_params = {'start': 1, 'end': 0.01, 'decay': 50}\n",
    "        lab.train(agent, verbose=0, epsilon_params = e_params)\n",
    "        set_history.append(agent.history)\n",
    "        print (agent.history['episodes'])\n",
    "    print_agent_performance (set_history, agent.name)\n",
    "\n",
    "    set_3_history = set_history[:]"
   ]
  },
  {
   "cell_type": "code",
   "execution_count": 755,
   "metadata": {},
   "outputs": [
    {
     "name": "stdout",
     "output_type": "stream",
     "text": [
      "Agent:A16_uf_50, N=50, success:100.0%, mean_ep:45, max_ep: 94, std_dev:16.3, avg_time:3.5s \n",
      "Agent:A16_uf_500, N=50, success:100.0%, mean_ep:52, max_ep: 93, std_dev:12.7, avg_time:3.1s \n",
      "Agent:A16_uf_1000, N=50, success:100.0%, mean_ep:86, max_ep: 378, std_dev:62.4, avg_time:7.4s \n",
      "Agent:A16_uf_100, N=50, success:100.0%, mean_ep:39, max_ep: 99, std_dev:14.4, avg_time:2.9s \n",
      "Agent:A16_uf_200, N=50, success:100.0%, mean_ep:45, max_ep: 202, std_dev:30.3, avg_time:3.8s \n"
     ]
    },
    {
     "data": {
      "image/png": "[encoded data removed]",
      "text/plain": [
       "<Figure size 1152x144 with 5 Axes>"
      ]
     },
     "metadata": {
      "needs_background": "light"
     },
     "output_type": "display_data"
    }
   ],
   "source": [
    "display_many_histories(set_3_history, score_cap = 200)"
   ]
  },
  {
   "cell_type": "markdown",
   "metadata": {},
   "source": [
    "Снижение частоты обновления НС до 100 увеличивает скорость решения и практически не повышает  дисперсию. Далее используем 100"
   ]
  },
  {
   "cell_type": "markdown",
   "metadata": {},
   "source": [
    "### Test Batch Size"
   ]
  },
  {
   "cell_type": "code",
   "execution_count": null,
   "metadata": {},
   "outputs": [],
   "source": [
    "%%time\n",
    "\"\"\" EXPERIEMENTS TO TEST BATCH SIZE \"\"\"\n",
    "n_runs = 50\n",
    "set_history = []\n",
    "\n",
    "agents = []\n",
    "for bs in [16,32,64,128]:\n",
    "    name = \"A16_bs_\"+str(bs)\n",
    "    agent = Agent_DQN(name=name, net=NeuralNetwork([16]), optimizer=\"adam\", batch_size=bs,\n",
    "                  lr=0.01, double_dqn=True, update_target_frequency = 100)\n",
    "    agents.append(agent)\n",
    "    \n",
    "for agent in agents:\n",
    "    print (f\"\\nTesting agent {agent.name}:\")\n",
    "    for run in range (n_runs):\n",
    "\n",
    "        print (f\"run {run}: \", end=\"\")\n",
    "        agent.reset()\n",
    "        e_params = {'start': 1, 'end': 0.01, 'decay': 50}\n",
    "        lab.train(agent, verbose=0, epsilon_params = e_params)\n",
    "        set_history.append(agent.history)\n",
    "        print (agent.history['episodes'])\n",
    "    print_agent_performance (set_history, agent.name)\n",
    " \n",
    "    set_4_history = set_history[:]"
   ]
  },
  {
   "cell_type": "code",
   "execution_count": 729,
   "metadata": {},
   "outputs": [
    {
     "name": "stdout",
     "output_type": "stream",
     "text": [
      "Agent:A16_bs_32, N=50, success:100.0%, mean_ep:42, max_ep: 127, std_dev:21.9, avg_time:3.3s \n",
      "Agent:A16_bs_128, N=50, success:100.0%, mean_ep:43, max_ep: 110, std_dev:13.5, avg_time:2.6s \n",
      "Agent:A16_bs_16, N=50, success:100.0%, mean_ep:48, max_ep: 117, std_dev:22.7, avg_time:3.2s \n",
      "Agent:A16_bs_64, N=50, success:100.0%, mean_ep:37, max_ep: 111, std_dev:14.9, avg_time:2.4s \n"
     ]
    },
    {
     "data": {
      "image/png": "[encoded data removed]",
      "text/plain": [
       "<Figure size 1152x144 with 4 Axes>"
      ]
     },
     "metadata": {
      "needs_background": "light"
     },
     "output_type": "display_data"
    }
   ],
   "source": [
    "display_many_histories(set_4_history)"
   ]
  },
  {
   "cell_type": "markdown",
   "metadata": {},
   "source": [
    "наилучшие показатели по скорости и повторяемости у агента с `batch_size=64`. Используем теперь это значение параметра"
   ]
  },
  {
   "cell_type": "markdown",
   "metadata": {},
   "source": [
    "### Выбор функции оптимизации"
   ]
  },
  {
   "cell_type": "code",
   "execution_count": null,
   "metadata": {},
   "outputs": [],
   "source": [
    "%%time\n",
    "agent1 = Agent_DQN(name=\"A16_sgd\", net=NeuralNetwork([16]), optimizer=\"sgd\", batch_size=64,\n",
    "                   lr=0.01, double_dqn=True, update_target_frequency=100)\n",
    "\n",
    "agent2 = Agent_DQN(name=\"A16_adam\", net=NeuralNetwork([16]), optimizer=\"adam\", batch_size=64,\n",
    "                   lr=0.01, double_dqn=True, update_target_frequency=100)\n",
    "\n",
    "agent3 = Agent_DQN(name=\"A16_rmsp\", net=NeuralNetwork([16]), optimizer=\"rmsprop\", batch_size=64,\n",
    "                   lr=0.01, double_dqn=True, update_target_frequency=100)\n",
    "\n",
    "agents = [agent1, agent2, agent3]\n",
    "\n",
    "n_runs = 100\n",
    "set_history = []\n",
    "\n",
    "for agent in agents:\n",
    "    print(f\"\\nTesting agent {agent.name}:\")\n",
    "    for run in range(n_runs):\n",
    "\n",
    "        print(f\"run {run}: \", end=\"\")\n",
    "        agent.reset()\n",
    "        e_params = {'start': 1, 'end': 0.01, 'decay': 50}\n",
    "        lab.train(agent, verbose=0, epsilon_params=e_params)\n",
    "        set_history.append(agent.history)\n",
    "        print(agent.history['episodes'])\n",
    "    print_agent_performance(set_history, agent.name)\n",
    "\n",
    "    set_6_history = set_history[:]"
   ]
  },
  {
   "cell_type": "code",
   "execution_count": 750,
   "metadata": {},
   "outputs": [
    {
     "name": "stdout",
     "output_type": "stream",
     "text": [
      "Agent:A16_adam, N=100, success:100.0%, mean_ep:41, max_ep: 146, std_dev:17.6, avg_time:3.0s \n",
      "Agent:A16_sgd, N=100, success:100.0%, mean_ep:41, max_ep: 126, std_dev:16.9, avg_time:2.6s \n",
      "Agent:A16_rmsp, N=100, success:100.0%, mean_ep:44, max_ep: 166, std_dev:24.5, avg_time:3.6s \n"
     ]
    },
    {
     "data": {
      "image/png": "[encoded data removed]",
      "text/plain": [
       "<Figure size 1152x144 with 3 Axes>"
      ]
     },
     "metadata": {
      "needs_background": "light"
     },
     "output_type": "display_data"
    }
   ],
   "source": [
    "display_many_histories(set_6_history)"
   ]
  },
  {
   "cell_type": "markdown",
   "metadata": {},
   "source": [
    "Наилучшие результаты показали Adam и SGD (с параметром momentum=0.9). При этом SGD рабтал быстрее. Попробуем теперь использовать его."
   ]
  },
  {
   "cell_type": "markdown",
   "metadata": {},
   "source": [
    "### Тест параметра снижения Эпсилон.\n",
    "\n",
    "`decay:100\n",
    "Agent:N64_m4, N=50, success:100.0%, mean_ep:74, max_ep: 106, std_dev:11.9, avg_time:3.9s \n",
    "Wall time: 3min 25s\n",
    "\n",
    "decay 20\n",
    "Agent:N64_m4, N=50, success:100.0%, mean_ep:60, max_ep: 159, std_dev:31.7, avg_time:4.3s \n",
    "Wall time: 3min 44s\n",
    "\n",
    "decay 50:\n",
    "Agent:N64_m4, N=50, success:100.0%, mean_ep:61, max_ep: 128, std_dev:16.0, avg_time:3.8s \n",
    "Wall time: 3min 17s`\n",
    "\n",
    "тесты показывают возможность снижения decay (ускоряем уменьшение эпсилон) до 50, дальнейшее снижение повышает разброс результатов."
   ]
  },
  {
   "cell_type": "markdown",
   "metadata": {},
   "source": [
    "### Тестирование функций потерь"
   ]
  },
  {
   "cell_type": "raw",
   "metadata": {},
   "source": [
    "loss_functions = {'mse': nn.MSELoss, 'smooth_l1': nn.SmoothL1Loss}\n",
    "\n",
    "class Agent_DQN(object):\n",
    "    def __init__(self, name, net, optimizer=\"adam\", lr=0.01, batch_size=32,\n",
    "                 double_dqn=False, clip_error=True, update_target_frequency=10,\n",
    "                 gamma=0.9999, loss_func='smooth_l1'):"
   ]
  },
  {
   "cell_type": "code",
   "execution_count": null,
   "metadata": {},
   "outputs": [],
   "source": [
    "agent1 = Agent_DQN(name=\"A16_mse\", net=NeuralNetwork([16]), optimizer=\"sgd\", batch_size=64,\n",
    "                   lr=0.01, double_dqn=True, update_target_frequency=100, loss_func='mse')\n",
    "\n",
    "agent2 = Agent_DQN(name=\"A16_sl1\", net=NeuralNetwork([16]), optimizer=\"sgd\", batch_size=64,\n",
    "                   lr=0.01, double_dqn=True, update_target_frequency=100, loss_func='smooth_l1')\n",
    "\n",
    "agents = [agent1, agent2]\n",
    "n_runs = 100\n",
    "set_history = []\n",
    "\n",
    "for agent in agents:\n",
    "    print(f\"\\nTesting agent {agent.name}:\")\n",
    "    for run in range(n_runs):\n",
    "\n",
    "        print(f\"run {run}: \", end=\"\")\n",
    "        agent.reset()\n",
    "        e_params = {'start': 1, 'end': 0.01, 'decay': 50}\n",
    "        lab.train(agent, verbose=0, epsilon_params=e_params)\n",
    "        set_history.append(agent.history)\n",
    "        print(agent.history['episodes'])\n",
    "    print_agent_performance(set_history, agent.name)\n",
    "\n",
    "    set_7_history = set_history[:]"
   ]
  },
  {
   "cell_type": "code",
   "execution_count": 761,
   "metadata": {},
   "outputs": [
    {
     "name": "stdout",
     "output_type": "stream",
     "text": [
      "Agent:A16_sl1, N=100, success:100.0%, mean_ep:45, max_ep: 138, std_dev:18.6, avg_time:3.3s \n",
      "Agent:A16_mse, N=100, success:100.0%, mean_ep:42, max_ep: 82, std_dev:10.7, avg_time:3.0s \n"
     ]
    },
    {
     "data": {
      "image/png": "[encoded data removed]",
      "text/plain": [
       "<Figure size 1152x144 with 2 Axes>"
      ]
     },
     "metadata": {
      "needs_background": "light"
     },
     "output_type": "display_data"
    }
   ],
   "source": [
    "display_many_histories(set_7_history)"
   ]
  },
  {
   "cell_type": "markdown",
   "metadata": {},
   "source": [
    "### Тестирование параметра гамма"
   ]
  },
  {
   "cell_type": "code",
   "execution_count": null,
   "metadata": {},
   "outputs": [],
   "source": [
    "%%time\n",
    "\"\"\" EXPERIEMENTS TO TEST Gamma \"\"\"\n",
    "n_runs = 50\n",
    "# set_history = []\n",
    "\n",
    "agents = []\n",
    "for gamma in [0.5, 0.9, 0.97, 0.99, 0.9999, 1]:\n",
    "    name = \"A16_g\"+str(gamma)\n",
    "    agent = Agent_DQN(name=name, net=NeuralNetwork([16]), optimizer=\"mse\", batch_size=64,\n",
    "                      lr=0.01, double_dqn=True, update_target_frequency=100, gamma=gamma)\n",
    "    agents.append(agent)\n",
    "\n",
    "for agent in agents:\n",
    "    print(f\"\\nTesting agent {agent.name}:\")\n",
    "    for run in range(n_runs):\n",
    "\n",
    "        print(f\"run {run}: \", end=\"\")\n",
    "        agent.reset()\n",
    "        e_params = {'start': 1, 'end': 0.01, 'decay': 50}\n",
    "        lab.train(agent, verbose=0, epsilon_params=e_params)\n",
    "        set_history.append(agent.history)\n",
    "        print(agent.history['episodes'])\n",
    "    print_agent_performance(set_history, agent.name)\n",
    "\n",
    "    set_8_history = set_history[:]"
   ]
  },
  {
   "cell_type": "code",
   "execution_count": 767,
   "metadata": {},
   "outputs": [
    {
     "name": "stdout",
     "output_type": "stream",
     "text": [
      "Agent:A16_g0.9999, N=50, success:100.0%, mean_ep:39, max_ep: 192, std_dev:23.9, avg_time:2.9s \n",
      "Agent:A16_g0.97, N=50, success:100.0%, mean_ep:47, max_ep: 472, std_dev:62.1, avg_time:5.1s \n",
      "Agent:A16_g0.5, N=50, success:98.0%, mean_ep:48, max_ep: 203, std_dev:26.9, avg_time:6.3s \n",
      "Agent:A16_g1, N=50, success:100.0%, mean_ep:37, max_ep: 97, std_dev:13.0, avg_time:2.6s \n",
      "Agent:A16_g0.9, N=50, success:100.0%, mean_ep:36, max_ep: 71, std_dev:7.3, avg_time:2.3s \n",
      "Agent:A16_g0.99, N=50, success:100.0%, mean_ep:38, max_ep: 124, std_dev:13.7, avg_time:2.6s \n",
      "Agent:A16_g0.8, N=50, success:100.0%, mean_ep:35, max_ep: 56, std_dev:6.1, avg_time:2.0s \n"
     ]
    },
    {
     "data": {
      "image/png": "[encoded data removed]",
      "text/plain": [
       "<Figure size 1152x144 with 7 Axes>"
      ]
     },
     "metadata": {
      "needs_background": "light"
     },
     "output_type": "display_data"
    }
   ],
   "source": [
    "display_many_histories(set_8_history,score_cap = 100)"
   ]
  },
  {
   "cell_type": "markdown",
   "metadata": {},
   "source": [
    "Параметр `gamma=0.8` показывает наилучшие результаты по скорости и разбросу. Далее использую его."
   ]
  },
  {
   "cell_type": "code",
   "execution_count": null,
   "metadata": {},
   "outputs": [],
   "source": []
  },
  {
   "cell_type": "markdown",
   "metadata": {},
   "source": [
    "### повторный тест\n",
    "После оптимизации гиперпараметров повторно проверим результаты сетей различной архитектуры:"
   ]
  },
  {
   "cell_type": "code",
   "execution_count": null,
   "metadata": {},
   "outputs": [],
   "source": [
    "agent1 = Agent_DQN(name=\"A16d\", net=NeuralNetwork([16]), optimizer=\"sgd\", batch_size=64,\n",
    "                   gamma=0.8, loss_func='mse',\n",
    "                   lr=0.01, double_dqn=True, update_target_frequency=100,)\n",
    "\n",
    "agent2 = Agent_DQN(name=\"A32d\", net=NeuralNetwork([32]), optimizer=\"sgd\", batch_size=64,\n",
    "                   gamma=0.8, loss_func='mse',\n",
    "                   lr=0.01, double_dqn=True, update_target_frequency=100)\n",
    "\n",
    "agent3 = Agent_DQN(name=\"A16s\", net=NeuralNetwork([16]), optimizer=\"sgd\", batch_size=64,\n",
    "                   gamma=0.8, loss_func='mse',\n",
    "                   lr=0.01, double_dqn=True, update_target_frequency=100)\n",
    "\n",
    "agent4 = Agent_DQN(name=\"A32s\", net=NeuralNetwork([32]), optimizer=\"sgd\", batch_size=64,\n",
    "                   gamma=0.8, loss_func='mse',\n",
    "                   lr=0.01, double_dqn=False, update_target_frequency=100)\n",
    "\n",
    "agent5 = Agent_DQN(name=\"A16due\", net=NeuralNetwork_Dueling(16), optimizer=\"sgd\", batch_size=64,\n",
    "                   gamma=0.8, loss_func='mse',\n",
    "                   lr=0.01, double_dqn=True, update_target_frequency=100)\n",
    "\n",
    "agent6 = Agent_DQN(name=\"A32ds\", net=NeuralNetwork_Dueling(32), optimizer=\"sgd\", batch_size=64,\n",
    "                   gamma=0.8, loss_func='mse',\n",
    "                   lr=0.01, double_dqn=False, update_target_frequency=100)\n",
    "\n",
    "agent7 = Agent_DQN(name=\"A32ds\", net=NeuralNetwork_Dueling(32), optimizer=\"sgd\", batch_size=64,\n",
    "                   gamma=0.8, loss_func='mse',\n",
    "                   lr=0.01, double_dqn=True, update_target_frequency=100)\n",
    "\n",
    "agents = [agent1, agent2, agent3, agent4, agent5, agent6]\n",
    "\n",
    "n_runs = 100\n",
    "set_history = []\n",
    "\n",
    "for agent in agents:\n",
    "    print(f\"\\nTesting agent {agent.name}:\")\n",
    "    for run in range(n_runs):\n",
    "\n",
    "        print(f\"run {run}: \", end=\"\")\n",
    "        agent.reset()\n",
    "        e_params = {'start': 1, 'end': 0.01, 'decay': 50}\n",
    "        lab.train(agent, verbose=0, epsilon_params=e_params)\n",
    "        set_history.append(agent.history)\n",
    "        print(agent.history['episodes'])\n",
    "    print_agent_performance(set_history, agent.name)\n",
    "\n",
    "    set_9_history = set_history[:]"
   ]
  },
  {
   "cell_type": "code",
   "execution_count": 770,
   "metadata": {},
   "outputs": [
    {
     "name": "stdout",
     "output_type": "stream",
     "text": [
      "Agent:A32d, N=100, success:99.0%, mean_ep:42, max_ep: 96, std_dev:9.8, avg_time:4.7s \n",
      "Agent:A32s, N=100, success:100.0%, mean_ep:40, max_ep: 90, std_dev:8.5, avg_time:2.3s \n",
      "Agent:A16d, N=100, success:100.0%, mean_ep:42, max_ep: 91, std_dev:10.9, avg_time:2.7s \n",
      "Agent:A16s, N=100, success:99.0%, mean_ep:40, max_ep: 77, std_dev:8.6, avg_time:4.0s \n"
     ]
    },
    {
     "data": {
      "image/png": "[encoded data removed]",
      "text/plain": [
       "<Figure size 1152x144 with 4 Axes>"
      ]
     },
     "metadata": {
      "needs_background": "light"
     },
     "output_type": "display_data"
    }
   ],
   "source": [
    "display_many_histories(set_9_history,score_cap = 100)"
   ]
  },
  {
   "cell_type": "markdown",
   "metadata": {},
   "source": [
    "**ВЫВОДЫ:**\n",
    "\n",
    "1. Определенные конфигурации сетей показывают значительно более быстрое и уверенное обучение.\n",
    "2. достигнуто значительное ускорение решения задачи за счёт:\n",
    "    - применения раздельной памяти опыта\n",
    "    - оптимизации гиперпараметров модели и агента\n",
    "    - ускрения снижения параметров Эпсилон\n",
    "    "
   ]
  },
  {
   "cell_type": "markdown",
   "metadata": {},
   "source": [
    "# дополнительное исследование: Попытка получать стабильные результаты для сравнения:"
   ]
  },
  {
   "cell_type": "markdown",
   "metadata": {},
   "source": [
    "Ниже типичная картина для повторяющихся экспериментов. Использованы параметры из Baseline"
   ]
  },
  {
   "cell_type": "code",
   "execution_count": 29,
   "metadata": {},
   "outputs": [
    {
     "data": {
      "image/png": "[encoded data removed]",
      "text/plain": [
       "<Figure size 1296x288 with 3 Axes>"
      ]
     },
     "metadata": {
      "needs_background": "light"
     },
     "output_type": "display_data"
    }
   ],
   "source": [
    "plot_compare(h_stability_2, title=\"10 runs of N32 stabilized\")"
   ]
  },
  {
   "cell_type": "markdown",
   "metadata": {},
   "source": [
    "Эксперименты (особенно до оптимизации параметров) показывают большой разброс результатов. Хотя для сравнения важно оценивать результаты сетей/агентов в случайных экспериментах, была поставлена промежуточная задача добиться повторяемости экспериментов. \n",
    "\n",
    "Сначала тестируем восрпроизводимость отдельных компонентов решения:\n",
    "- среда\n",
    "- реакция средын на ход\n",
    "- генератор сл чисел для сравнения с эпсилоном\n",
    "- выборка из памяти\n",
    "- инициализация сетей.\n",
    "\n",
    "Затем протестируем работу агента в комплексе."
   ]
  },
  {
   "cell_type": "code",
   "execution_count": 121,
   "metadata": {},
   "outputs": [],
   "source": [
    "device = torch.device(\"cpu\")"
   ]
  },
  {
   "cell_type": "code",
   "execution_count": 771,
   "metadata": {},
   "outputs": [],
   "source": [
    "''' функция для инициации случайных генераторов '''\n",
    "def fix_seeds(seed=42):\n",
    "    random.seed(seed)\n",
    "    np.random.seed(seed)\n",
    "    torch.manual_seed(seed)\n",
    "    torch.backends.cudnn.deterministic = True\n",
    "    torch.backends.cudnn.benchmark = False\n",
    "    env.seed(seed)"
   ]
  },
  {
   "cell_type": "code",
   "execution_count": 772,
   "metadata": {},
   "outputs": [],
   "source": [
    "''' Простая НС '''\n",
    "class NeuralNetwork_Simple(nn.Module):\n",
    "    def __init__(self, hidden=32, inputs=number_of_inputs, outputs=number_of_outputs,\n",
    "                 activation='relu'):\n",
    "        super(NeuralNetwork_Simple, self).__init__()\n",
    "        self.linear1 = nn.Linear(inputs, hidden)\n",
    "        self.linear2 = nn.Linear(hidden, outputs)\n",
    "\n",
    "    def forward(self, x):\n",
    "        out1 = F.relu(self.linear1(x))\n",
    "#         out1 = out1)\n",
    "        out2 = self.linear2(out1)\n",
    "        return out2"
   ]
  },
  {
   "cell_type": "code",
   "execution_count": 82,
   "metadata": {},
   "outputs": [
    {
     "name": "stdout",
     "output_type": "stream",
     "text": [
      "[-0.01258566 -0.00156614  0.04207708 -0.00180545]\n",
      "[-0.01258566 -0.00156614  0.04207708 -0.00180545]\n",
      "[-0.01258566 -0.00156614  0.04207708 -0.00180545]\n"
     ]
    }
   ],
   "source": [
    "\"\"\" testing ENV \"\"\"\n",
    "for e in range (3):\n",
    "    fix_seeds()\n",
    "    state = env.reset()\n",
    "    print(state)"
   ]
  },
  {
   "cell_type": "code",
   "execution_count": 83,
   "metadata": {},
   "outputs": [
    {
     "name": "stdout",
     "output_type": "stream",
     "text": [
      "[-0.02058854 -0.00414739  0.05525604  0.05522   ]\n",
      "[-0.02058854 -0.00414739  0.05525604  0.05522   ]\n",
      "[-0.02058854 -0.00414739  0.05525604  0.05522   ]\n"
     ]
    }
   ],
   "source": [
    "\"\"\" testing ENV + moves \"\"\"\n",
    "for e in range (3):\n",
    "    fix_seeds()\n",
    "    state = env.reset()\n",
    "    state, reward, done, info = env.step(0)\n",
    "    state, reward, done, info = env.step(1)\n",
    "    state, reward, done, info = env.step(0)\n",
    "    state, reward, done, info = env.step(1)\n",
    "    print(state)"
   ]
  },
  {
   "cell_type": "code",
   "execution_count": 114,
   "metadata": {},
   "outputs": [
    {
     "name": "stdout",
     "output_type": "stream",
     "text": [
      "1.00000; 0.99015; 0.98040; 0.97074; 0.96118; 0.95172; 0.94235; 0.93307; 0.92389; 0.91479; \n",
      "1.00000; 0.99015; 0.98040; 0.97074; 0.96118; 0.95172; 0.94235; 0.93307; 0.92389; 0.91479; \n",
      "1.00000; 0.99015; 0.98040; 0.97074; 0.96118; 0.95172; 0.94235; 0.93307; 0.92389; 0.91479; \n"
     ]
    }
   ],
   "source": [
    "\"\"\" testing epsilon \"\"\"\n",
    "for e in range (3):\n",
    "    fix_seeds()\n",
    "    for i in range (10):\n",
    "        epsilon = get_epsilon(i, params=None)\n",
    "        print (f\"{epsilon:.5f}; \", end = \"\")\n",
    "    print()"
   ]
  },
  {
   "cell_type": "code",
   "execution_count": 159,
   "metadata": {},
   "outputs": [
    {
     "name": "stdout",
     "output_type": "stream",
     "text": [
      "training started for agent '32S-1'...\n",
      "Elapsed 0.14s, per episode:0.01s, per frame:0.92ms.\n",
      "tensor([[-0.1015, -1.0158,  0.0691,  1.4571]])\n",
      "tensor([[-0.1015, -1.0158,  0.0691,  1.4571]])\n",
      "tensor([[-0.1015, -1.0158,  0.0691,  1.4571]])\n"
     ]
    }
   ],
   "source": [
    "\"\"\"Memory test\"\"\"\n",
    "# filling memory\n",
    "net=NeuralNetwork_Simple()\n",
    "agent = Agent_DQN2(name=name, net=net, optimizer=\"adam\", \n",
    "                     lr=0.01, double_dqn=False, update_target_frequency = 500)\n",
    "experiment (agent, verbose = 1, max_episodes=10)\n",
    "\n",
    "for e in range (3):\n",
    "    fix_seeds()\n",
    "    s,a,r,s2,d = agent.memory.sample(4)\n",
    "    print(s[2])"
   ]
  },
  {
   "cell_type": "code",
   "execution_count": 778,
   "metadata": {},
   "outputs": [],
   "source": [
    "class Lab_stable(Lab):\n",
    "    \"\"\" \n",
    "    класс с дополнительными вызовами функции сброса seeds\n",
    "    для тестирования повторяемости\n",
    "    \"\"\"                \n",
    "    def run_episode(self, agent, training=False, epsilon=0, verbose=1):\n",
    "        state = self.env.reset()\n",
    "        state = agent.transform_state(state)\n",
    "        run_history = []\n",
    "        counter = 0\n",
    "        done = False\n",
    "        \n",
    "        for step in range(1, self.max_steps+1):\n",
    "            fix_seeds()  # ADDED FIX SEEDS\n",
    "            action = agent.select_action(state, epsilon)\n",
    "\n",
    "            new_state, reward, done, info = self.env.step(action)\n",
    "            new_state = agent.transform_state(new_state)\n",
    "\n",
    "            if training:\n",
    "                if done and step < 190:\n",
    "                    reward = -1.0  \n",
    "                reward = torch.tensor([reward], device=device)\n",
    "                fix_seeds()  # ADDED FIX SEEDS\n",
    "                agent.optimize()\n",
    "                run_history.append([state, action, new_state, reward, done])\n",
    "            state = new_state\n",
    "\n",
    "            if done:\n",
    "                break\n",
    "        return step, run_history"
   ]
  },
  {
   "cell_type": "code",
   "execution_count": 779,
   "metadata": {},
   "outputs": [
    {
     "name": "stdout",
     "output_type": "stream",
     "text": [
      "Episode 10: Last 10 average: 15.8; Eps: 0.821, Elapsed: 00:00\n",
      "Episode 20: Last 10 average: 21.4; Eps: 0.674, Elapsed: 00:01\n",
      "Episode 30: Last 10 average: 14.9; Eps: 0.553, Elapsed: 00:02\n",
      "Episode 40: Last 10 average: 87.0; Eps: 0.455, Elapsed: 00:07\n",
      "SOLVED! After 44 episodes \n",
      "Elapsed 11.05s, per episode:0.25s, \n",
      "Episode 10: Last 10 average: 18.2; Eps: 0.821, Elapsed: 00:00\n",
      "Episode 20: Last 10 average: 11.8; Eps: 0.674, Elapsed: 00:01\n",
      "Episode 30: Last 10 average: 15.0; Eps: 0.553, Elapsed: 00:01\n",
      "Episode 40: Last 10 average: 30.3; Eps: 0.455, Elapsed: 00:03\n",
      "Episode 50: Last 10 average: 142.5; Eps: 0.374, Elapsed: 00:11\n",
      "Elapsed 11.88s, per episode:0.24s, \n",
      "Episode 10: Last 10 average: 14.0; Eps: 0.821, Elapsed: 00:00\n",
      "Episode 20: Last 10 average: 9.5; Eps: 0.674, Elapsed: 00:00\n",
      "Episode 30: Last 10 average: 16.2; Eps: 0.553, Elapsed: 00:01\n",
      "Episode 40: Last 10 average: 18.0; Eps: 0.455, Elapsed: 00:02\n",
      "Episode 50: Last 10 average: 15.7; Eps: 0.374, Elapsed: 00:03\n",
      "Elapsed 3.60s, per episode:0.07s, \n"
     ]
    }
   ],
   "source": [
    "\"\"\" integrated test \"\"\"\n",
    "lab_stable = Lab_stable()\n",
    "for e in range (3):\n",
    "    fix_seeds()\n",
    "    net=NeuralNetwork_Simple()\n",
    "    agent = Agent_DQN(name=\"A16d_rep\", net=net, optimizer=\"sgd\", batch_size=64,\n",
    "                       gamma=0.8, loss_func='mse',\n",
    "                       lr=0.01, double_dqn=True, update_target_frequency=100,)\n",
    "#     experiment_reproducible (agent, verbose = 2, max_episodes=5)\n",
    "    agent.reset()\n",
    "    e_params = {'start': 1, 'end': 0.01, 'decay': 50}\n",
    "    lab_stable.train(agent, verbose=2, max_episodes=50, epsilon_params=e_params)\n",
    "#     set_history.append(agent.history)\n",
    "#     print(agent.history['episodes'])\n",
    "\n",
    "# TBD"
   ]
  },
  {
   "cell_type": "markdown",
   "metadata": {},
   "source": [
    "**ВЫВОДЫ**\n",
    "\n",
    "Хотя все протестированные компоненты дают стабильные результаты, в совокупности агент не обнаруживает повторяемости. Дальнейший поиск причин потребует логирования каждого шага.\n",
    "\n",
    "В ходе работы над проектом принято решение оценивать результаты агентов на больших выборках, так что решение задачи повторяемости в проекте более не требуется."
   ]
  },
  {
   "cell_type": "code",
   "execution_count": null,
   "metadata": {},
   "outputs": [],
   "source": []
  },
  {
   "cell_type": "code",
   "execution_count": null,
   "metadata": {},
   "outputs": [],
   "source": []
  },
  {
   "cell_type": "code",
   "execution_count": null,
   "metadata": {},
   "outputs": [],
   "source": []
  },
  {
   "cell_type": "code",
   "execution_count": null,
   "metadata": {},
   "outputs": [],
   "source": []
  }
 ],
 "metadata": {
  "kernelspec": {
   "display_name": "Python 3",
   "language": "python",
   "name": "python3"
  },
  "language_info": {
   "codemirror_mode": {
    "name": "ipython",
    "version": 3
   },
   "file_extension": ".py",
   "mimetype": "text/x-python",
   "name": "python",
   "nbconvert_exporter": "python",
   "pygments_lexer": "ipython3",
   "version": "3.7.3"
  }
 },
 "nbformat": 4,
 "nbformat_minor": 2
}
