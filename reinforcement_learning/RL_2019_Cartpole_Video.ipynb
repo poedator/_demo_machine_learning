{
 "cells": [
  {
   "cell_type": "markdown",
   "metadata": {},
   "source": [
    "<b><font size=\"+3\">Финальный проект для курса \"Otus Data Science\"</font></b>\n",
    "\n",
    "<font size=\"+2\">Этап B: Тестирование методов глубокого обучения с подкреплением\n",
    "на примере задачи обратного маятника (openai gym cartpole) **С ВИДЕО ВВОДОМ**</font> "
   ]
  },
  {
   "cell_type": "markdown",
   "metadata": {},
   "source": [
    "# План исследования:\n",
    "    Этап A. исследование методов обучения с подкреплением на простой модели (OpenAI Gym Cartpole)\n",
    "    \n",
    "    Этап В. Построение и оптимизация модели работающей с видео выходом (OpenAI Gym Racer)\n",
    "    \n",
    "    Этап С. Обучение модели для игры в простую настольную игру (\"Connect Four\")\n"
   ]
  },
  {
   "cell_type": "markdown",
   "metadata": {},
   "source": [
    "# Experiments Setup"
   ]
  },
  {
   "cell_type": "markdown",
   "metadata": {},
   "source": [
    "Сначала мы повторим функции, использованные для простой задачи Cartpole и протестируем их работоспособность:"
   ]
  },
  {
   "cell_type": "markdown",
   "metadata": {},
   "source": [
    "### imports"
   ]
  },
  {
   "cell_type": "code",
   "execution_count": 5,
   "metadata": {},
   "outputs": [],
   "source": [
    "import numpy as np\n",
    "import random\n",
    "import math\n",
    "import time\n",
    "import copy\n",
    "from PIL import Image\n",
    "from itertools import zip_longest\n",
    "from collections import deque\n",
    "from tqdm import tqdm_notebook\n",
    "\n",
    "import matplotlib.pyplot as plt\n",
    "%matplotlib inline"
   ]
  },
  {
   "cell_type": "code",
   "execution_count": 6,
   "metadata": {},
   "outputs": [
    {
     "name": "stdout",
     "output_type": "stream",
     "text": [
      "Torch: 1.2.0, device: cuda\n"
     ]
    }
   ],
   "source": [
    "import torch\n",
    "import torch.nn as nn\n",
    "import torch.optim as optim\n",
    "import torch.nn.functional as F\n",
    "import torchvision.transforms as T\n",
    "Tensor = torch.Tensor\n",
    "LongTensor = torch.LongTensor\n",
    "\n",
    "device = torch.device(\"cuda\" if torch.cuda.is_available() else \"cpu\")\n",
    "# device = torch.device(\"cpu\")\n",
    "print(f\"Torch: {torch.__version__}, device: {device}\")"
   ]
  },
  {
   "cell_type": "markdown",
   "metadata": {},
   "source": [
    "### GYM setup"
   ]
  },
  {
   "cell_type": "code",
   "execution_count": 7,
   "metadata": {},
   "outputs": [],
   "source": [
    "# gym source code: https://github.com/openai/gym/blob/master/gym/envs/classic_control/cartpole.py\n",
    "import gym\n",
    "env_id = 'CartPole-v0'\n",
    "env = gym.make(env_id)\n",
    "\n",
    "number_of_inputs = env.observation_space.shape[0]\n",
    "number_of_outputs = env.action_space.n\n",
    "\n",
    "max_steps = 200 # get_from Gym\n",
    "score_to_solve = max_steps - 5"
   ]
  },
  {
   "cell_type": "markdown",
   "metadata": {
    "heading_collapsed": true
   },
   "source": [
    "### Epsilon function"
   ]
  },
  {
   "cell_type": "code",
   "execution_count": 8,
   "metadata": {
    "hidden": true
   },
   "outputs": [
    {
     "name": "stdout",
     "output_type": "stream",
     "text": [
      "0.3742006467597279 0.010044945930464861\n"
     ]
    },
    {
     "data": {
      "image/png": "[encoded data removed]",
      "text/plain": [
       "<Figure size 432x288 with 1 Axes>"
      ]
     },
     "metadata": {
      "needs_background": "light"
     },
     "output_type": "display_data"
    }
   ],
   "source": [
    "def get_epsilon(step, params=None):\n",
    "    \"\"\"Epsilon adjustment function (exponential)\"\"\"\n",
    "    if params is None:\n",
    "        params = {'start': 1, 'end': 0.01, 'decay': 100}  # <= defaults\n",
    "    return params['end'] + (params['start']-params['end']) * \\\n",
    "        math.exp(-1. * step / params['decay'])\n",
    "\n",
    "def get_epsilon_linear(step, params=None):\n",
    "    \"\"\" Epsilon adjustment function (linear)\"\"\"\n",
    "    if params is None:\n",
    "        params = {'start': 1, 'end': 0.01, 'period': 500}  # <= defaults\n",
    "    return params['start'] - min(params['period'], step) * \\\n",
    "        (params['start']-params['end']) / params['period'] \n",
    "    \n",
    "plt.plot([get_epsilon_linear(s, None) for s in range (1000)])\n",
    "plt.plot([get_epsilon(s, None) for s in range (1000)])\n",
    "\n",
    "print(get_epsilon(100), get_epsilon(1000))"
   ]
  },
  {
   "cell_type": "markdown",
   "metadata": {
    "heading_collapsed": true
   },
   "source": [
    "### plotting functions"
   ]
  },
  {
   "cell_type": "code",
   "execution_count": 9,
   "metadata": {
    "hidden": true
   },
   "outputs": [],
   "source": [
    "def moving_average(x, w):\n",
    "    \"\"\" moving average with accurate tail\"\"\"\n",
    "    s = np.cumsum([0] + x)\n",
    "    r = []\n",
    "    for i in range(len(x)):\n",
    "        j = min(len(x), i+w)\n",
    "        r.append((s[j]-s[i])/(j-i))\n",
    "    return r\n",
    "\n",
    "\n",
    "def plot_history(history):\n",
    "    \"\"\" plots scores progress from single learning history\"\"\"\n",
    "    plt.figure(figsize=(12, 4))\n",
    "    plt.plot(history['score'])\n",
    "    plt.title(f\"Learning performance by '{agent.history['name']} (score per episode)'\",\n",
    "              fontsize=18)\n",
    "#     plt.xlabel('episodes')\n",
    "    plt.ylabel('score')\n",
    "\n",
    "\n",
    "def plot_running_avg(series, window=20, show_range=None):\n",
    "    if not isinstance(series, np.ndarray):\n",
    "        series = np.array(series)\n",
    "    N = len(series)\n",
    "    if show_range is None:\n",
    "        show_range = (0, N)\n",
    "    running_avg = np.empty(N)\n",
    "    for t in range(show_range[0], show_range[1]):\n",
    "        running_avg[t] = series[max(0, t-window):(t+1)].mean()\n",
    "\n",
    "    plt.figure(figsize=(16, 4))\n",
    "    plt.plot(running_avg)\n",
    "    plt.yticks([0, 50, 100, 150, 200])\n",
    "    plt.grid()\n",
    "    plt.title(\"Running Average\")\n",
    "\n",
    "    plt.show()\n",
    "\n",
    "\n",
    "def plot_compare(histories, title, smoothing=10):\n",
    "    \"\"\" plots with data from multiple learning histories\"\"\"\n",
    "\n",
    "    fig = plt.figure(constrained_layout=True, figsize=(18, 4))\n",
    "    fig.suptitle(title, fontsize=20, y=1.04)\n",
    "\n",
    "    gs = fig.add_gridspec(1, 5)\n",
    "    axs = [fig.add_subplot(gs[:3]),\n",
    "           fig.add_subplot(gs[3]),\n",
    "           fig.add_subplot(gs[4]), ]\n",
    "\n",
    "    colors = ['r', 'g', 'b', 'c', 'm', 'orange', 'purple', 'black', 'teal',\n",
    "              'r', 'g', 'b', 'c', 'm', 'orange', 'purple', 'black', 'teal', ]\n",
    "\n",
    "    names = [h['name'] for h in histories]\n",
    "    scores = np.array([h['score'] for h in histories])\n",
    "\n",
    "    for ax in axs:\n",
    "        ax.grid()\n",
    "\n",
    "    axs[0].set_title(f'Score progress', fontsize=16)\n",
    "    for i in range(len(histories)):\n",
    "        score_to_plot = moving_average(scores[i], smoothing)\n",
    "        axs[0].plot(score_to_plot, '-', lw=2, label=names[i], color=colors[i])\n",
    "    axs[0].set(xlabel='episodes')\n",
    "    axs[0].legend(fontsize=14)\n",
    "\n",
    "    axs[1].set_title(f'Episodes', fontsize=16)\n",
    "    axs[1].bar(names, [h['episodes'] for h in histories], color=colors)\n",
    "\n",
    "    axs[2].set_title(f'Time elapsed', fontsize=16)\n",
    "    axs[2].bar(names, [h['elapsed_time'] for h in histories], color=colors)"
   ]
  },
  {
   "cell_type": "markdown",
   "metadata": {
    "heading_collapsed": true
   },
   "source": [
    "### memory"
   ]
  },
  {
   "cell_type": "code",
   "execution_count": 10,
   "metadata": {
    "hidden": true
   },
   "outputs": [],
   "source": [
    "replay_mem_size = 10000\n",
    "\n",
    "class ReplayMemory(object):\n",
    "    \"\"\" basic memry class from Torch example \"\"\"\n",
    "    def __init__(self, capacity=replay_mem_size):\n",
    "        self.capacity = capacity\n",
    "        self.memory = []\n",
    "        self.position = 0\n",
    "\n",
    "    def push(self, state, action, new_state, reward, done):\n",
    "        transition = (state, action, new_state, reward, done)\n",
    "\n",
    "        if self.position >= len(self.memory):\n",
    "            self.memory.append(transition)\n",
    "        else:\n",
    "            self.memory[self.position] = transition\n",
    "\n",
    "        self.position = (self.position + 1) % self.capacity\n",
    "\n",
    "    def push_batch (self, batch):\n",
    "        for state, action, new_state, reward, done in batch:\n",
    "            self.push (state, action, new_state, reward, done)\n",
    "            \n",
    "    def sample(self, batch_size):\n",
    "        return zip(*random.sample(self.memory, batch_size))\n",
    "    \n",
    "    def reset (self):\n",
    "        self.memory = []\n",
    "        self.position = 0\n",
    "\n",
    "    def __len__(self):\n",
    "        return len(self.memory)\n",
    "\n",
    "class ReplayMemory3(ReplayMemory):\n",
    "    \"\"\" variant with separate list of keys for deduplication\"\"\"\n",
    "    def __init__(self, capacity=10000):\n",
    "        self.capacity = capacity\n",
    "        self.memory = []\n",
    "        self.keys=[]\n",
    "        self.position = 0\n",
    "\n",
    "    def push(self, state, action, new_state, reward, done):\n",
    "        transition = (state, action, new_state, reward, done)\n",
    "\n",
    "        if self.position >= len(self.memory):\n",
    "            self.memory.append(transition)\n",
    "        else:\n",
    "            self.memory[self.position] = transition\n",
    "        self.position = (self.position + 1) % self.capacity\n",
    "\n",
    "    def reset (self):\n",
    "        self.memory = []\n",
    "        self.position = 0\n",
    "\n",
    "\n",
    "class ReplayMemory4():\n",
    "    \"\"\" Uses separate memories for positive and negative experiences \"\"\"\n",
    "    def __init__(self, capacity=10000):\n",
    "        self.capacity = capacity\n",
    "        self.positives = ReplayMemory3(capacity=capacity//2)\n",
    "        self.negatives = ReplayMemory3(capacity=capacity//2)\n",
    "\n",
    "    def push_batch (self, batch):\n",
    "        posi_batch = [b for b in batch if b[3]>0.9]\n",
    "        nega_batch = [b for b in batch if b[3]<=0.9]\n",
    "        self.positives.push_batch(posi_batch)\n",
    "        self.negatives.push_batch(nega_batch)\n",
    "    \n",
    "    def push(self, state, action, new_state, reward, done):\n",
    "        raise NotimplementedError\n",
    "        \n",
    "    def sample(self, batch_size):\n",
    "        posi_size = min (len(self.positives), batch_size//2)\n",
    "        nega_size = min (len(self.negatives), batch_size - posi_size)\n",
    "        if nega_size < batch_size //2:\n",
    "            posi_size = batch_size - nega_size\n",
    "        posi_sample = list(self.positives.sample(posi_size))\n",
    "        nega_sample = list(self.negatives.sample(nega_size))\n",
    "        return [p+n for p, n in zip_longest (posi_sample, nega_sample)]\n",
    "    \n",
    "    def reset (self):\n",
    "        self.positives.reset()\n",
    "        self.negatives.reset()\n",
    "                \n",
    "    def __len__(self):\n",
    "        return min(self.positives.__len__(), self.negatives.__len__())*2"
   ]
  },
  {
   "cell_type": "markdown",
   "metadata": {
    "heading_collapsed": true
   },
   "source": [
    "### Neural Networks"
   ]
  },
  {
   "cell_type": "code",
   "execution_count": 11,
   "metadata": {
    "hidden": true
   },
   "outputs": [],
   "source": [
    "\"\"\" NEURAL NETWORKS \"\"\"\n",
    "activations = {'relu': nn.ReLU, 'tanh': nn.Tanh}\n",
    "\n",
    "class NeuralNetwork(nn.Module):\n",
    "    \"\"\"\n",
    "    NN class with FC layers only\n",
    "    :param hidden: iterable of FC layer sizes\n",
    "    \"\"\"\n",
    "    def __init__(self, hidden, inputs=number_of_inputs, outputs=number_of_outputs, \n",
    "                 activation='relu'):\n",
    "        super(NeuralNetwork, self).__init__()\n",
    "        layers = [inputs] + hidden + [outputs]\n",
    "        layers_number = len(layers) - 1\n",
    "        self.fc_list= nn.ModuleList()\n",
    "        for i in range (layers_number):\n",
    "            self.fc_list.append(nn.Linear(layers[i],layers[i+1]))\n",
    "\n",
    "        self.activation = activations[activation]()\n",
    "\n",
    "    def forward(self, x):\n",
    "        out = self.fc_list[0](x)\n",
    "        for i in range (1, self.fc_list.__len__()):\n",
    "            out = self.activation(out)\n",
    "            out = self.fc_list[i](out)\n",
    "        return out\n",
    "\n",
    "class NeuralNetwork_Dueling(nn.Module):\n",
    "    \"\"\" Dualing NN based on Udemy example \"\"\"\n",
    "    def __init__(self, hidden=32, inputs=number_of_inputs, outputs=number_of_outputs, \n",
    "                 activation='relu'):\n",
    "        super(NeuralNetwork_Dueling, self).__init__()\n",
    "        self.linear1 = nn.Linear(inputs,hidden)\n",
    "        self.advantage = nn.Linear(hidden, outputs)\n",
    "        self.value = nn.Linear(hidden, 1)\n",
    "        self.activation = activations[activation]()\n",
    "\n",
    "    def forward(self, x):\n",
    "        out1 = self.linear1(x)\n",
    "        out1 = self.activation(out1)       \n",
    "        out_adv = self.advantage(out1)\n",
    "        out_val = self.value(out1)\n",
    "        out = out_val + out_adv - out_adv.mean()\n",
    "        return out  "
   ]
  },
  {
   "cell_type": "markdown",
   "metadata": {
    "heading_collapsed": true
   },
   "source": [
    "### Learning agent"
   ]
  },
  {
   "cell_type": "code",
   "execution_count": 12,
   "metadata": {
    "hidden": true
   },
   "outputs": [],
   "source": [
    "class Agent_DQN(object):\n",
    "    \"\"\"\n",
    "    Learning agent class. Contains NN and functions to use and optimize it\n",
    "    \"\"\"\n",
    "    def __init__(self, name, net, optimizer=\"adam\", lr=0.01, batch_size=32,\n",
    "                 double_dqn=False, clip_error=True, update_target_frequency=10,\n",
    "                 gamma=0.9999, loss_func='smooth_l1'):\n",
    "        \"\"\"\n",
    "        :param str name: text for unique representation of the agent\n",
    "        :param net: Torch NN for deep learning. \n",
    "        :param optimizer: Optimizer type for NN ('adam'/'sgd'/'rmsprop')\n",
    "        :param lr: Learning Rate\n",
    "        :param batch size: \n",
    "        :param double_dqn: uses Double Deep Q network architecture\n",
    "        :param clip_error: limits gradient error to [-1:1] range\n",
    "        :param update_target_frequency: number of optimizer call between target NN updates\n",
    "        :param gamma: discount factor for future rewards \n",
    "        :param loss_func: Loss function ('mse'/'smooth_l1')        \n",
    "        \"\"\"\n",
    "        self.name = name\n",
    "        self.double_dqn = double_dqn\n",
    "        self.clip_error = clip_error\n",
    "        self.batch_size = batch_size\n",
    "        self.update_target_frequency = update_target_frequency\n",
    "        self.gamma = gamma\n",
    "\n",
    "        self.memory = ReplayMemory4()\n",
    "        self.history = {'name': self.name, 'score': []}\n",
    "\n",
    "        self.nn = net.to(device)\n",
    "        self.target_nn = copy.deepcopy(self.nn).to(device)\n",
    "\n",
    "        loss_functions = {'mse': nn.MSELoss, 'smooth_l1': nn.SmoothL1Loss}\n",
    "        self.loss_func = loss_functions[loss_func]()\n",
    "\n",
    "        if optimizer == 'sgd':\n",
    "            self.optimizer = optim.SGD(\n",
    "                params=self.nn.parameters(), lr=lr, momentum=0.9)\n",
    "        elif optimizer == 'rmsprop':\n",
    "            self.optimizer = optim.RMSprop(params=self.nn.parameters(), lr=lr)\n",
    "        else:\n",
    "            self.optimizer = optim.Adam(params=self.nn.parameters(), lr=lr)\n",
    "\n",
    "        self.update_target_counter = 0\n",
    "        self.reset()\n",
    "    \n",
    "    @staticmethod\n",
    "    def weight_reset(m):\n",
    "        \"\"\"resets NN weights for FC and Conv layers \"\"\"\n",
    "        if isinstance(m, nn.Conv2d) or isinstance(m, nn.Linear):\n",
    "            m.reset_parameters()\n",
    "\n",
    "    def reset(self):\n",
    "        \"\"\"resets NN, memory and history between experiments\"\"\"\n",
    "        self.nn.apply(self.weight_reset)\n",
    "        self.update_target_net()\n",
    "        self.memory.reset()\n",
    "        self.history = {'name': self.name, 'score': []}\n",
    "        self.update_target_counter = 0\n",
    "\n",
    "    def transform_state(self, state):\n",
    "        \"\"\"transforms gym state output to torch tensor for NN use\"\"\"\n",
    "        if not isinstance (state, torch.Tensor):\n",
    "            state = torch.Tensor(state)\n",
    "        return state.unsqueeze(0).to(device)\n",
    "\n",
    "    def select_action(self, state, epsilon):\n",
    "        if torch.rand(1)[0] > epsilon:\n",
    "            with torch.no_grad():  # do we need this?\n",
    "                action_from_nn = self.nn(state)\n",
    "                action = torch.max(action_from_nn, -1).indices.item()\n",
    "        else:\n",
    "            action = env.action_space.sample()\n",
    "        return action\n",
    "\n",
    "    def optimize(self, verbose=False, batch_size=None):\n",
    "        \"\"\"wrapper for optimization routine\n",
    "        handles batch size choice and empty memory situations\"\"\"\n",
    "        if batch_size is None:\n",
    "            batch_size = self.batch_size\n",
    "        if len(self.memory) < batch_size:\n",
    "            return\n",
    "        sample = self.memory.sample(batch_size)\n",
    "        self.optimize_engine(sample, verbose)\n",
    "\n",
    "    def optimize_engine(self, sample, verbose=False):\n",
    "        \"\"\" optimization routine\n",
    "        optimizes self.nn weights based on 1 run of sample batch\n",
    "        sample: tuple (state, action, new_state, reward, done)\n",
    "        sample dimensions = (batch_size, state dimension(s))\n",
    "        \"\"\"\n",
    "        state, action, new_state, reward, done = sample\n",
    "        state_batch = torch.cat(state).to(device)\n",
    "        new_state = torch.cat(new_state).to(device)\n",
    "        reward_batch = torch.cat(reward).to(device)\n",
    "\n",
    "        action = LongTensor(action).to(device)\n",
    "        done = Tensor(done).to(device)\n",
    "\n",
    "        if self.double_dqn:  # idea from Udemy course\n",
    "            new_state_indexes = self.nn(new_state).detach()\n",
    "            max_new_state_indexes = torch.max(new_state_indexes, 1)[1]\n",
    "\n",
    "            new_state_values = self.target_nn(new_state).detach()\n",
    "            max_new_state_values = new_state_values.gather(\n",
    "                1, max_new_state_indexes.unsqueeze(1)).squeeze(1)\n",
    "        else:\n",
    "            new_state_values = self.target_nn(new_state).detach()\n",
    "            max_new_state_values = torch.max(new_state_values, 1)[0]\n",
    "\n",
    "        target_value = reward_batch + \\\n",
    "            (1 - done) * self.gamma * max_new_state_values  # Bellman Equation\n",
    "        predicted_value = self.nn(state_batch).gather(\n",
    "            1, action.unsqueeze(1)).squeeze(1)\n",
    "\n",
    "        loss = self.loss_func(predicted_value, target_value)\n",
    "        \n",
    "        self.optimizer.zero_grad()\n",
    "        loss.backward()\n",
    "\n",
    "        if self.clip_error:  # limit error - idea from Deepmind’s paper:\n",
    "            for param in self.nn.parameters():\n",
    "                param.grad.data.clamp_(-1, 1)\n",
    "\n",
    "        self.optimizer.step()\n",
    "\n",
    "        if self.update_target_counter % self.update_target_frequency == 0:\n",
    "            self.update_target_net()\n",
    "\n",
    "        self.update_target_counter += 1\n",
    "\n",
    "    def update_target_net(self):\n",
    "        \"\"\"copies policy NN weights to target NN\"\"\"\n",
    "        self.target_nn.load_state_dict(self.nn.state_dict())\n",
    "        \n",
    "        \n",
    "# class Agent_DQN_2 (Agent_DQN):\n",
    "#     \"\"\" uses different transformation for video inputs \"\"\"\n",
    "#     def transform_state(self, state):\n",
    "#         return state.unsqueeze(0).to(device)"
   ]
  },
  {
   "cell_type": "markdown",
   "metadata": {},
   "source": [
    "### LAB for experiments"
   ]
  },
  {
   "cell_type": "code",
   "execution_count": 13,
   "metadata": {},
   "outputs": [],
   "source": [
    "# Functions to transform rewards given by the gym to penalize last steps before agent failure\n",
    "\n",
    "def transform_run_history(run_history):\n",
    "    \"\"\" исправляет историю перед отправкой в память\n",
    "    добавляет отрицательные награды в последние шаги перед падением\n",
    "    если история короче максимума\"\"\"\n",
    "    loss_score = -1.0\n",
    "    if len (run_history) < max_steps:\n",
    "        run_history[-1][3] *= loss_score\n",
    "        run_history[-2][3] *= loss_score / 2.0\n",
    "        run_history[-3][3] *= loss_score / 4.0\n",
    "        run_history[-4][3] *= 0\n",
    "        run_history[-5][3] *= 0\n",
    "        run_history[-6][3] *= 0\n",
    "        run_history[-7][3] *= 0\n",
    "    return run_history\n",
    "\n",
    "def transform_run_history_01(run_history): # OLDER VERSION\n",
    "    \"\"\" исправляет историю перед отправкой в память\n",
    "    добавляет отрицательные награды в последние шаги перед падением\n",
    "    если история короче максимума\"\"\"\n",
    "    loss_score = -1.0\n",
    "    if len (run_history) < max_steps:\n",
    "        run_history[-1][3] *= loss_score\n",
    "        run_history[-2][3] *= loss_score / 2.0\n",
    "        run_history[-3][3] *= 0\n",
    "    return run_history"
   ]
  },
  {
   "cell_type": "code",
   "execution_count": 14,
   "metadata": {},
   "outputs": [],
   "source": [
    "class Lab(object):\n",
    "    \"\"\" \n",
    "    запускает тесты в Open.ai gym environment \n",
    "    в режимах обучения и тестирования\n",
    "    \"\"\"\n",
    "\n",
    "    def __init__(self, env=gym.make('CartPole-v0')):\n",
    "        self.env = env\n",
    "        self.max_steps = 200\n",
    "\n",
    "    def test(self, agent, episodes=5, min_score=195, max_steps=200, verbose=0):\n",
    "        \"\"\"\n",
    "        Runs multiple episodes to chech whether agent can reach target score\n",
    "        \"\"\"\n",
    "        start_time = time.time()\n",
    "        for i_episode in range(episodes):\n",
    "            result, _ = self.run_episode(agent, training=False)\n",
    "            if verbose > 0:\n",
    "                print(f\" test:{i_episode}, score:{result}\")\n",
    "            elapsed_time = time.time() - start_time  # to be used\n",
    "\n",
    "            if result < min_score:\n",
    "                if verbose > 0:\n",
    "                    print(\"TEST FAILED...\")\n",
    "                return False\n",
    "        if verbose > 0:\n",
    "            print(\"TEST PASSED !\")\n",
    "        return True\n",
    "\n",
    "    def train(self, agent, max_episodes=1000,  verbose=0,  epsilon_params=None,\n",
    "              report_interval=10, ):\n",
    "        \"\"\"\n",
    "        Runs multiple episodes to chech whether agent can reach target score\n",
    "        :param agent: Agent to be trained\n",
    "        :param max_episodes:\n",
    "        :param verbose: 0=none, 1, 2\n",
    "        :param epsilon_params: tuple of 3 numbers for epsilon function \n",
    "        :param report_interval: episodes between brief reports (if verbose > 0)\n",
    "        \"\"\"\n",
    "        if verbose > 0:\n",
    "            print(\n",
    "                f\"Training for agent '{agent.name}', max_episodes:{max_episodes}\")\n",
    "        start_time = time.time()  # for overal traininig time\n",
    "        train_time = 0\n",
    "        solved = False\n",
    "\n",
    "        for i_episode in range(1, max_episodes+1):\n",
    "            epsilon = get_epsilon(i_episode, epsilon_params)\n",
    "\n",
    "            result, run_history = self.run_episode(\n",
    "                agent, training=True, epsilon=epsilon)\n",
    "\n",
    "            elapsed_time = time.time() - start_time\n",
    "\n",
    "            run_history = transform_run_history(run_history)\n",
    "            agent.memory.push_batch(run_history)\n",
    "\n",
    "            agent.history['score'].append(result)\n",
    "            if i_episode % report_interval == 0 and verbose >= 2:\n",
    "                print(f\"Episode {i_episode}: \"\n",
    "                      f\"Last {report_interval} average: {sum(agent.history['score'][-report_interval:])/report_interval:.1f}; \"\n",
    "                      f\"Eps: {epsilon:.3f}, \"\n",
    "                      \"Elapsed:\", time.strftime(\"%H:%M:%S\", time.gmtime(elapsed_time)))\n",
    "\n",
    "            if not solved and result >= score_to_solve:  # test if solved\n",
    "                if self.test(agent):  # if test returns True\n",
    "                    if verbose >= 1:\n",
    "                        print(\"SOLVED! After %i episodes \" % i_episode)\n",
    "                    solved_after = i_episode\n",
    "                    solved = True\n",
    "                    break\n",
    "        agent.history['elapsed_time'] = elapsed_time\n",
    "        agent.history['episodes'] = i_episode\n",
    "\n",
    "        if verbose >= 1:\n",
    "            print(\n",
    "                f\"Elapsed {elapsed_time:.2f}s, per episode:{elapsed_time/i_episode:.2f}s, \")\n",
    "\n",
    "    def run_episode(self, agent, training=False, epsilon=0, verbose=1):\n",
    "        \"\"\"\n",
    "        runs single episode of gym with Agent\n",
    "        calls NN optimization function in training mode\n",
    "        \"\"\"\n",
    "        state = self.env.reset()\n",
    "        state = agent.transform_state(state)\n",
    "        run_history = []\n",
    "        counter = 0\n",
    "        done = False\n",
    "\n",
    "        for step in range(1, self.max_steps+1):  # and counter < max_steps:\n",
    "            action = agent.select_action(state, epsilon)\n",
    "\n",
    "            new_state, reward, done, info = self.env.step(action)\n",
    "            new_state = agent.transform_state(new_state)\n",
    "\n",
    "            if training:\n",
    "                if done and step < 190:\n",
    "                    reward = -1.0  # tweak to add negative reward\n",
    "                reward = torch.tensor([reward], device=device)\n",
    "                agent.optimize()\n",
    "                run_history.append([state, action, new_state, reward, done])\n",
    "            state = new_state\n",
    "\n",
    "            if done:\n",
    "                break\n",
    "                \n",
    "        return step, run_history"
   ]
  },
  {
   "cell_type": "markdown",
   "metadata": {},
   "source": [
    "### Тестирование модели"
   ]
  },
  {
   "cell_type": "code",
   "execution_count": 15,
   "metadata": {},
   "outputs": [
    {
     "data": {
      "text/plain": [
       "device(type='cpu')"
      ]
     },
     "execution_count": 15,
     "metadata": {},
     "output_type": "execute_result"
    }
   ],
   "source": [
    "# non-visual models are faster with CPU (3-4 x)\n",
    "# device = torch.device(\"cuda\" if torch.cuda.is_available() else \"cpu\")\n",
    "device = torch.device(\"cpu\")\n",
    "device"
   ]
  },
  {
   "cell_type": "code",
   "execution_count": 16,
   "metadata": {},
   "outputs": [
    {
     "name": "stdout",
     "output_type": "stream",
     "text": [
      "Training for agent 'test_agent', max_episodes:300\n",
      "Episode 10: Last 10 average: 26.5; Eps: 0.821, Elapsed: 00:00:00\n",
      "Episode 20: Last 10 average: 29.8; Eps: 0.674, Elapsed: 00:00:00\n",
      "Episode 30: Last 10 average: 61.0; Eps: 0.553, Elapsed: 00:00:01\n",
      "SOLVED! After 31 episodes \n",
      "Elapsed 1.48s, per episode:0.05s, \n"
     ]
    }
   ],
   "source": [
    "lab = Lab()\n",
    "\n",
    "agent = Agent_DQN(name=\"test_agent\", net=NeuralNetwork([32],),\n",
    "                  optimizer=\"adam\", lr=0.01, double_dqn=False, update_target_frequency=500)\n",
    "\n",
    "e_params = {'start': 1, 'end': 0.01, 'decay': 50}\n",
    "lab.train(agent, max_episodes=300, verbose=2, epsilon_params=e_params)"
   ]
  },
  {
   "cell_type": "code",
   "execution_count": 21,
   "metadata": {},
   "outputs": [
    {
     "data": {
      "text/plain": [
       "1.2017288531973611"
      ]
     },
     "execution_count": 21,
     "metadata": {},
     "output_type": "execute_result"
    }
   ],
   "source": [
    "# ms per step\n",
    "agent.history['elapsed_time'] / sum(agent.history['score']) * 1000"
   ]
  },
  {
   "cell_type": "code",
   "execution_count": 22,
   "metadata": {},
   "outputs": [
    {
     "data": {
      "image/png": "[encoded data removed]",
      "text/plain": [
       "<Figure size 1152x288 with 1 Axes>"
      ]
     },
     "metadata": {
      "needs_background": "light"
     },
     "output_type": "display_data"
    }
   ],
   "source": [
    "plot_running_avg(agent.history['score'], window = 1)"
   ]
  },
  {
   "cell_type": "code",
   "execution_count": 23,
   "metadata": {},
   "outputs": [
    {
     "name": "stdout",
     "output_type": "stream",
     "text": [
      " test:0, score:200\n",
      " test:1, score:200\n",
      " test:2, score:200\n",
      " test:3, score:200\n",
      " test:4, score:200\n",
      "TEST PASSED !\n"
     ]
    },
    {
     "data": {
      "text/plain": [
       "True"
      ]
     },
     "execution_count": 23,
     "metadata": {},
     "output_type": "execute_result"
    }
   ],
   "source": [
    "lab.test(agent, episodes=5, min_score=195, max_steps=200, verbose=1)"
   ]
  },
  {
   "cell_type": "code",
   "execution_count": null,
   "metadata": {},
   "outputs": [],
   "source": [
    "assert False, 'Stopper to save Notebook from re-runs'"
   ]
  },
  {
   "cell_type": "code",
   "execution_count": 3,
   "metadata": {},
   "outputs": [
    {
     "data": {
      "text/plain": [
       "(1, tensor([1.]))"
      ]
     },
     "execution_count": 3,
     "metadata": {},
     "output_type": "execute_result"
    }
   ],
   "source": [
    "a=1\n",
    "b = torch.Tensor([a])\n",
    "a, b\n"
   ]
  },
  {
   "cell_type": "code",
   "execution_count": 5,
   "metadata": {},
   "outputs": [
    {
     "data": {
      "text/plain": [
       "True"
      ]
     },
     "execution_count": 5,
     "metadata": {},
     "output_type": "execute_result"
    }
   ],
   "source": [
    "isinstance (b, torch.Tensor)"
   ]
  },
  {
   "cell_type": "code",
   "execution_count": 2,
   "metadata": {},
   "outputs": [],
   "source": [
    "import torch"
   ]
  },
  {
   "cell_type": "code",
   "execution_count": null,
   "metadata": {},
   "outputs": [],
   "source": []
  },
  {
   "cell_type": "markdown",
   "metadata": {},
   "source": [
    "# Обучение с подкреплением на основе визуальной информации"
   ]
  },
  {
   "cell_type": "markdown",
   "metadata": {},
   "source": [
    "Далее решаем задачу Cartpole с обучением сети только на основе визуальной информации. \n",
    "\n",
    "**Основа:**\n",
    "\n",
    "За основу я пытался взять код из примера https://pytorch.org/tutorials/intermediate/reinforcement_q_learning.html но он не давал положительного результата, поэтому потребовалось провестиряд модификаций описанных ниже:\n",
    "\n",
    "- раздельная память\n",
    "- ввод трёх кадров подряд вместо разности двух\n",
    "- более мощная нейросеть\n",
    "- подбор гиперпараметров\n",
    "\n",
    "\n",
    "**Изменения в сравнении с простой задачей:**\n",
    "\n",
    "Для решения используем агента и Lab от простой задачи и меняем только следующее:\n",
    "- добавляем wrapper для Gym Environment, который будет передавать состояние Environment в виде видео кадров\n",
    "- используем более мощные нейросети со слоями свёртки\n",
    "- используем немного иные гиперпараметры"
   ]
  },
  {
   "cell_type": "code",
   "execution_count": 21,
   "metadata": {},
   "outputs": [
    {
     "data": {
      "text/plain": [
       "device(type='cuda')"
      ]
     },
     "execution_count": 21,
     "metadata": {},
     "output_type": "execute_result"
    }
   ],
   "source": [
    "# use GPU. Cuda on GTX-1080 runs 6x faster than Ryzen 2700x\n",
    "device = torch.device(\"cuda\" if torch.cuda.is_available() else \"cpu\")\n",
    "# device = torch.device(\"cpu\")\n",
    "device"
   ]
  },
  {
   "cell_type": "markdown",
   "metadata": {},
   "source": [
    "### Получение кадра и wrapper"
   ]
  },
  {
   "cell_type": "code",
   "execution_count": 22,
   "metadata": {},
   "outputs": [
    {
     "data": {
      "text/plain": [
       "Text(0.5, 1.0, 'Example extracted screen')"
      ]
     },
     "execution_count": 22,
     "metadata": {},
     "output_type": "execute_result"
    },
    {
     "data": {
      "image/png": "[encoded data removed]",
      "text/plain": [
       "<Figure size 432x288 with 1 Axes>"
      ]
     },
     "metadata": {
      "needs_background": "light"
     },
     "output_type": "display_data"
    }
   ],
   "source": [
    "resize = T.Compose([T.ToPILImage(),\n",
    "                    T.Resize(40, interpolation=Image.CUBIC),\n",
    "                    T.ToTensor()])\n",
    "\n",
    "def get_screen(env):\n",
    "    \"\"\"\n",
    "    takes gym screen render, converts to grayscale and scales downreduces \n",
    "    \"\"\"\n",
    "    screen = env.render(mode='rgb_array').transpose((2, 0, 1))\n",
    "\n",
    "    screen = np.sum(screen, axis=0)/3  # to grayscale\n",
    "\n",
    "    screen_height, screen_width = screen.shape\n",
    "    screen = screen[int(screen_height*0.4):int(screen_height * 0.8), :] # cut edges\n",
    "\n",
    "    screen = np.ascontiguousarray(screen, dtype=np.float32) / 255\n",
    "    screen = torch.from_numpy(screen)\n",
    "    screen = resize(screen).to(device)\n",
    "    return screen\n",
    "\n",
    "\n",
    "env.reset()\n",
    "plt.figure()\n",
    "scr = get_screen(env).cpu().squeeze(0).numpy()\n",
    "plt.imshow(scr,\n",
    "           interpolation='none')\n",
    "plt.title('Example extracted screen')\n",
    "# plt.show()"
   ]
  },
  {
   "cell_type": "code",
   "execution_count": 23,
   "metadata": {},
   "outputs": [],
   "source": [
    "class FrameStack():  \n",
    "    \"\"\"\n",
    "    Wrapper for video output from Cartpole Gym\n",
    "    delivers k latest frames stacked\n",
    "    \n",
    "    based on https://github.com/openai/baselines/blob/master/baselines/common/atari_wrappers.py\n",
    "    \"\"\"\n",
    "    def __init__(self, env, k=3):\n",
    "        self.k = k\n",
    "        self.frames = deque([], maxlen=k)\n",
    "        self.env = env\n",
    "\n",
    "    def reset(self):\n",
    "        state = self.env.reset()\n",
    "        frame = get_screen(self.env)\n",
    "        for _ in range(self.k):\n",
    "            self.frames.append(frame)\n",
    "        return self._get_ob()\n",
    "\n",
    "    def step(self, action):\n",
    "        state, reward, done, info = self.env.step(action)\n",
    "        frame = get_screen(self.env)\n",
    "        self.frames.append(frame)\n",
    "        return self._get_ob(), reward, done, info\n",
    "\n",
    "    def _get_ob(self):\n",
    "        assert len(self.frames) == self.k\n",
    "        return torch.cat(list(self.frames))\n",
    "\n",
    "class FrameStack_diff(FrameStack): \n",
    "    \"\"\"\n",
    "    returns last frame and deltas with 2 preceding frames\n",
    "    \"\"\"\n",
    "    def _get_ob(self):\n",
    "        output = [self.frames[-1], self.frames[-1]-self.frames[-2]]\n",
    "        return torch.cat(output)"
   ]
  },
  {
   "cell_type": "code",
   "execution_count": 24,
   "metadata": {},
   "outputs": [],
   "source": [
    "### тестировались три различных обёртки\n",
    "env2 = FrameStack_diff(env, 2)  # соответствует коду из примера на Torch\n",
    "env3 = FrameStack(env, 3)\n",
    "env4 = FrameStack(env, 4)"
   ]
  },
  {
   "cell_type": "markdown",
   "metadata": {},
   "source": [
    "### testing FrameStack wrapper"
   ]
  },
  {
   "cell_type": "code",
   "execution_count": 26,
   "metadata": {},
   "outputs": [
    {
     "data": {
      "text/plain": [
       "<matplotlib.image.AxesImage at 0x2e5a5ccd6a0>"
      ]
     },
     "execution_count": 26,
     "metadata": {},
     "output_type": "execute_result"
    },
    {
     "data": {
      "image/png": "[encoded data removed]",
      "text/plain": [
       "<Figure size 432x288 with 1 Axes>"
      ]
     },
     "metadata": {
      "needs_background": "light"
     },
     "output_type": "display_data"
    }
   ],
   "source": [
    "_ = env3.reset()\n",
    "\n",
    "for i in range (10):\n",
    "    s, reward, done, _ = env3.step(0)\n",
    "\n",
    "plt.imshow(s.cpu().permute(1, 2, 0).numpy())"
   ]
  },
  {
   "cell_type": "markdown",
   "metadata": {},
   "source": [
    "### Networks for visual input"
   ]
  },
  {
   "cell_type": "code",
   "execution_count": 27,
   "metadata": {},
   "outputs": [],
   "source": [
    "class DQN_V_1(nn.Module):\n",
    "    \"\"\" Сеть из примера PyTorch \"\"\"\n",
    "\n",
    "    def __init__(self, h, w, outputs):\n",
    "        super(DQN_V_1, self).__init__()\n",
    "        self.conv1 = nn.Conv2d(screen_channels, 16, kernel_size=5, stride=2)\n",
    "        self.bn1 = nn.BatchNorm2d(16)\n",
    "        self.conv2 = nn.Conv2d(16, 32, kernel_size=5, stride=2)\n",
    "        self.bn2 = nn.BatchNorm2d(32)\n",
    "        self.conv3 = nn.Conv2d(32, 32, kernel_size=5, stride=2)\n",
    "        self.bn3 = nn.BatchNorm2d(32)\n",
    "\n",
    "        # Number of Linear input connections depends on output of conv2d layers\n",
    "        # and therefore the input image size, so compute it.\n",
    "        def conv2d_size_out(size, kernel_size = 5, stride = 2):\n",
    "            return (size - (kernel_size - 1) - 1) // stride  + 1\n",
    "        convw = conv2d_size_out(conv2d_size_out(conv2d_size_out(w)))\n",
    "        convh = conv2d_size_out(conv2d_size_out(conv2d_size_out(h)))\n",
    "        linear_input_size = convw * convh * 32\n",
    "        self.head = nn.Linear(linear_input_size, outputs)\n",
    "\n",
    "    # Called with either one element to determine next action, or a batch\n",
    "    # during optimization. Returns tensor([[left0exp,right0exp]...]).\n",
    "    def forward(self, x):\n",
    "        x = F.relu(self.bn1(self.conv1(x)))\n",
    "        x = F.relu(self.bn2(self.conv2(x)))\n",
    "        x = F.relu(self.bn3(self.conv3(x)))\n",
    "        return self.head(x.view(x.size(0), -1))\n",
    "\n",
    "class DQN_V_1b(nn.Module):\n",
    "    \"\"\" То же, с добавлением второго полносвязного слоя \"\"\"\n",
    "\n",
    "    def __init__(self, h, w, outputs, channels=3):\n",
    "        super(DQN_V_1b, self).__init__()\n",
    "        self.conv1 = nn.Conv2d(channels, 96, kernel_size=5, stride=2)\n",
    "        self.bn1 = nn.BatchNorm2d(96)\n",
    "        self.conv2 = nn.Conv2d(96, 32, kernel_size=5, stride=2)\n",
    "        self.bn2 = nn.BatchNorm2d(32)\n",
    "        self.conv3 = nn.Conv2d(32, 32, kernel_size=5, stride=2)\n",
    "        self.bn3 = nn.BatchNorm2d(32)\n",
    "\n",
    "        # Number of Linear input connections depends on output of conv2d layers\n",
    "        # and therefore the input image size, so compute it.\n",
    "        def conv2d_size_out(size, kernel_size = 5, stride = 2):\n",
    "            return (size - (kernel_size - 1) - 1) // stride  + 1\n",
    "        convw = conv2d_size_out(conv2d_size_out(conv2d_size_out(w)))\n",
    "        convh = conv2d_size_out(conv2d_size_out(conv2d_size_out(h)))\n",
    "        linear_input_size = convw * convh * 32\n",
    "        self.fc4 = nn.Linear(linear_input_size, 42)  # extra FC layer\n",
    "        self.fc5 = nn.Linear(42,2)\n",
    "\n",
    "    def forward(self, x):\n",
    "        x = F.relu(self.bn1(self.conv1(x)))\n",
    "        x = F.relu(self.bn2(self.conv2(x)))\n",
    "        x = F.relu(self.bn3(self.conv3(x)))\n",
    "        x = x.view(x.size(0), -1)\n",
    "        x = self.fc4(x)\n",
    "        return self.fc5(x)\n",
    "    \n",
    "\n",
    "class DQN_V_1c(DQN_V_1b):\n",
    "    \"\"\" Усиленный вариант со сниженным шагом пераого сверточного слоя (stride=1)\"\"\"\n",
    "    def __init__(self, h, w, outputs, channels=3):\n",
    "        super(DQN_V_1c, self).__init__(h, w, outputs, channels)\n",
    "        self.conv1 = nn.Conv2d(channels, 96, kernel_size=5, stride=1)\n",
    "        self.bn1 = nn.BatchNorm2d(96)\n",
    "        self.conv2 = nn.Conv2d(96, 32, kernel_size=5, stride=2)\n",
    "        self.bn2 = nn.BatchNorm2d(32)\n",
    "        self.conv3 = nn.Conv2d(32, 32, kernel_size=5, stride=2)\n",
    "        self.bn3 = nn.BatchNorm2d(32)\n",
    "\n",
    "        linear_input_size = 6528  # число рассчитано по формуле из родительского класа\n",
    "        self.fc4 = nn.Linear(linear_input_size, 42)  # extra FC layer\n",
    "        self.fc5 = nn.Linear(42,2)"
   ]
  },
  {
   "cell_type": "markdown",
   "metadata": {},
   "source": [
    "### Video input experiments"
   ]
  },
  {
   "cell_type": "code",
   "execution_count": null,
   "metadata": {},
   "outputs": [],
   "source": [
    "# training example for demo\n",
    "lab_video = Lab(env=env3)\n",
    "screen = lab_video.env.reset()\n",
    "screen_channels, screen_height, screen_width = screen.shape\n",
    "\n",
    "net_v1c2 = DQN_V_1c(screen_height, screen_width, number_of_outputs, screen_channels)\n",
    "\n",
    "agent_v8 = Agent_DQN(name=\"video_agent\", net=net_v1c2, \n",
    "                  optimizer=\"sgd\", lr=0.01, double_dqn=False, update_target_frequency = 1000)\n",
    "\n",
    "e_params = {'start': 1, 'end': 0.01, 'decay': 100}\n",
    "lab_video.train(agent_v8, max_episodes=3000, verbose=2, epsilon_params = e_params,\n",
    "                report_interval = 20)"
   ]
  },
  {
   "cell_type": "code",
   "execution_count": null,
   "metadata": {},
   "outputs": [],
   "source": [
    "plot_running_avg(agent_v8.history['score'], window = 30)"
   ]
  },
  {
   "cell_type": "code",
   "execution_count": null,
   "metadata": {},
   "outputs": [],
   "source": [
    "lab_video.test(agent_v8, episodes=5, min_score=100, max_steps=200, verbose=1)"
   ]
  },
  {
   "cell_type": "code",
   "execution_count": 28,
   "metadata": {},
   "outputs": [
    {
     "data": {
      "text/plain": [
       "DQN_V_1c(\n",
       "  (conv1): Conv2d(3, 96, kernel_size=(5, 5), stride=(1, 1))\n",
       "  (bn1): BatchNorm2d(96, eps=1e-05, momentum=0.1, affine=True, track_running_stats=True)\n",
       "  (conv2): Conv2d(96, 32, kernel_size=(5, 5), stride=(2, 2))\n",
       "  (bn2): BatchNorm2d(32, eps=1e-05, momentum=0.1, affine=True, track_running_stats=True)\n",
       "  (conv3): Conv2d(32, 32, kernel_size=(5, 5), stride=(2, 2))\n",
       "  (bn3): BatchNorm2d(32, eps=1e-05, momentum=0.1, affine=True, track_running_stats=True)\n",
       "  (fc4): Linear(in_features=6528, out_features=42, bias=True)\n",
       "  (fc5): Linear(in_features=42, out_features=2, bias=True)\n",
       ")"
      ]
     },
     "execution_count": 28,
     "metadata": {},
     "output_type": "execute_result"
    }
   ],
   "source": [
    "lab_video = Lab(env=env3)\n",
    "screen = lab_video.env.reset()\n",
    "screen_channels, screen_height, screen_width = screen.shape\n",
    "DQN_V_1c(screen_height, screen_width, number_of_outputs, screen_channels)"
   ]
  },
  {
   "cell_type": "markdown",
   "metadata": {},
   "source": [
    "### успешное решение\n",
    "Подбором было найдено сочетание структуры сети и гиперпараметров, которые давали решение задачи за 800-1000 итераций (сравните с 30-50 для оптимизирванных решений простого варианта Cartpole)\n",
    "Учитывая длительность экспериментов, широкий поиск более оптимальных решений провести не удалось. Я ограничился тестированием выбора обёртки, мощности сети, размера подвыборки."
   ]
  },
  {
   "cell_type": "code",
   "execution_count": 31,
   "metadata": {
    "scrolled": true
   },
   "outputs": [
    {
     "name": "stdout",
     "output_type": "stream",
     "text": [
      "Training for agent 'video_agent', max_episodes:3000\n",
      "Episode 20: Last 20 average: 26.2; Eps: 0.821, Elapsed: 00:00:14\n",
      "Episode 40: Last 20 average: 25.1; Eps: 0.674, Elapsed: 00:00:30\n",
      "Episode 60: Last 20 average: 23.2; Eps: 0.553, Elapsed: 00:00:45\n",
      "Episode 80: Last 20 average: 26.7; Eps: 0.455, Elapsed: 00:01:02\n",
      "Episode 100: Last 20 average: 24.9; Eps: 0.374, Elapsed: 00:01:19\n",
      "Episode 120: Last 20 average: 29.1; Eps: 0.308, Elapsed: 00:01:38\n",
      "Episode 140: Last 20 average: 27.8; Eps: 0.254, Elapsed: 00:01:57\n",
      "Episode 160: Last 20 average: 28.6; Eps: 0.210, Elapsed: 00:02:17\n",
      "Episode 180: Last 20 average: 35.6; Eps: 0.174, Elapsed: 00:02:42\n",
      "Episode 200: Last 20 average: 35.1; Eps: 0.144, Elapsed: 00:03:06\n",
      "Episode 220: Last 20 average: 47.2; Eps: 0.120, Elapsed: 00:03:39\n",
      "Episode 240: Last 20 average: 41.7; Eps: 0.100, Elapsed: 00:04:08\n",
      "Episode 260: Last 20 average: 43.0; Eps: 0.084, Elapsed: 00:04:39\n",
      "Episode 280: Last 20 average: 49.5; Eps: 0.070, Elapsed: 00:05:14\n",
      "Episode 300: Last 20 average: 54.4; Eps: 0.059, Elapsed: 00:05:52\n",
      "Episode 320: Last 20 average: 51.5; Eps: 0.050, Elapsed: 00:06:28\n",
      "Episode 340: Last 20 average: 49.5; Eps: 0.043, Elapsed: 00:07:04\n",
      "Episode 360: Last 20 average: 49.4; Eps: 0.037, Elapsed: 00:07:39\n",
      "Episode 380: Last 20 average: 59.0; Eps: 0.032, Elapsed: 00:08:21\n",
      "Episode 400: Last 20 average: 62.5; Eps: 0.028, Elapsed: 00:09:05\n",
      "Episode 420: Last 20 average: 47.1; Eps: 0.025, Elapsed: 00:09:39\n",
      "Episode 440: Last 20 average: 59.2; Eps: 0.022, Elapsed: 00:10:21\n",
      "Episode 460: Last 20 average: 54.3; Eps: 0.020, Elapsed: 00:11:00\n",
      "Episode 480: Last 20 average: 60.2; Eps: 0.018, Elapsed: 00:11:43\n",
      "Episode 500: Last 20 average: 83.0; Eps: 0.017, Elapsed: 00:12:42\n",
      "Episode 520: Last 20 average: 71.0; Eps: 0.015, Elapsed: 00:13:33\n",
      "Episode 540: Last 20 average: 82.5; Eps: 0.014, Elapsed: 00:14:32\n",
      "Episode 560: Last 20 average: 99.6; Eps: 0.014, Elapsed: 00:15:45\n",
      "Episode 580: Last 20 average: 67.3; Eps: 0.013, Elapsed: 00:16:33\n",
      "Episode 600: Last 20 average: 58.8; Eps: 0.012, Elapsed: 00:17:15\n",
      "Episode 620: Last 20 average: 64.0; Eps: 0.012, Elapsed: 00:18:01\n",
      "Episode 640: Last 20 average: 80.8; Eps: 0.012, Elapsed: 00:18:59\n",
      "Episode 660: Last 20 average: 98.7; Eps: 0.011, Elapsed: 00:20:10\n",
      "Episode 680: Last 20 average: 102.3; Eps: 0.011, Elapsed: 00:21:27\n",
      "Episode 700: Last 20 average: 97.9; Eps: 0.011, Elapsed: 00:22:39\n",
      "Episode 720: Last 20 average: 97.0; Eps: 0.011, Elapsed: 00:23:48\n",
      "Episode 740: Last 20 average: 98.7; Eps: 0.011, Elapsed: 00:24:59\n",
      "Episode 760: Last 20 average: 69.4; Eps: 0.010, Elapsed: 00:25:49\n",
      "Episode 780: Last 20 average: 70.8; Eps: 0.010, Elapsed: 00:26:40\n",
      "Episode 800: Last 20 average: 94.8; Eps: 0.010, Elapsed: 00:27:48\n",
      "SOLVED! After 815 episodes \n",
      "Elapsed 1739.76s, per episode:2.13s, \n"
     ]
    }
   ],
   "source": [
    "lab_video = Lab(env=env3)\n",
    "screen = lab_video.env.reset()\n",
    "screen_channels, screen_height, screen_width = screen.shape\n",
    "\n",
    "net_v1c = DQN_V_1c(screen_height, screen_width, number_of_outputs, screen_channels)\n",
    "\n",
    "agent_v7 = Agent_DQN(name=\"video_agent\", net=net_v1c, \n",
    "                  optimizer=\"adam\", lr=0.01, double_dqn=False, update_target_frequency = 1000)\n",
    "\n",
    "e_params = {'start': 1, 'end': 0.01, 'decay': 100}\n",
    "\n",
    "lab_video.train(agent_v7, max_episodes=3000, verbose=2, epsilon_params = e_params,\n",
    "                report_interval = 20)"
   ]
  },
  {
   "cell_type": "markdown",
   "metadata": {},
   "source": [
    "График показывает сглаженные значения. После 815 шагов обучения данный агент смог 5 раз подряд продержать маятник в течение 200 шагов."
   ]
  },
  {
   "cell_type": "code",
   "execution_count": 32,
   "metadata": {},
   "outputs": [
    {
     "data": {
      "image/png": "[encoded data removed]",
      "text/plain": [
       "<Figure size 1152x288 with 1 Axes>"
      ]
     },
     "metadata": {
      "needs_background": "light"
     },
     "output_type": "display_data"
    }
   ],
   "source": [
    "plot_running_avg(agent_v7.history['score'], window = 30)"
   ]
  },
  {
   "cell_type": "code",
   "execution_count": null,
   "metadata": {},
   "outputs": [],
   "source": []
  },
  {
   "cell_type": "code",
   "execution_count": null,
   "metadata": {},
   "outputs": [],
   "source": []
  },
  {
   "cell_type": "code",
   "execution_count": null,
   "metadata": {},
   "outputs": [],
   "source": []
  },
  {
   "cell_type": "code",
   "execution_count": null,
   "metadata": {},
   "outputs": [],
   "source": []
  },
  {
   "cell_type": "code",
   "execution_count": null,
   "metadata": {},
   "outputs": [],
   "source": []
  },
  {
   "cell_type": "code",
   "execution_count": null,
   "metadata": {},
   "outputs": [],
   "source": []
  },
  {
   "cell_type": "markdown",
   "metadata": {},
   "source": [
    "real life examples:\n",
    "\n",
    "https://youtu.be/XiigTGKZfks\n",
    "\n",
    "https://www.youtube.com/watch?v=meMWfva-Jio"
   ]
  }
 ],
 "metadata": {
  "kernelspec": {
   "display_name": "Python 3",
   "language": "python",
   "name": "python3"
  },
  "language_info": {
   "codemirror_mode": {
    "name": "ipython",
    "version": 3
   },
   "file_extension": ".py",
   "mimetype": "text/x-python",
   "name": "python",
   "nbconvert_exporter": "python",
   "pygments_lexer": "ipython3",
   "version": "3.7.3"
  }
 },
 "nbformat": 4,
 "nbformat_minor": 2
}
