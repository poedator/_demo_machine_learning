{
 "cells": [
  {
   "cell_type": "markdown",
   "metadata": {},
   "source": [
    "**Otus Neural Networks**\n",
    "# ДЗ №7. Q-learning. \"Deep-Tac-Toe\"\n",
    "\n",
    "\n",
    "now based on draft version 8"
   ]
  },
  {
   "cell_type": "code",
   "execution_count": 1,
   "metadata": {},
   "outputs": [],
   "source": [
    "import numpy as np\n",
    "import random\n",
    "from tqdm.notebook import tqdm\n",
    "import copy\n",
    "import matplotlib.pyplot as plt\n",
    "%matplotlib inline\n",
    "\n",
    "from itertools import cycle"
   ]
  },
  {
   "cell_type": "code",
   "execution_count": 2,
   "metadata": {},
   "outputs": [
    {
     "name": "stdout",
     "output_type": "stream",
     "text": [
      "Torch: 1.4.0, device: cpu\n"
     ]
    }
   ],
   "source": [
    "import torch\n",
    "import torch.nn as nn\n",
    "# device = torch.device(\"cuda\" if torch.cuda.is_available() else \"cpu\")\n",
    "device = torch.device(\"cpu\")\n",
    "print(f\"Torch: {torch.__version__}, device: {device}\")"
   ]
  },
  {
   "cell_type": "markdown",
   "metadata": {},
   "source": [
    "## Вспомогательные функции \n",
    "Вспомогательные функции для запуска агентов и вывода результатов обучения / тестов"
   ]
  },
  {
   "cell_type": "code",
   "execution_count": 3,
   "metadata": {},
   "outputs": [],
   "source": [
    "def format_stats(stats, score=None):\n",
    "    \"\"\"\n",
    "    generates stats strings with Wins Losses Draws percent for [X] and [O], [XO] combined\n",
    "    :param stats: dictionary of results\n",
    "    :param score: integral score. If not provided, calculated as % wins + 1/2 % draws\n",
    "    output: 1-line formatted report \n",
    "    \"\"\"\n",
    "    if score is None:\n",
    "        score = round(stats[-1][1] + stats[-1][0]/2, 1)\n",
    "    s = [f\"[X] {stats[0][1]:>.0f},{stats[0][-1]:>.0f},{stats[0][0]:>.0f}\",\n",
    "         f\"[O] {stats[1][-1]:>.0f},{stats[1][1]:>.0f},{stats[1][0]:>.0f}\",\n",
    "         f\"[XO] {stats[-1][1]:>.1f}, {stats[-1][-1]:>.1f}, {stats[-1][0]:>.1f}\", ]\n",
    "    return f\"{s[0]:<12s} {s[1]:<12s} {s[2]:<21s} [SCORE] {score:2.1f}\"\n",
    "\n",
    "\n",
    "def test_agent(agent, opponents, num_episodes=1000):\n",
    "    \"\"\"\n",
    "    Runs multiple test games between agent and each of opponents (both sides)\n",
    "    \"\"\"\n",
    "    print(f\"Testing agent '{agent.name}' for {num_episodes} games vs:\")\n",
    "    if not type(opponents) == list:\n",
    "        opponents = [opponents]\n",
    "    print(' '*16, \"W, L, D      W, L, D       Win, Lose, Draw         score\")\n",
    "    for opp in opponents:\n",
    "        stats, score = agent.test_many_games(\n",
    "            player1=opp, num_episodes=num_episodes)\n",
    "        print(f\"{opp.name+':':<12s}\", format_stats(stats))\n",
    "    print()"
   ]
  },
  {
   "cell_type": "code",
   "execution_count": 4,
   "metadata": {},
   "outputs": [],
   "source": [
    "def train_agent(agent, train_opponent=None, test_opponent=None,  max_games=25000, eps_anneal=None,\n",
    "                test_num_episodes=1000, train_num_episodes=1000, early_stop=True, player_mark=None):\n",
    "    \"\"\"\n",
    "    trains agent playing vs itself (TBD training vs opponent)\n",
    "    periodically reports training stats vs `test_opponent`\n",
    "    stops if reaches 100% draws (not a perfect measure of training success)\n",
    "    :param test_opponent: Agent class object to test against\n",
    "    :param max_games: overal max number of training games\n",
    "    :param tests_number: number of test games at each checkpoint\n",
    "    :param train_games_number: number of train games between checkpoints\n",
    "    :param eps_anneal: number of games to reach zero epsilon\n",
    "    \"\"\"\n",
    "\n",
    "    if train_opponent is None:\n",
    "        train_opponent = Agent(name='Agent_0')  # .random_move\n",
    "    if test_opponent is None:\n",
    "        test_opponent = agent  # testing vs self\n",
    "\n",
    "    score_list = []\n",
    "    initial_epsilon = agent.epsilon\n",
    "    improve_window = 5  # num. periods to show improvement, or stop training\n",
    "\n",
    "    print(\n",
    "        f\"agent {agent.name} training vs {train_opponent.name}\")\n",
    "    print(f\"     test opponent: {test_opponent.name}\")\n",
    "    report_header = \"Games:     W, L, D      W, L, D       \" \\\n",
    "                    \"Win, Lose, Draw         score    epsilon\"\n",
    "    for i in tqdm(range(0, max_games+1, train_num_episodes)):\n",
    "        if i == 0:\n",
    "            print(report_header)\n",
    "        print(f\"{i:>5}: \", end='')\n",
    "\n",
    "        if eps_anneal is not None:\n",
    "            agent.epsilon = initial_epsilon * \\\n",
    "                max((eps_anneal-i)/(eps_anneal), 0)\n",
    "\n",
    "        if i > 0:\n",
    "            agent.learn_game(train_opponent=train_opponent,\n",
    "                             num_episodes=train_num_episodes,\n",
    "                             player_mark=player_mark)\n",
    "\n",
    "        stats, score = agent.test_many_games(\n",
    "            player1=test_opponent, num_episodes=test_num_episodes)\n",
    "        print(format_stats(stats), f\"[ε] {agent.epsilon:.3f}\")\n",
    "        score_list.append(score)\n",
    "\n",
    "        if early_stop:\n",
    "            if test_opponent == [agent]:  # testing agent vs itself\n",
    "                if stats[-1][0] == 100:   # stop if always draw\n",
    "                    print(\n",
    "                        f\"Training stopped after {i} iterations: 100% draws.\")\n",
    "                    return\n",
    "            else:  # testing agent vs opponent\n",
    "                if max(score_list[-improve_window:]) < max(score_list) and early_stop:\n",
    "                    print(f\"Training stopped after {i} iterations: \" +\n",
    "                          f\"no progress for {improve_window*train_num_episodes} games\")\n",
    "                    return\n",
    "        agent.train_history.append((i, stats, score))\n",
    "    print(f\"Training complete after {i} iterations.\")\n",
    "\n",
    "\n",
    "def plot_train_history(agent):\n",
    "    \"\"\"\n",
    "    plots train history based on Agent().train_history data\n",
    "    \"\"\"\n",
    "    x = [h[0] for h in agent.train_history]\n",
    "    w0 = [h[1][0][1]/2 for h in agent.train_history]  # stats playing X\n",
    "    l0 = [h[1][0][-1]/2 for h in agent.train_history]\n",
    "    d0 = [h[1][0][0]/2 for h in agent.train_history]\n",
    "    w1 = [h[1][1][-1]/2 for h in agent.train_history]  # stats playing O\n",
    "    l1 = [h[1][1][1]/2 for h in agent.train_history]\n",
    "    d1 = [h[1][1][0]/2 for h in agent.train_history]\n",
    "    score = [h[2] for h in agent.train_history]\n",
    "\n",
    "    fig, ax = plt.subplots(figsize=(16, 4))\n",
    "    percent = [l1, l0, d1, d0, w1, w0]\n",
    "    color_win, color_lose, color_draw = 'yellowgreen', 'steelblue', 'gold'\n",
    "    hatches = ['o', '']\n",
    "    colors = (color_lose, color_lose, color_draw,\n",
    "              color_draw, color_win, color_win)\n",
    "    stacks_labels = ['lose O', 'lose X', 'draw O', 'draw X', 'win O', 'win X']\n",
    "    stacks = ax.stackplot(x, percent, colors=colors, labels=stacks_labels)\n",
    "    for i, stack in enumerate(stacks):\n",
    "        stack.set_hatch(hatches[i % 2])\n",
    "    ax.plot(x, score, color='r', label='score')\n",
    "    handles, labels = ax.get_legend_handles_labels()\n",
    "\n",
    "    ax.legend(handles[::-1], labels[::-1], bbox_to_anchor=(1.05, 0.8))"
   ]
  },
  {
   "cell_type": "markdown",
   "metadata": {},
   "source": [
    "## Game class"
   ]
  },
  {
   "cell_type": "code",
   "execution_count": 5,
   "metadata": {
    "code_folding": []
   },
   "outputs": [],
   "source": [
    "class TicTacToeGame():\n",
    "    \"\"\"\n",
    "    Класс игры в крестики-нолики на основе примера из класса. \n",
    "    Модифицирован для кодирования фишек 1 и -1.\n",
    "    Модифицирован для ускорения работы (почти вдвое )\n",
    "    \"\"\"\n",
    "\n",
    "    def __init__(self):\n",
    "        self.state = tuple([0] * 9)\n",
    "        self.player = 1\n",
    "        self.winner = False\n",
    "        self.symbols = {1: 'X', -1: 'O', 0: ' '}\n",
    "        self.update_allowed_moves()\n",
    "\n",
    "    def update_allowed_moves(self):\n",
    "        self.allowed_moves = []\n",
    "        self.all_moves = []\n",
    "        self.vacant_cells = []\n",
    "        for i in range(9):  # len(self.state)\n",
    "            move = self.state[:i] + tuple([self.player]) + self.state[i+1:]\n",
    "            self.all_moves.append(move)\n",
    "            if not self.state[i]:\n",
    "                self.vacant_cells.append(i)\n",
    "                self.allowed_moves.append(move)\n",
    "\n",
    "    def make_move(self, move):\n",
    "        assert self.winner == 0, \\\n",
    "            \"Game already completed, cannot make another move!\"\n",
    "        \n",
    "        if type(move)==int:  # allows for int input\n",
    "            move = self.all_moves[move]\n",
    "        \n",
    "        assert move in self.allowed_moves, \\\n",
    "            f\"Cannot change state {self.state} to {move} for player {self.player}\"\n",
    "\n",
    "        self.state = move\n",
    "        self.winner = self.predict_winner(self.state)\n",
    "        if self.winner == 0:\n",
    "            self.player = -self.player\n",
    "            self.update_allowed_moves()\n",
    "        return self.winner\n",
    "\n",
    "    def playable(self):\n",
    "        return not (self.winner or all(self.state))\n",
    "\n",
    "    def predict_winner(self, state):\n",
    "        lines = [(0, 1, 2), (3, 4, 5), (6, 7, 8), (0, 3, 6),\n",
    "                 (1, 4, 7), (2, 5, 8), (0, 4, 8), (2, 4, 6)]\n",
    "        winner = None\n",
    "        for line in lines:\n",
    "            line_state = state[line[0]] + state[line[1]] + state[line[2]]\n",
    "            if line_state == 3:\n",
    "                return 1\n",
    "            elif line_state == -3:\n",
    "                return -1\n",
    "        return 0\n",
    "\n",
    "    def print_board(self):\n",
    "        s = [self.symbols[i] for i in self.state]\n",
    "        print('     {} | {} | {} '.format(s[0], s[1], s[2]))\n",
    "        print('    -----------')\n",
    "        print('     {} | {} | {} '.format(s[3], s[4], s[5]))\n",
    "        print('    -----------')\n",
    "        print('     {} | {} | {} '.format(s[6], s[7], s[8]))\n",
    "\n",
    "    def print_result(self):\n",
    "        if self.winner:\n",
    "            print(f\"\\n{self.symbols[self.winner]} is the winner!\")\n",
    "        else:\n",
    "            print(\"\\nIt's a draw!\")"
   ]
  },
  {
   "cell_type": "markdown",
   "metadata": {},
   "source": [
    "## Agent class (table-based)"
   ]
  },
  {
   "cell_type": "code",
   "execution_count": 6,
   "metadata": {
    "code_folding": [
     125,
     139,
     142
    ]
   },
   "outputs": [],
   "source": [
    "class Agent():\n",
    "    def __init__(self, game_class=TicTacToeGame, name='Agent_instance', \n",
    "                 epsilon=0.3, alpha=0.9, player_mark=None):\n",
    "        self.V = dict()\n",
    "        self.NewGame = game_class\n",
    "        self.name = name\n",
    "        self.epsilon = epsilon\n",
    "        self.alpha = alpha\n",
    "        self.train_history = []\n",
    "\n",
    "    def __call__(self, *args, **kwargs):\n",
    "        \"\"\"\n",
    "        when object called as function - return best move\n",
    "        \"\"\"\n",
    "        return self.play_select_move(*args, **kwargs)\n",
    "\n",
    "    def state_value(self, game_state):\n",
    "        return self.V.get(game_state, 0)\n",
    "\n",
    "    def get_states_values(self, game):\n",
    "        return {state: self.state_value(state) for state in game.allowed_moves}\n",
    "\n",
    "    def play_select_move(self, game):\n",
    "        allowed_state_values = self.get_states_values(game)\n",
    "        best_val = max(allowed_state_values.values())  # for both X and O\n",
    "        best_moves = [mov for mov, val in allowed_state_values.items() if val == best_val]\n",
    "        return random.choice(best_moves)\n",
    "\n",
    "    def learn_game(self, train_opponent, num_episodes=1000, player_mark=None):\n",
    "        for episode in range(num_episodes):\n",
    "            if player_mark is None:\n",
    "                self.player_mark = 1 if episode % 2 else -1\n",
    "            else:\n",
    "                self.player_mark = player_mark\n",
    "            self.learn_from_episode(train_opponent)\n",
    "\n",
    "    def learn_from_episode(self, train_opponent):\n",
    "        self.history = {'positions': [], 'moves': [], 'rewards': [],}\n",
    "        game = self.NewGame()\n",
    "\n",
    "        while game.playable():\n",
    "            if game.player != self.player_mark:  # opponent's turn\n",
    "                move = train_opponent(game)\n",
    "                reward = game.make_move(move)\n",
    "            else:  # Agent's turn\n",
    "                self.learn_from_move(game)\n",
    "        self.history['rewards'].append(game.winner * self.player_mark)  # only save reward once game over\n",
    "        self.history['positions'].append(game.state)\n",
    "        self.process_learning()\n",
    "\n",
    "    def process_learning(self):\n",
    "        \"\"\"update policy table based on latest game\"\"\"\n",
    "        for i in range(len(self.history['moves'])):\n",
    "            move = self.history['moves'][i]\n",
    "            td_target = self.history['rewards'][i+1]  # was i + 1\n",
    "            current_state_value = self.state_value(move)\n",
    "            self.V[move] = current_state_value + \\\n",
    "                self.alpha * (td_target - current_state_value)\n",
    "\n",
    "    def learn_from_move(self, game):\n",
    "        \"\"\"\n",
    "        make move and collect learning from it\n",
    "        \"\"\"\n",
    "        self.history['positions'].append(game.state)\n",
    "        best_next_move, selected_next_move = self.learn_select_move(game)\n",
    "        self.history['moves'].append(selected_next_move)\n",
    "        self.history['rewards'].append(\n",
    "            self.state_value(best_next_move))\n",
    "        game.make_move(selected_next_move)  # reward = ...\n",
    "\n",
    "    def learn_select_move(self, game):\n",
    "        \"\"\"\n",
    "        select move in learning mode using epsilon greedy\n",
    "        \"\"\"\n",
    "        best_move = self.play_select_move(game)\n",
    "        if random.random() < self.epsilon:\n",
    "            selected_move = self.random_move(game)\n",
    "        else:\n",
    "            selected_move = best_move\n",
    "        return best_move, selected_move\n",
    "\n",
    "    def random_move(self, game):\n",
    "        return random.choice(game.allowed_moves)\n",
    "\n",
    "    def demo_game(self, player0, player1, verbose=False):\n",
    "        \"\"\"\n",
    "        plays single game between 2 players\n",
    "        \"\"\"\n",
    "        game = self.NewGame()\n",
    "        t = 0\n",
    "        while game.playable():\n",
    "            current_player = [player0, player1][t % 2]\n",
    "            move = current_player(game)\n",
    "            game.make_move(move)\n",
    "            if verbose:\n",
    "                print(f\"\\nTurn {t} by 'Player {t%2}'\")\n",
    "                game.print_board()\n",
    "            t += 1\n",
    "        if verbose:\n",
    "            game.print_result()\n",
    "        return game.winner\n",
    "\n",
    "    def test_many_games(self, player0=None, player1=None, num_episodes=1000, verbose=True):\n",
    "        \"\"\" \n",
    "        Runs test matches between 2 opponents and delivers stats in form of \n",
    "        list of 3 dicts: for initial order, reverse order and average.\n",
    "        each dict in stats has % of player wins, player 2 wins and draws.\n",
    "        \"\"\"\n",
    "        player0 = self if player0 is None else player0\n",
    "        player1 = self if player1 is None else player1\n",
    "        results = []\n",
    "        players = [[player0, player1], [player1, player0]]\n",
    "        for p0, p1 in players:\n",
    "            raw_results = []\n",
    "            for i in range(num_episodes // 2):\n",
    "                raw_results.append(self.demo_game(p0, p1, verbose=False))\n",
    "            results.append(raw_results)\n",
    "        return self.process_results(*results)\n",
    "\n",
    "    def interactive_game(self, agent_player=1):\n",
    "        \"\"\" \n",
    "        game with human opponent of class Human()\n",
    "        enter 1 if Agent plays 'X' of -1 if Agent plays 'O'\n",
    "        \"\"\"\n",
    "        if agent_player == -1:\n",
    "            self.NewGame().print_board()  # show initial board to Human\n",
    "            self.demo_game(Human(), self, verbose=True)\n",
    "        else:\n",
    "            self.demo_game(self, Human(), verbose=True)\n",
    "\n",
    "    def process_results(self, results_x, results_o):\n",
    "        stats = []\n",
    "        keys_ = ([1, -1, 0], [-1, 1, 0])\n",
    "        for r, key in zip((results_x, results_o), keys_):\n",
    "            stats.append({k: round(r.count(k)/len(r)*100, 2) for k in key})\n",
    "        # append average scores\n",
    "        stats.append({k: round((stats[0][k] + stats[1][-k])/2, 2)\n",
    "                      for k in stats[0].keys()})\n",
    "        # reorder items in reversed stats dict\n",
    "        stats[1] = {k: stats[1][k] for k in [-1, 1, 0]}\n",
    "        score = round(stats[-1][1] + stats[-1][0]/2, 1)\n",
    "        return stats, score\n",
    "\n",
    "\n",
    "class Human(Agent):\n",
    "    \"\"\" Human player class. Only has move entry function.\"\"\"\n",
    "\n",
    "    def play_select_move(self, game):\n",
    "        allowed_moves = [i for i in range(9) if game.state[i] == 0]\n",
    "        human_move = None\n",
    "        while not human_move in allowed_moves:\n",
    "            human_move = int(\n",
    "                input(f'Choose move for {game.symbols[game.player]}, from {allowed_moves}: '))\n",
    "        return human_move"
   ]
  },
  {
   "cell_type": "markdown",
   "metadata": {},
   "source": [
    "## Тесты табличных агентов"
   ]
  },
  {
   "cell_type": "code",
   "execution_count": 7,
   "metadata": {},
   "outputs": [],
   "source": [
    "\"\"\" RANDOM PLAYING AGENT \"\"\"\n",
    "agent_0 = Agent(name=\"Agent_0\")"
   ]
  },
  {
   "cell_type": "code",
   "execution_count": 8,
   "metadata": {},
   "outputs": [
    {
     "name": "stdout",
     "output_type": "stream",
     "text": [
      "agent Agent_X training vs Agent_0\n",
      "     test opponent: Agent_0\n"
     ]
    },
    {
     "data": {
      "application/vnd.jupyter.widget-view+json": {
       "model_id": "0ca0c8b170934c5f8f2bb7b976780198",
       "version_major": 2,
       "version_minor": 0
      },
      "text/plain": [
       "HBox(children=(FloatProgress(value=0.0, max=26.0), HTML(value='')))"
      ]
     },
     "metadata": {},
     "output_type": "display_data"
    },
    {
     "name": "stdout",
     "output_type": "stream",
     "text": [
      "Games:     W, L, D      W, L, D       Win, Lose, Draw         score    epsilon\n",
      "    0: [X] 62,26,12 [O] 25,62,13 [XO] 43.7, 44.0, 12.3 [SCORE] 49.9 [ε] 0.800\n",
      " 1000: [X] 90,5,6   [O] 28,59,13 [XO] 59.0, 31.8, 9.2  [SCORE] 63.6 [ε] 0.720\n",
      " 2000: [X] 93,4,3   [O] 23,63,14 [XO] 58.2, 33.3, 8.5  [SCORE] 62.5 [ε] 0.640\n",
      " 3000: [X] 93,5,2   [O] 29,60,11 [XO] 60.9, 32.4, 6.7  [SCORE] 64.2 [ε] 0.560\n",
      " 4000: [X] 99,0,1   [O] 28,58,14 [XO] 63.6, 29.1, 7.3  [SCORE] 67.2 [ε] 0.480\n",
      " 5000: [X] 99,0,1   [O] 32,57,11 [XO] 65.9, 28.5, 5.6  [SCORE] 68.7 [ε] 0.400\n",
      " 6000: [X] 98,1,1   [O] 29,62,9  [XO] 63.5, 31.6, 4.9  [SCORE] 66.0 [ε] 0.320\n",
      " 7000: [X] 97,1,3   [O] 28,60,12 [XO] 62.1, 30.5, 7.4  [SCORE] 65.8 [ε] 0.240\n",
      " 8000: [X] 99,1,0   [O] 27,60,13 [XO] 62.8, 30.5, 6.7  [SCORE] 66.1 [ε] 0.160\n",
      " 9000: [X] 98,2,0   [O] 30,59,11 [XO] 64.2, 30.1, 5.7  [SCORE] 67.0 [ε] 0.080\n",
      "10000: [X] 99,0,1   [O] 28,59,13 [XO] 63.4, 29.5, 7.1  [SCORE] 67.0 [ε] 0.000\n",
      "Training stopped after 10000 iterations: no progress for 5000 games\n"
     ]
    }
   ],
   "source": [
    "\"\"\" AGENT TRAINED TO PLAY X \"\"\"\n",
    "agent_x = Agent(name=\"Agent_X\", epsilon=0.8)\n",
    "train_agent (agent_x, train_opponent = agent_0, test_opponent=agent_0, \n",
    "             player_mark=1, eps_anneal=10000)"
   ]
  },
  {
   "cell_type": "code",
   "execution_count": 9,
   "metadata": {},
   "outputs": [
    {
     "name": "stdout",
     "output_type": "stream",
     "text": [
      "agent Agent_O training vs Agent_0\n",
      "     test opponent: Agent_0\n"
     ]
    },
    {
     "data": {
      "application/vnd.jupyter.widget-view+json": {
       "model_id": "26eaee3eb6f94d3bad2641688b4e613b",
       "version_major": 2,
       "version_minor": 0
      },
      "text/plain": [
       "HBox(children=(FloatProgress(value=0.0, max=26.0), HTML(value='')))"
      ]
     },
     "metadata": {},
     "output_type": "display_data"
    },
    {
     "name": "stdout",
     "output_type": "stream",
     "text": [
      "Games:     W, L, D      W, L, D       Win, Lose, Draw         score    epsilon\n",
      "    0: [X] 58,27,14 [O] 28,61,11 [XO] 43.0, 44.2, 12.8 [SCORE] 49.4 [ε] 0.800\n",
      " 1000: [X] 56,31,13 [O] 59,32,9  [XO] 57.5, 31.8, 10.7 [SCORE] 62.9 [ε] 0.720\n",
      " 2000: [X] 63,24,13 [O] 67,26,7  [XO] 65.2, 25.2, 9.6  [SCORE] 70.0 [ε] 0.640\n",
      " 3000: [X] 58,28,13 [O] 78,18,4  [XO] 68.2, 22.9, 8.9  [SCORE] 72.7 [ε] 0.560\n",
      " 4000: [X] 58,31,12 [O] 82,13,5  [XO] 69.7, 21.9, 8.4  [SCORE] 73.9 [ε] 0.480\n",
      " 5000: [X] 60,26,13 [O] 82,10,8  [XO] 71.0, 18.4, 10.6 [SCORE] 76.3 [ε] 0.400\n",
      " 6000: [X] 57,26,16 [O] 82,12,6  [XO] 69.4, 19.4, 11.2 [SCORE] 75.0 [ε] 0.320\n",
      " 7000: [X] 59,33,8  [O] 83,9,9   [XO] 70.9, 20.7, 8.4  [SCORE] 75.1 [ε] 0.240\n",
      " 8000: [X] 58,30,12 [O] 79,10,11 [XO] 68.4, 19.8, 11.8 [SCORE] 74.3 [ε] 0.160\n",
      " 9000: [X] 58,28,14 [O] 83,9,9   [XO] 70.3, 18.2, 11.5 [SCORE] 76.0 [ε] 0.080\n",
      "10000: [X] 58,29,12 [O] 92,4,5   [XO] 75.1, 16.5, 8.4  [SCORE] 79.3 [ε] 0.000\n",
      "11000: [X] 58,31,11 [O] 90,2,7   [XO] 74.4, 16.4, 9.2  [SCORE] 79.0 [ε] 0.000\n",
      "12000: [X] 62,30,8  [O] 89,1,10  [XO] 75.6, 15.3, 9.1  [SCORE] 80.1 [ε] 0.000\n",
      "13000: [X] 61,29,11 [O] 87,4,9   [XO] 73.6, 16.3, 10.1 [SCORE] 78.6 [ε] 0.000\n",
      "14000: [X] 58,28,14 [O] 91,1,8   [XO] 74.8, 14.5, 10.7 [SCORE] 80.1 [ε] 0.000\n",
      "15000: [X] 59,29,12 [O] 91,1,8   [XO] 75.0, 15.0, 10.0 [SCORE] 80.0 [ε] 0.000\n",
      "16000: [X] 58,27,15 [O] 92,0,8   [XO] 74.9, 13.4, 11.7 [SCORE] 80.8 [ε] 0.000\n",
      "17000: [X] 60,29,12 [O] 93,0,7   [XO] 76.5, 14.4, 9.1  [SCORE] 81.0 [ε] 0.000\n",
      "18000: [X] 61,28,11 [O] 88,1,11  [XO] 74.7, 14.7, 10.6 [SCORE] 80.0 [ε] 0.000\n",
      "19000: [X] 62,28,10 [O] 89,0,11  [XO] 75.6, 14.0, 10.4 [SCORE] 80.8 [ε] 0.000\n",
      "20000: [X] 61,25,14 [O] 88,1,11  [XO] 74.9, 12.9, 12.2 [SCORE] 81.0 [ε] 0.000\n",
      "21000: [X] 59,28,12 [O] 88,1,11  [XO] 73.7, 14.8, 11.5 [SCORE] 79.5 [ε] 0.000\n",
      "22000: [X] 58,28,14 [O] 93,0,7   [XO] 75.3, 14.3, 10.4 [SCORE] 80.5 [ε] 0.000\n",
      "23000: [X] 58,32,11 [O] 90,1,9   [XO] 74.0, 16.1, 9.9  [SCORE] 79.0 [ε] 0.000\n",
      "24000: [X] 59,28,13 [O] 91,0,9   [XO] 75.1, 14.0, 10.9 [SCORE] 80.5 [ε] 0.000\n",
      "25000: [X] 57,31,13 [O] 87,3,10  [XO] 72.0, 16.7, 11.3 [SCORE] 77.7 [ε] 0.000\n",
      "Training stopped after 25000 iterations: no progress for 5000 games\n"
     ]
    }
   ],
   "source": [
    "\"\"\" AGENT TRAINED TO PLAY O \"\"\"\n",
    "agent_o = Agent(name=\"Agent_O\", epsilon=0.8)\n",
    "train_agent (agent_o, train_opponent = agent_0, test_opponent=agent_0, \n",
    "             player_mark=-1, eps_anneal=10000)"
   ]
  },
  {
   "cell_type": "code",
   "execution_count": 10,
   "metadata": {},
   "outputs": [
    {
     "name": "stdout",
     "output_type": "stream",
     "text": [
      "agent Agent_1 training vs Agent_0\n",
      "     test opponent: Agent_0\n"
     ]
    },
    {
     "data": {
      "application/vnd.jupyter.widget-view+json": {
       "model_id": "f68670b92725400dbd5a861e722ab380",
       "version_major": 2,
       "version_minor": 0
      },
      "text/plain": [
       "HBox(children=(FloatProgress(value=0.0, max=26.0), HTML(value='')))"
      ]
     },
     "metadata": {},
     "output_type": "display_data"
    },
    {
     "name": "stdout",
     "output_type": "stream",
     "text": [
      "Games:     W, L, D      W, L, D       Win, Lose, Draw         score    epsilon\n",
      "    0: [X] 58,27,15 [O] 27,61,12 [XO] 42.3, 44.2, 13.5 [SCORE] 49.0 [ε] 0.800\n",
      " 1000: [X] 71,19,10 [O] 47,40,13 [XO] 58.7, 29.6, 11.7 [SCORE] 64.5 [ε] 0.720\n",
      " 2000: [X] 92,3,5   [O] 54,34,13 [XO] 72.9, 18.1, 9.0  [SCORE] 77.4 [ε] 0.640\n",
      " 3000: [X] 89,7,3   [O] 60,27,14 [XO] 74.4, 17.0, 8.6  [SCORE] 78.7 [ε] 0.560\n",
      " 4000: [X] 88,6,6   [O] 71,17,12 [XO] 79.3, 11.4, 9.3  [SCORE] 84.0 [ε] 0.480\n",
      " 5000: [X] 93,2,4   [O] 72,19,9  [XO] 82.7, 10.7, 6.6  [SCORE] 86.0 [ε] 0.400\n",
      " 6000: [X] 92,5,3   [O] 78,15,7  [XO] 85.2, 10.1, 4.7  [SCORE] 87.5 [ε] 0.320\n",
      " 7000: [X] 93,4,3   [O] 79,13,8  [XO] 86.1, 8.3, 5.6   [SCORE] 88.9 [ε] 0.240\n",
      " 8000: [X] 98,0,2   [O] 71,17,11 [XO] 84.5, 8.8, 6.7   [SCORE] 87.8 [ε] 0.160\n",
      " 9000: [X] 98,0,2   [O] 83,9,8   [XO] 90.5, 4.7, 4.8   [SCORE] 92.9 [ε] 0.080\n",
      "10000: [X] 97,1,1   [O] 83,6,11  [XO] 90.0, 3.8, 6.2   [SCORE] 93.1 [ε] 0.000\n",
      "11000: [X] 96,2,2   [O] 84,4,12  [XO] 90.3, 2.8, 6.9   [SCORE] 93.8 [ε] 0.000\n",
      "12000: [X] 99,0,1   [O] 89,1,10  [XO] 94.2, 0.3, 5.5   [SCORE] 97.0 [ε] 0.000\n",
      "13000: [X] 96,1,2   [O] 87,2,11  [XO] 91.7, 1.6, 6.7   [SCORE] 95.0 [ε] 0.000\n",
      "14000: [X] 96,1,3   [O] 92,1,8   [XO] 93.8, 0.9, 5.3   [SCORE] 96.5 [ε] 0.000\n",
      "15000: [X] 96,1,3   [O] 90,0,10  [XO] 93.0, 0.5, 6.5   [SCORE] 96.2 [ε] 0.000\n",
      "16000: [X] 97,1,2   [O] 91,2,7   [XO] 94.1, 1.6, 4.3   [SCORE] 96.2 [ε] 0.000\n",
      "17000: [X] 99,0,1   [O] 90,1,9   [XO] 94.5, 0.4, 5.1   [SCORE] 97.0 [ε] 0.000\n",
      "18000: [X] 96,2,2   [O] 89,1,10  [XO] 92.7, 1.2, 6.1   [SCORE] 95.8 [ε] 0.000\n",
      "19000: [X] 99,0,1   [O] 93,0,7   [XO] 95.9, 0.0, 4.1   [SCORE] 98.0 [ε] 0.000\n",
      "20000: [X] 97,1,3   [O] 89,2,10  [XO] 92.8, 1.1, 6.1   [SCORE] 95.8 [ε] 0.000\n",
      "21000: [X] 98,0,2   [O] 89,1,11  [XO] 93.3, 0.5, 6.2   [SCORE] 96.4 [ε] 0.000\n",
      "22000: [X] 99,0,1   [O] 89,3,8   [XO] 93.7, 1.5, 4.8   [SCORE] 96.1 [ε] 0.000\n",
      "23000: [X] 99,0,1   [O] 89,3,9   [XO] 93.6, 1.3, 5.1   [SCORE] 96.1 [ε] 0.000\n",
      "24000: [X] 99,0,1   [O] 90,0,10  [XO] 94.5, 0.1, 5.4   [SCORE] 97.2 [ε] 0.000\n",
      "Training stopped after 24000 iterations: no progress for 5000 games\n"
     ]
    }
   ],
   "source": [
    "\"\"\" AGENT TRAINED TO PLAY both X and O vs random \"\"\"\n",
    "agent_1 = Agent(name=\"Agent_1\", epsilon=0.8)\n",
    "train_agent (agent_1, train_opponent = agent_0, test_opponent=agent_0,\n",
    "             player_mark=None, eps_anneal=10000)"
   ]
  },
  {
   "cell_type": "code",
   "execution_count": 11,
   "metadata": {},
   "outputs": [
    {
     "name": "stdout",
     "output_type": "stream",
     "text": [
      "agent Agent_2 training vs Agent_1\n",
      "     test opponent: Agent_1\n"
     ]
    },
    {
     "data": {
      "application/vnd.jupyter.widget-view+json": {
       "model_id": "6f0a254f64ea42cfadac6568697b9a30",
       "version_major": 2,
       "version_minor": 0
      },
      "text/plain": [
       "HBox(children=(FloatProgress(value=0.0, max=11.0), HTML(value='')))"
      ]
     },
     "metadata": {},
     "output_type": "display_data"
    },
    {
     "name": "stdout",
     "output_type": "stream",
     "text": [
      "Games:     W, L, D      W, L, D       Win, Lose, Draw         score    epsilon\n",
      "    0: [X] 0,90,9   [O] 0,99,1   [XO] 0.2, 94.5, 5.3   [SCORE] 2.9 [ε] 0.800\n",
      " 1000: [X] 100,0,0  [O] 0,0,100  [XO] 50.0, 0.0, 50.0  [SCORE] 75.0 [ε] 0.640\n",
      " 2000: [X] 100,0,0  [O] 0,0,100  [XO] 50.0, 0.0, 50.0  [SCORE] 75.0 [ε] 0.480\n",
      " 3000: [X] 100,0,0  [O] 0,0,100  [XO] 50.0, 0.0, 50.0  [SCORE] 75.0 [ε] 0.320\n",
      " 4000: [X] 100,0,0  [O] 0,0,100  [XO] 50.0, 0.0, 50.0  [SCORE] 75.0 [ε] 0.160\n",
      " 5000: [X] 100,0,0  [O] 0,0,100  [XO] 50.0, 0.0, 50.0  [SCORE] 75.0 [ε] 0.000\n",
      " 6000: [X] 100,0,0  [O] 0,0,100  [XO] 50.0, 0.0, 50.0  [SCORE] 75.0 [ε] 0.000\n",
      " 7000: [X] 100,0,0  [O] 0,0,100  [XO] 50.0, 0.0, 50.0  [SCORE] 75.0 [ε] 0.000\n",
      " 8000: [X] 100,0,0  [O] 0,0,100  [XO] 50.0, 0.0, 50.0  [SCORE] 75.0 [ε] 0.000\n",
      " 9000: [X] 100,0,0  [O] 0,0,100  [XO] 50.0, 0.0, 50.0  [SCORE] 75.0 [ε] 0.000\n",
      "10000: [X] 100,0,0  [O] 0,0,100  [XO] 50.0, 0.0, 50.0  [SCORE] 75.0 [ε] 0.000\n",
      "\n",
      "Training complete after 10000 iterations.\n"
     ]
    }
   ],
   "source": [
    "\"\"\" AGENT TRAINED TO PLAY both X and O vs agent_1 \"\"\"\n",
    "agent_2 = Agent(name=\"Agent_2\", epsilon = 0.8)\n",
    "train_agent (agent_2, train_opponent = agent_1, test_opponent=agent_1,\n",
    "             max_games=10000,  eps_anneal=5000)"
   ]
  },
  {
   "cell_type": "code",
   "execution_count": 27,
   "metadata": {},
   "outputs": [
    {
     "name": "stdout",
     "output_type": "stream",
     "text": [
      "agent Agent_3 training vs Agent_3\n",
      "     test opponent: Agent_3\n"
     ]
    },
    {
     "data": {
      "application/vnd.jupyter.widget-view+json": {
       "model_id": "f7e3fb1c58ed4850bc7c3dbbc78ea119",
       "version_major": 2,
       "version_minor": 0
      },
      "text/plain": [
       "HBox(children=(FloatProgress(value=0.0, max=16.0), HTML(value='')))"
      ]
     },
     "metadata": {},
     "output_type": "display_data"
    },
    {
     "name": "stdout",
     "output_type": "stream",
     "text": [
      "Games:     W, L, D      W, L, D       Win, Lose, Draw         score    epsilon\n",
      "    0: [X] 58,29,13 [O] 30,60,10 [XO] 44.1, 44.2, 11.7 [SCORE] 50.0 [ε] 0.800\n",
      " 1000: [X] 100,0,0  [O] 0,100,0  [XO] 50.0, 50.0, 0.0  [SCORE] 50.0 [ε] 0.720\n",
      " 2000: [X] 0,100,0  [O] 100,0,0  [XO] 50.0, 50.0, 0.0  [SCORE] 50.0 [ε] 0.640\n",
      " 3000: [X] 33,42,25 [O] 36,34,30 [XO] 34.8, 37.7, 27.5 [SCORE] 48.5 [ε] 0.560\n",
      " 4000: [X] 66,23,10 [O] 22,66,12 [XO] 44.4, 44.6, 11.0 [SCORE] 49.9 [ε] 0.480\n",
      " 5000: [X] 88,12,0  [O] 12,88,0  [XO] 49.9, 50.1, 0.0  [SCORE] 49.9 [ε] 0.400\n",
      " 6000: [X] 0,0,100  [O] 0,0,100  [XO] 0.0, 0.0, 100.0  [SCORE] 50.0 [ε] 0.320\n",
      " 7000: [X] 48,52,0  [O] 52,48,0  [XO] 49.7, 50.3, 0.0  [SCORE] 49.7 [ε] 0.240\n",
      " 8000: [X] 23,0,77  [O] 0,26,74  [XO] 11.5, 12.8, 75.7 [SCORE] 49.4 [ε] 0.160\n",
      " 9000: [X] 43,0,57  [O] 0,44,56  [XO] 21.4, 22.1, 56.5 [SCORE] 49.6 [ε] 0.080\n",
      "10000: [X] 0,0,100  [O] 0,0,100  [XO] 0.0, 0.0, 100.0  [SCORE] 50.0 [ε] 0.000\n",
      "11000: [X] 0,0,100  [O] 0,0,100  [XO] 0.0, 0.0, 100.0  [SCORE] 50.0 [ε] 0.000\n",
      "12000: [X] 0,0,100  [O] 0,0,100  [XO] 0.0, 0.0, 100.0  [SCORE] 50.0 [ε] 0.000\n",
      "13000: [X] 0,0,100  [O] 0,0,100  [XO] 0.0, 0.0, 100.0  [SCORE] 50.0 [ε] 0.000\n",
      "14000: [X] 0,0,100  [O] 0,0,100  [XO] 0.0, 0.0, 100.0  [SCORE] 50.0 [ε] 0.000\n",
      "15000: [X] 0,0,100  [O] 0,0,100  [XO] 0.0, 0.0, 100.0  [SCORE] 50.0 [ε] 0.000\n",
      "\n",
      "Training complete after 15000 iterations.\n"
     ]
    }
   ],
   "source": [
    "\"\"\" AGENT TRAINED TO PLAY vs ITSELF \"\"\"\n",
    "agent_3 = Agent(name=\"Agent_3\", epsilon=0.8)\n",
    "train_agent (agent_3, train_opponent = agent_3, test_opponent=agent_3,\n",
    "             player_mark=None, eps_anneal=10000, early_stop=False,  max_games=15000)"
   ]
  },
  {
   "cell_type": "code",
   "execution_count": 28,
   "metadata": {},
   "outputs": [
    {
     "name": "stdout",
     "output_type": "stream",
     "text": [
      "Testing agent 'Agent_X' for 1000 games vs:\n",
      "                 W, L, D      W, L, D       Win, Lose, Draw         score\n",
      "Agent_0:     [X] 99,0,1   [O] 29,59,12 [XO] 63.8, 29.7, 6.5  [SCORE] 67.0\n",
      "Agent_X:     [X] 100,0,0  [O] 0,99,1   [XO] 49.8, 49.4, 0.8  [SCORE] 50.2\n",
      "Agent_O:     [X] 0,0,100  [O] 30,57,12 [XO] 15.2, 28.6, 56.2 [SCORE] 43.3\n",
      "\n",
      "Testing agent 'Agent_O' for 1000 games vs:\n",
      "                 W, L, D      W, L, D       Win, Lose, Draw         score\n",
      "Agent_0:     [X] 58,31,11 [O] 86,2,12  [XO] 71.7, 16.5, 11.8 [SCORE] 77.6\n",
      "Agent_X:     [X] 56,29,15 [O] 0,0,100  [XO] 28.1, 14.5, 57.4 [SCORE] 56.8\n",
      "Agent_O:     [X] 4,85,11  [O] 85,2,12  [XO] 44.6, 43.5, 11.9 [SCORE] 50.6\n",
      "\n",
      "Testing agent 'Agent_1' for 1000 games vs:\n",
      "                 W, L, D      W, L, D       Win, Lose, Draw         score\n",
      "Agent_0:     [X] 99,0,1   [O] 90,1,9   [XO] 94.7, 0.6, 4.7   [SCORE] 97.0\n",
      "Agent_X:     [X] 99,0,1   [O] 0,0,100  [XO] 49.4, 0.0, 50.6  [SCORE] 74.7\n",
      "Agent_O:     [X] 0,0,100  [O] 90,1,9   [XO] 45.0, 0.5, 54.5  [SCORE] 72.2\n",
      "Agent_1:     [X] 0,0,100  [O] 0,0,100  [XO] 0.0, 0.0, 100.0  [SCORE] 50.0\n",
      "Agent_2:     [X] 0,0,100  [O] 0,100,0  [XO] 0.0, 50.0, 50.0  [SCORE] 25.0\n",
      "\n",
      "Testing agent 'Agent_2' for 1000 games vs:\n",
      "                 W, L, D      W, L, D       Win, Lose, Draw         score\n",
      "Agent_0:     [X] 63,22,14 [O] 30,61,9  [XO] 46.6, 41.8, 11.6 [SCORE] 52.4\n",
      "Agent_X:     [X] 59,27,14 [O] 0,96,4   [XO] 29.6, 61.4, 9.0  [SCORE] 34.1\n",
      "Agent_O:     [X] 1,56,42  [O] 28,59,13 [XO] 14.8, 57.5, 27.7 [SCORE] 28.6\n",
      "Agent_1:     [X] 100,0,0  [O] 0,0,100  [XO] 50.0, 0.0, 50.0  [SCORE] 75.0\n",
      "Agent_2:     [X] 60,26,14 [O] 28,58,13 [XO] 44.0, 42.2, 13.8 [SCORE] 50.9\n",
      "\n",
      "Testing agent 'Agent_3' for 1000 games vs:\n",
      "                 W, L, D      W, L, D       Win, Lose, Draw         score\n",
      "Agent_0:     [X] 97,0,3   [O] 82,1,17  [XO] 89.2, 0.6, 10.2  [SCORE] 94.3\n",
      "Agent_X:     [X] 97,0,3   [O] 0,49,51  [XO] 48.6, 24.6, 26.8 [SCORE] 62.0\n",
      "Agent_O:     [X] 0,0,100  [O] 84,1,15  [XO] 41.9, 0.4, 57.7  [SCORE] 70.8\n",
      "Agent_1:     [X] 0,0,100  [O] 0,0,100  [XO] 0.0, 0.0, 100.0  [SCORE] 50.0\n",
      "Agent_2:     [X] 67,0,32  [O] 48,3,49  [XO] 57.6, 1.9, 40.5  [SCORE] 77.8\n",
      "Agent_3:     [X] 0,0,100  [O] 0,0,100  [XO] 0.0, 0.0, 100.0  [SCORE] 50.0\n",
      "\n"
     ]
    }
   ],
   "source": [
    "test_agent(agent=agent_x, opponents=[agent_0, agent_x, agent_o])\n",
    "test_agent(agent=agent_o, opponents=[agent_0, agent_x, agent_o])\n",
    "test_agent(agent=agent_1, opponents=[agent_0, agent_x, agent_o, agent_1, agent_2])\n",
    "test_agent(agent=agent_2, opponents=[agent_0, agent_x, agent_o, agent_1, agent_2])\n",
    "test_agent(agent=agent_3, opponents=[agent_0, agent_x, agent_o, agent_1, agent_2, agent_3])"
   ]
  },
  {
   "cell_type": "code",
   "execution_count": 15,
   "metadata": {
    "code_folding": []
   },
   "outputs": [
    {
     "name": "stdout",
     "output_type": "stream",
     "text": [
      "Train history of Agent_1:\n",
      "Train history of Agent_3:\n"
     ]
    },
    {
     "data": {
      "image/png": "[encoded data removed]",
      "text/plain": [
       "<Figure size 1152x288 with 1 Axes>"
      ]
     },
     "metadata": {
      "needs_background": "light"
     },
     "output_type": "display_data"
    },
    {
     "data": {
      "image/png": "[encoded data removed]",
      "text/plain": [
       "<Figure size 1152x288 with 1 Axes>"
      ]
     },
     "metadata": {
      "needs_background": "light"
     },
     "output_type": "display_data"
    }
   ],
   "source": [
    "for agent in [agent_1, agent_3]:\n",
    "    print(f\"Train history of {agent.name}:\")\n",
    "    plot_train_history(agent)"
   ]
  },
  {
   "cell_type": "markdown",
   "metadata": {},
   "source": [
    "На основе игры агентов `agent_1` и `agent_3` наш **Baseline** (выше) находится на уровне 93-95% выигрышей против необученного агента и 100% ничьих с хорошо обученным агентом. Отметим, что наиболее сильные агенты 1 и 3 иногда допускают проигрыши (до 1%), т.к. в процессе обучения они не рассмотрели все возможные позиции."
   ]
  },
  {
   "cell_type": "code",
   "execution_count": 16,
   "metadata": {},
   "outputs": [
    {
     "data": {
      "text/plain": [
       "(4790, 4555)"
      ]
     },
     "execution_count": 16,
     "metadata": {},
     "output_type": "execute_result"
    }
   ],
   "source": [
    "# check number of positions learned. Theoretical max = 5890\n",
    "len (agent_1.V), len (agent_3.V)"
   ]
  },
  {
   "cell_type": "markdown",
   "metadata": {},
   "source": [
    "## Agent with Neural Network"
   ]
  },
  {
   "cell_type": "code",
   "execution_count": 17,
   "metadata": {},
   "outputs": [],
   "source": [
    "class NN_Simple(nn.Module):\n",
    "    \"\"\"\n",
    "    Полносвязная сеть для игры в крестики-нолики\n",
    "    \"\"\"\n",
    "\n",
    "    def __init__(self):\n",
    "        super(NN_Simple, self).__init__()\n",
    "        self.fc1 = nn.Linear(27, 144)\n",
    "        self.fc2 = nn.Linear(144, 36)\n",
    "        self.fc3 = nn.Linear(36, 9)\n",
    "\n",
    "    def convert_input(self, x):\n",
    "        # Преобразуем игровое поле в три набора бинарных величин (X, O, пустое)\n",
    "        x = torch.cat((x == 1, x == -1, x == 0), dim=-1).type(torch.float32)\n",
    "        return x\n",
    "\n",
    "    def forward(self, x0):\n",
    "        x0 = self.convert_input(x0)\n",
    "#         print (x0)\n",
    "        x = torch.relu(self.fc1(x0))\n",
    "        x = torch.relu(self.fc2(x))\n",
    "        return torch.tanh(self.fc3(x))"
   ]
  },
  {
   "cell_type": "code",
   "execution_count": 18,
   "metadata": {
    "code_folding": []
   },
   "outputs": [],
   "source": [
    "class ReplayMemory(object):\n",
    "    \"\"\" basic replay memory class with cyclical buffer \"\"\"\n",
    "\n",
    "    def __init__(self, capacity=1000):\n",
    "        self.capacity = capacity\n",
    "        self.flush()\n",
    "\n",
    "    def flush(self):\n",
    "        self.memory = []\n",
    "        self.position = 0\n",
    "\n",
    "    def push(self, state, move, reward, new_state, done):\n",
    "        transition = (state, move, reward, new_state, done)\n",
    "        if self.position >= len(self.memory):\n",
    "            self.memory.append(transition)\n",
    "        else:\n",
    "            self.memory[self.position] = transition\n",
    "        self.position = (self.position + 1) % self.capacity\n",
    "\n",
    "    def push_batch(self, batch):\n",
    "        state, move, reward, new_state, done = batch\n",
    "        for i in range(len(move)):\n",
    "            self.push(state[i], move[i], reward[i], new_state[i], done[i])\n",
    "\n",
    "    def sample(self, batch_size):\n",
    "        # allows for smaller batches if memory not well populated\n",
    "        batch_size = min(batch_size, self.__len__())\n",
    "        return random.sample(self.memory, batch_size)\n",
    "\n",
    "    def __len__(self):\n",
    "        return len(self.memory)"
   ]
  },
  {
   "cell_type": "code",
   "execution_count": 19,
   "metadata": {},
   "outputs": [],
   "source": [
    "class ReplayMemory2():\n",
    "    \"\"\" separate memories for positive and negative experiences \"\"\"\n",
    "    def __init__(self, capacity=10000):\n",
    "        self.capacity = capacity\n",
    "        self.positives = ReplayMemory(capacity=capacity//2)\n",
    "        self.negatives = ReplayMemory(capacity=capacity//2)\n",
    "\n",
    "    def push_batch (self, batch):\n",
    "        if batch[2][-1] <0:  # checking reward for the last move in batch\n",
    "            self.negatives.push_batch(batch)\n",
    "        else:\n",
    "            self.positives.push_batch(batch)\n",
    "    \n",
    "    def push(self, state, action, new_state, reward, done):\n",
    "        raise NotimplementedError\n",
    "        \n",
    "    def sample(self, batch_size):\n",
    "        posi_size = min (len(self.positives), batch_size//2)\n",
    "        nega_size = min (len(self.negatives), batch_size - posi_size)\n",
    "        if nega_size < batch_size //2:\n",
    "            posi_size = batch_size - nega_size\n",
    "        posi_sample = self.positives.sample(posi_size)\n",
    "        nega_sample = self.negatives.sample(nega_size)\n",
    "        return  posi_sample + nega_sample\n",
    "                \n",
    "    def __len__(self):\n",
    "        return min(self.positives.__len__(), self.negatives.__len__())*2"
   ]
  },
  {
   "cell_type": "code",
   "execution_count": 20,
   "metadata": {
    "code_folding": []
   },
   "outputs": [],
   "source": [
    "class Agent_NN_Q(Agent):\n",
    "    \"\"\"\n",
    "    Агент для игры в крестики-нолики.\n",
    "    Обучается с подкреплением методом Q-Learning\n",
    "    \"\"\"\n",
    "\n",
    "    def __init__(self, name=\"Agent_NN_Q_instance\", game_class=TicTacToeGame, epsilon=0.1,\n",
    "                 net=NN_Simple(), player_mark=1, lr=0.01, gamma=0.99, batch_size=32,\n",
    "                 memory_capacity=400, update_target_frequency=10):\n",
    "        super(Agent_NN_Q, self).__init__(\n",
    "            game_class, name, epsilon, player_mark)\n",
    "\n",
    "        self.nn = net.to(device)\n",
    "        self.target_nn = copy.deepcopy(self.nn).to(device)\n",
    "        self.loss_func = torch.nn.MSELoss\n",
    "        self.optimizer = torch.optim.SGD(params=self.nn.parameters(), lr=lr)\n",
    "        self.update_target_frequency = update_target_frequency\n",
    "        self.update_target_counter = 0\n",
    "        self.memory = ReplayMemory2(capacity=memory_capacity)\n",
    "        self.batch_size = batch_size\n",
    "        self.gamma = gamma\n",
    "\n",
    "    def get_states_values(self, game):\n",
    "        nn_input = game.player * \\\n",
    "            torch.Tensor(game.state).to(device)\n",
    "        state_values = self.nn(nn_input).detach().squeeze(0).cpu().numpy()\n",
    "        return {i: v for i, v in enumerate(state_values) if i in game.vacant_cells}\n",
    "\n",
    "    def learn_from_move(self, game):\n",
    "        state0 = [s * self.player_mark for s in game.state]\n",
    "        self.history['positions'].append(state0)\n",
    "        best_next_move, selected_next_move = self.learn_select_move(game)\n",
    "        self.history['moves'].append(selected_next_move)\n",
    "        reward = game.make_move(selected_next_move)\n",
    "        self.history['rewards'].append(0)  # final reward applied later\n",
    "\n",
    "    def random_move(self, game):\n",
    "        return random.choice(game.vacant_cells)\n",
    "\n",
    "    def process_learning(self):\n",
    "        # repackage episode history and load it to memory\n",
    "        moves_made = len(self.history['moves'])\n",
    "\n",
    "        state = self.history['positions'][:-1]\n",
    "        move = self.history['moves']\n",
    "        reward = [0] * moves_made\n",
    "        reward[-1] = self.history['rewards'][-1]\n",
    "        new_state = self.history['positions'][1:]\n",
    "        done = [0] * moves_made\n",
    "        done[-1] = 1\n",
    "        self.memory.push_batch((state, move, reward, new_state, done))\n",
    "\n",
    "        self.optimize()  # call optimize to train the NN\n",
    "        \n",
    "\n",
    "    def optimize(self):\n",
    "        \"\"\"\n",
    "        train NN based on sample from memory\n",
    "        \"\"\"\n",
    "        state, move, reward, new_state, done = \\\n",
    "            zip(*self.memory.sample(self.batch_size))\n",
    "        state = torch.Tensor(state).to(device)\n",
    "        new_state = torch.Tensor(new_state).to(device)\n",
    "        reward = torch.Tensor(reward).to(device)\n",
    "        done = torch.Tensor(done).to(device)\n",
    "\n",
    "        predicted_value = self.nn(state)\n",
    "\n",
    "        target_value = predicted_value.clone().detach()\n",
    "\n",
    "        legal_moves = (state == 0).type(torch.float32)\n",
    "        target_value = target_value * legal_moves  # 0 for non-legal moves\n",
    "\n",
    "        new_state_values = self.target_nn(new_state).detach()\n",
    "        # calculte reward for cells with moves\n",
    "        qv = torch.max(new_state_values, axis=1).values\n",
    "        reward[done == 0] = self.gamma * qv[done == 0]\n",
    "        # apply reward for cells with moves\n",
    "        target_value[np.arange(state.shape[0]), move] = reward\n",
    "\n",
    "        loss = self.loss_func()(predicted_value, target_value)\n",
    "        self.optimizer.zero_grad()\n",
    "        loss.backward()\n",
    "        self.optimizer.step()\n",
    "\n",
    "        if self.update_target_counter % self.update_target_frequency == 0:  # update target_nn\n",
    "            self.target_nn.load_state_dict(self.nn.state_dict())\n",
    "        self.update_target_counter += 1"
   ]
  },
  {
   "cell_type": "markdown",
   "metadata": {},
   "source": [
    "### Тест обучения ПОЛНОСВЯЗНОЙ сети"
   ]
  },
  {
   "cell_type": "code",
   "execution_count": 21,
   "metadata": {},
   "outputs": [
    {
     "name": "stdout",
     "output_type": "stream",
     "text": [
      "agent Agent_Q training vs Agent_0\n",
      "     test opponent: Agent_0\n"
     ]
    },
    {
     "data": {
      "application/vnd.jupyter.widget-view+json": {
       "model_id": "d6bf461cbd1046fb9a5313c502f92920",
       "version_major": 2,
       "version_minor": 0
      },
      "text/plain": [
       "HBox(children=(FloatProgress(value=0.0, max=21.0), HTML(value='')))"
      ]
     },
     "metadata": {},
     "output_type": "display_data"
    },
    {
     "name": "stdout",
     "output_type": "stream",
     "text": [
      "Games:     W, L, D      W, L, D       Win, Lose, Draw         score    epsilon\n",
      "    0: [X] 67,21,12 [O] 37,51,12 [XO] 51.8, 35.8, 12.4 [SCORE] 58.0 [ε] 0.700\n",
      "10000: [X] 95,3,2   [O] 74,25,1  [XO] 84.6, 13.7, 1.7  [SCORE] 85.4 [ε] 0.653\n",
      "20000: [X] 96,2,2   [O] 82,14,4  [XO] 88.8, 8.3, 2.9   [SCORE] 90.2 [ε] 0.607\n",
      "30000: [X] 96,1,3   [O] 83,12,5  [XO] 89.7, 6.1, 4.2   [SCORE] 91.8 [ε] 0.560\n",
      "40000: [X] 96,1,3   [O] 85,9,7   [XO] 90.4, 4.9, 4.7   [SCORE] 92.8 [ε] 0.513\n",
      "50000: [X] 97,0,3   [O] 86,10,4  [XO] 91.7, 5.0, 3.3   [SCORE] 93.4 [ε] 0.467\n",
      "60000: [X] 97,0,3   [O] 83,10,7  [XO] 89.8, 5.0, 5.2   [SCORE] 92.4 [ε] 0.420\n",
      "70000: [X] 96,0,4   [O] 85,3,12  [XO] 90.7, 1.6, 7.7   [SCORE] 94.5 [ε] 0.373\n",
      "80000: [X] 98,0,2   [O] 89,5,6   [XO] 93.3, 2.4, 4.3   [SCORE] 95.5 [ε] 0.327\n",
      "90000: [X] 97,1,2   [O] 89,4,7   [XO] 93.0, 2.8, 4.2   [SCORE] 95.1 [ε] 0.280\n",
      "100000: [X] 97,0,2   [O] 90,2,9   [XO] 93.6, 0.9, 5.5   [SCORE] 96.3 [ε] 0.233\n",
      "110000: [X] 97,0,3   [O] 90,0,9   [XO] 93.7, 0.2, 6.1   [SCORE] 96.8 [ε] 0.187\n",
      "120000: [X] 97,0,3   [O] 90,2,8   [XO] 93.5, 1.1, 5.4   [SCORE] 96.2 [ε] 0.140\n",
      "130000: [X] 96,0,4   [O] 87,1,13  [XO] 91.4, 0.3, 8.3   [SCORE] 95.6 [ε] 0.093\n",
      "140000: [X] 95,0,5   [O] 89,0,11  [XO] 92.0, 0.2, 7.8   [SCORE] 95.9 [ε] 0.047\n",
      "150000: [X] 97,0,3   [O] 91,0,9   [XO] 93.7, 0.0, 6.3   [SCORE] 96.9 [ε] 0.000\n",
      "160000: [X] 95,0,5   [O] 91,0,9   [XO] 93.1, 0.0, 6.9   [SCORE] 96.5 [ε] 0.000\n",
      "170000: [X] 94,0,6   [O] 90,0,10  [XO] 92.2, 0.0, 7.8   [SCORE] 96.1 [ε] 0.000\n",
      "180000: [X] 93,0,6   [O] 90,0,10  [XO] 91.6, 0.1, 8.3   [SCORE] 95.8 [ε] 0.000\n",
      "190000: [X] 94,0,6   [O] 87,0,13  [XO] 90.8, 0.0, 9.2   [SCORE] 95.4 [ε] 0.000\n",
      "200000: [X] 95,0,5   [O] 87,0,13  [XO] 91.1, 0.0, 8.9   [SCORE] 95.5 [ε] 0.000\n",
      "\n",
      "Training complete after 200000 iterations.\n"
     ]
    }
   ],
   "source": [
    "agent_q = Agent_NN_Q(name='Agent_Q', gamma=0.95, lr=0.1, epsilon=0.7,\n",
    "                       net=NN_Simple(), batch_size=32, memory_capacity=300,\n",
    "                      update_target_frequency = 10)\n",
    "\n",
    "train_agent(agent_q,  train_opponent=agent_0, test_opponent=agent_0,\n",
    "            max_games=200000, eps_anneal=150000, early_stop=False,\n",
    "            test_num_episodes=1000, train_num_episodes=10000, player_mark=-1)"
   ]
  },
  {
   "cell_type": "code",
   "execution_count": 22,
   "metadata": {},
   "outputs": [
    {
     "name": "stdout",
     "output_type": "stream",
     "text": [
      "Testing agent 'Agent_Q' for 1000 games vs:\n",
      "                 W, L, D      W, L, D       Win, Lose, Draw         score\n",
      "Agent_0:     [X] 96,0,4   [O] 88,0,12  [XO] 92.2, 0.0, 7.8   [SCORE] 96.1\n",
      "Agent_X:     [X] 95,0,5   [O] 0,0,100  [XO] 47.5, 0.0, 52.5  [SCORE] 73.8\n",
      "Agent_O:     [X] 0,0,100  [O] 89,0,11  [XO] 44.7, 0.0, 55.3  [SCORE] 72.3\n",
      "Agent_1:     [X] 0,0,100  [O] 0,0,100  [XO] 0.0, 0.0, 100.0  [SCORE] 50.0\n",
      "Agent_2:     [X] 95,0,5   [O] 54,0,46  [XO] 74.7, 0.0, 25.3  [SCORE] 87.4\n",
      "Agent_3:     [X] 0,0,100  [O] 0,0,100  [XO] 0.0, 0.0, 100.0  [SCORE] 50.0\n",
      "Agent_Q:     [X] 0,0,100  [O] 0,0,100  [XO] 0.0, 0.0, 100.0  [SCORE] 50.0\n",
      "\n"
     ]
    }
   ],
   "source": [
    "test_agent(agent=agent_q, opponents=[agent_0, agent_x, agent_o, agent_1, agent_2, agent_3, agent_q])"
   ]
  },
  {
   "cell_type": "markdown",
   "metadata": {},
   "source": [
    "После 200 тыс игр, наш агент показывает искомые результаты:  Обученный агент уверенно побеждает слабых противников и играет вничью с сильными. При этом ни разу не проигрывает!"
   ]
  },
  {
   "cell_type": "raw",
   "metadata": {},
   "source": [
    "Draft notes:\n",
    "\n",
    "LR tested 0.03, 0.1, 0.3; best = 0.3\n",
    "batch size tested 16, 32, 64 (@LR 0.1); best = 32\n",
    "memory capacity tested: 5, 20, 200, 2000; best = 200\n",
    "update_target_frequency tested: 2, 10, 100, 1000; best = 10  \n",
    "penalty for illegal moves: does help\n",
    "input split 3-way (X, O, blanks): does help\n",
    "Adam optimizer - worse, than SGD\n",
    "\n",
    "NN configs:\n",
    "27-72-36-9 - base case\n",
    "27-36-36-9 - worse\n",
    "27-144-36-9 - kinda worse\n",
    "base without sigmoid: worse\n",
    "conv 3 layers - way too slow and not better\n",
    "\n",
    "best training protocol:\n",
    "eps=0.7; max_games=200000, eps_anneal=150000, opponent = agent0, player_mark=-1"
   ]
  }
 ],
 "metadata": {
  "kernelspec": {
   "display_name": "Python 3",
   "language": "python",
   "name": "python3"
  },
  "language_info": {
   "codemirror_mode": {
    "name": "ipython",
    "version": 3
   },
   "file_extension": ".py",
   "mimetype": "text/x-python",
   "name": "python",
   "nbconvert_exporter": "python",
   "pygments_lexer": "ipython3",
   "version": "3.7.6"
  }
 },
 "nbformat": 4,
 "nbformat_minor": 2
}
